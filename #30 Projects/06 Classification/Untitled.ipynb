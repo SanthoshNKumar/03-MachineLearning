{
 "cells": [
  {
   "cell_type": "code",
   "execution_count": 14,
   "metadata": {},
   "outputs": [],
   "source": []
  },
  {
   "cell_type": "code",
   "execution_count": 15,
   "metadata": {},
   "outputs": [
    {
     "data": {
      "text/plain": [
       "'C:\\\\Users\\\\bmi_cims\\\\Desktop\\\\Projects\\\\06 Classification'"
      ]
     },
     "execution_count": 15,
     "metadata": {},
     "output_type": "execute_result"
    }
   ],
   "source": [
    "os.getcwd()"
   ]
  },
  {
   "cell_type": "code",
   "execution_count": 16,
   "metadata": {},
   "outputs": [],
   "source": []
  },
  {
   "cell_type": "code",
   "execution_count": 17,
   "metadata": {},
   "outputs": [
    {
     "data": {
      "text/plain": [
       "['.ipynb_checkpoints', 'Adult Salary Prediction']"
      ]
     },
     "execution_count": 17,
     "metadata": {},
     "output_type": "execute_result"
    }
   ],
   "source": [
    "lst_dir[:2]"
   ]
  },
  {
   "cell_type": "code",
   "execution_count": 19,
   "metadata": {},
   "outputs": [],
   "source": [
    "# os.rename(\"Machine Learning Project 1 - Adult Salary Prediction\",\"Adult Salary Prediction\")"
   ]
  },
  {
   "cell_type": "code",
   "execution_count": 21,
   "metadata": {},
   "outputs": [
    {
     "data": {
      "text/plain": [
       "39"
      ]
     },
     "execution_count": 21,
     "metadata": {},
     "output_type": "execute_result"
    }
   ],
   "source": [
    "len(lst_dir)"
   ]
  },
  {
   "cell_type": "code",
   "execution_count": 27,
   "metadata": {},
   "outputs": [
    {
     "name": "stdout",
     "output_type": "stream",
     "text": [
      ".ipynb_checkpoints\n",
      "Adult Salary Prediction\n",
      "Machine Learning Project 11 - Creadi Card Fraud Problem Handling Imbalanced Dataset\n",
      "Found!\n",
      " Creadi Card Fraud Problem Handling Imbalanced Dataset\n",
      "Machine Learning Project 12 - Hand Digit Recognition Using ML\n",
      "Found!\n",
      " Hand Digit Recognition Using ML\n",
      "Machine Learning Project 14 - Fraud Detection Using ML\n",
      "Found!\n",
      " Fraud Detection Using ML\n",
      "Machine Learning Project 16 - Flower Species Classification\n",
      "Found!\n",
      " Flower Species Classification\n",
      "Machine Learning Project 22 - Employee Turnover Prediction\n",
      "Found!\n",
      " Employee Turnover Prediction\n",
      "Machine Learning Project 24 - Dog Vs Cat Classification\n",
      "Found!\n",
      " Dog Vs Cat Classification\n",
      "Machine Learning Project 25 - Advanced Credit Card fraud Detection\n",
      "Found!\n",
      " Advanced Credit Card fraud Detection\n",
      "Machine Learning Project 26 - Cotton_Disease_Prediction\n",
      "Found!\n",
      " Cotton_Disease_Prediction\n",
      "Machine Learning Project 29 - Plant Diseases Recognition\n",
      "Found!\n",
      " Plant Diseases Recognition\n",
      "Machine Learning Project 30 - Pneumonia Classification\n",
      "Found!\n",
      " Pneumonia Classification\n",
      "Machine Learning Project 32 - Rain Fall Prediction\n",
      "Found!\n",
      " Rain Fall Prediction\n",
      "Machine Learning Project 33 - (Conceptual Analysis) Select Right Threhold Value using ROC curve\n",
      "Found!\n",
      " (Conceptual Analysis) Select Right Threhold Value using ROC curve\n",
      "Machine Learning Project 35 - Spam Classifier\n",
      "Found!\n",
      " Spam Classifier\n",
      "Machine Learning Project 40 - Titanic Survival Prediction\n",
      "Found!\n",
      " Titanic Survival Prediction\n",
      "Machine Learning Project 43 - Wine Quality Prediction\n",
      "Found!\n",
      " Wine Quality Prediction\n",
      "Machine Learning Project 46 - Breast Cancer Detection\n",
      "Found!\n",
      " Breast Cancer Detection\n",
      "Machine Learning Project 5 - Income Classification using ML\n",
      "Found!\n",
      " Income Classification using ML\n",
      "Machine Learning Project 52 - Wine Quality Prediction Analysis - Classification\n",
      "Found!\n",
      " Wine Quality Prediction Analysis \n",
      "Machine Learning Project 56 - Loan Prediction Analysis - Classification\n",
      "Found!\n",
      " Loan Prediction Analysis \n",
      "Machine Learning Project 57 - Iris dataset analysis - Classification\n",
      "Found!\n",
      " Iris dataset analysis \n",
      "Machine Learning Project 64 - Diabetes Classification\n",
      "Found!\n",
      " Diabetes Classification\n",
      "Machine Learning Project 65 - Heart Disease Prediction\n",
      "Found!\n",
      " Heart Disease Prediction\n",
      "Machine Learning Project 7 - Advandced Hyperparameter Tunning\n",
      "Found!\n",
      " Advandced Hyperparameter Tunning\n",
      "Machine Learning Project 9 - (HealthCare) Heart_Disease Prediction\n",
      "Found!\n",
      " (HealthCare) Heart_Disease Prediction\n",
      "Machine Learning Projects 104 - Bayesian Logistic Regression_bank marketing\n",
      "Found!\n",
      " Bayesian Logistic Regression_bank marketing\n",
      "Machine Learning Projects 107 - breast_cancer_prediction\n",
      "Found!\n",
      " breast_cancer_prediction\n",
      "Machine Learning Projects 120 - Solving A Simple Classification Problem with Python\n",
      "Found!\n",
      " Solving A Simple Classification Problem with Python\n",
      "Machine Learning Projects 123 - (Conceptual) Supervised Learning - Part II\n",
      "Found!\n",
      " (Conceptual) Supervised Learning \n",
      "Machine Learning Projects 128 - Weather Data Classification using Decision Trees\n",
      "Found!\n",
      " Weather Data Classification using Decision Trees\n",
      "Machine Learning Projects 135 - CLV_online_Retail\n",
      "Found!\n",
      " CLV_online_Retail\n",
      "Machine Learning Projects 137 - Consumer_complaints\n",
      "Found!\n",
      " Consumer_complaints\n",
      "Machine Learning Projects 140 - Employee_Turnover\n",
      "Found!\n",
      " Employee_Turnover\n",
      "Machine Learning Projects 143 - Logistic Regression balanced\n",
      "Found!\n",
      " Logistic Regression balanced\n",
      "Machine Learning Projects 145 - Machine Learning for Diabetes\n",
      "Found!\n",
      " Machine Learning for Diabetes\n",
      "Machine Learning Projects 153 - Advanced Uses of SHAP Values\n",
      "Found!\n",
      " Advanced Uses of SHAP Values\n",
      "Machine Learning Projects 78 - Drinking Water Potability\n",
      "Found!\n",
      " Drinking Water Potability\n",
      "Untitled.ipynb\n"
     ]
    }
   ],
   "source": [
    "import os, sys\n",
    "lst_dir = os.listdir(os.getcwd())\n",
    "\n",
    "for x in lst_dir:\n",
    "    print(x)\n",
    "    \n",
    "    if 'Machine Learning Project' in x:\n",
    "        print(\"Found!\")\n",
    "        \n",
    "        print(x.split('-')[1])\n",
    "        \n",
    "        os.rename(x,x.split('-')[1])\n",
    "        "
   ]
  },
  {
   "cell_type": "code",
   "execution_count": 2,
   "metadata": {},
   "outputs": [
    {
     "data": {
      "text/plain": [
       "'C:\\\\Users\\\\bmi_cims\\\\Desktop\\\\Projects\\\\06 Classification'"
      ]
     },
     "execution_count": 2,
     "metadata": {},
     "output_type": "execute_result"
    }
   ],
   "source": [
    "import os \n",
    "os.getcwd()"
   ]
  },
  {
   "cell_type": "code",
   "execution_count": 3,
   "metadata": {},
   "outputs": [],
   "source": [
    " arr = os.listdir()"
   ]
  },
  {
   "cell_type": "code",
   "execution_count": 4,
   "metadata": {},
   "outputs": [
    {
     "data": {
      "text/plain": [
       "['(Conceptual Analysis) Select Right Threhold Value using ROC curve',\n",
       " '(Conceptual) Supervised Learning',\n",
       " '(HealthCare) Heart_Disease Prediction',\n",
       " '.ipynb_checkpoints',\n",
       " 'Adult Salary Prediction',\n",
       " 'Advanced Credit Card fraud Detection',\n",
       " 'Advanced Uses of SHAP Values',\n",
       " 'Advandced Hyperparameter Tunning',\n",
       " 'Bayesian Logistic Regression_bank marketing',\n",
       " 'Breast Cancer Detection',\n",
       " 'Breast_Cancer_Prediction',\n",
       " 'CLV_online_Retail',\n",
       " 'Consumer_complaints',\n",
       " 'Cotton_Disease_Prediction',\n",
       " 'Creadi Card Fraud Problem Handling Imbalanced Dataset',\n",
       " 'Diabetes Classification',\n",
       " 'Dog Vs Cat Classification',\n",
       " 'Drinking Water Potability',\n",
       " 'Employee Turnover Prediction',\n",
       " 'Employee_Turnover',\n",
       " 'Flower Species Classification',\n",
       " 'Fraud Detection Using ML',\n",
       " 'Hand Digit Recognition Using ML',\n",
       " 'Heart Disease Prediction',\n",
       " 'Income Classification using ML',\n",
       " 'Iris dataset analysis',\n",
       " 'Loan Prediction Analysis',\n",
       " 'Logistic Regression balanced',\n",
       " 'Machine Learning for Diabetes',\n",
       " 'Plant Diseases Recognition',\n",
       " 'Pneumonia Classification',\n",
       " 'Rain Fall Prediction',\n",
       " 'Solving A Simple Classification Problem with Python',\n",
       " 'Spam Classifier',\n",
       " 'Titanic Survival Prediction',\n",
       " 'Untitled.ipynb',\n",
       " 'Weather Data Classification using Decision Trees',\n",
       " 'Wine Quality Prediction',\n",
       " 'Wine Quality Prediction Analysis']"
      ]
     },
     "execution_count": 4,
     "metadata": {},
     "output_type": "execute_result"
    }
   ],
   "source": [
    "arr"
   ]
  },
  {
   "cell_type": "code",
   "execution_count": 5,
   "metadata": {},
   "outputs": [],
   "source": [
    "import glob\n",
    "\n",
    "txtfiles = []\n",
    "for file in glob.glob(\"*.txt\"):\n",
    "    txtfiles.append(file)"
   ]
  },
  {
   "cell_type": "code",
   "execution_count": 6,
   "metadata": {},
   "outputs": [
    {
     "data": {
      "text/plain": [
       "[]"
      ]
     },
     "execution_count": 6,
     "metadata": {},
     "output_type": "execute_result"
    }
   ],
   "source": [
    "txtfiles"
   ]
  },
  {
   "cell_type": "code",
   "execution_count": null,
   "metadata": {},
   "outputs": [],
   "source": []
  }
 ],
 "metadata": {
  "kernelspec": {
   "display_name": "Python 3",
   "language": "python",
   "name": "python3"
  },
  "language_info": {
   "codemirror_mode": {
    "name": "ipython",
    "version": 3
   },
   "file_extension": ".py",
   "mimetype": "text/x-python",
   "name": "python",
   "nbconvert_exporter": "python",
   "pygments_lexer": "ipython3",
   "version": "3.6.8"
  }
 },
 "nbformat": 4,
 "nbformat_minor": 2
}
