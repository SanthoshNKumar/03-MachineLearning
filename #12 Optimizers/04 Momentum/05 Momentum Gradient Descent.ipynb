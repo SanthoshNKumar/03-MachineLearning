{
 "cells": [
  {
   "cell_type": "code",
   "execution_count": 1,
   "metadata": {},
   "outputs": [],
   "source": [
    "from __future__ import absolute_import\n",
    "from __future__ import division\n",
    "from __future__ import print_function\n",
    "\n",
    "import os\n",
    "import time\n",
    "\n",
    "import numpy as np\n",
    "import matplotlib.pyplot as plt\n",
    "%matplotlib inline\n",
    "\n",
    "from mpl_toolkits.mplot3d import Axes3D\n",
    "from matplotlib.colors import LogNorm\n",
    "from matplotlib import animation\n",
    "from IPython.display import HTML\n",
    "\n",
    "from itertools import zip_longest"
   ]
  },
  {
   "cell_type": "code",
   "execution_count": 2,
   "metadata": {},
   "outputs": [],
   "source": [
    "\n",
    "np.random.seed(219)\n",
    "N = 200\n",
    "a = 4\n",
    "b = -3\n",
    "low = -3.0\n",
    "high = 4.0\n",
    "data_x = np.random.uniform(low=low, high=high, size=N)\n",
    "data_y = np.zeros(N)\n",
    "for i, x in enumerate(data_x):\n",
    "  scale = - (x - low) * (x - high) / 3. + 1.5\n",
    "  data_y[i] = a * x + b + np.random.normal(loc=0.0, scale=scale, size=1)"
   ]
  },
  {
   "cell_type": "code",
   "execution_count": 3,
   "metadata": {},
   "outputs": [
    {
     "data": {
      "text/plain": [
       "[<matplotlib.lines.Line2D at 0x1c99463f708>]"
      ]
     },
     "execution_count": 3,
     "metadata": {},
     "output_type": "execute_result"
    },
    {
     "data": {
      "image/png": "[encoded data removed]",
      "text/plain": [
       "<Figure size 432x288 with 1 Axes>"
      ]
     },
     "metadata": {
      "needs_background": "light"
     },
     "output_type": "display_data"
    }
   ],
   "source": [
    "import matplotlib.pyplot as plt\n",
    "\n",
    "plt.plot(data_x, data_y, 'ro')\n"
   ]
  },
  {
   "cell_type": "code",
   "execution_count": 4,
   "metadata": {},
   "outputs": [],
   "source": [
    "w = 1.0\n",
    "b = 0.0\n",
    "\n",
    "lr = 0.1\n",
    "\n",
    "max_epochs = 100\n",
    "\n",
    "loss_history_gd = []\n",
    "w_history_gd = []\n",
    "b_history_gd = []\n",
    "iteration_gd = []"
   ]
  },
  {
   "cell_type": "code",
   "execution_count": 5,
   "metadata": {},
   "outputs": [],
   "source": [
    "for epoch in range(max_epochs):\n",
    "    \n",
    "    iteration_gd.append(epoch)\n",
    "    \n",
    "    # Inference : find y_pred\n",
    "    y_pred = w * data_x + b \n",
    "    \n",
    "    # loss_fn\n",
    "    loss =  0.5 * np.mean((y_pred - data_y)**2) \n",
    "    loss_history_gd.append(loss)\n",
    "    \n",
    "    # loss_history.append(loss)\n",
    "    w_history_gd.append(w)\n",
    "    b_history_gd.append(b)\n",
    "    \n",
    "    # loss_derivative\n",
    "    dw = np.mean((y_pred -  data_y) * data_x)\n",
    "    db = np.mean(y_pred - data_y)\n",
    "    \n",
    "    # weights_update\n",
    "    w = w - lr * dw\n",
    "    b = b - lr * db"
   ]
  },
  {
   "cell_type": "code",
   "execution_count": 6,
   "metadata": {},
   "outputs": [
    {
     "data": {
      "text/plain": [
       "[<matplotlib.lines.Line2D at 0x1c9969eb948>]"
      ]
     },
     "execution_count": 6,
     "metadata": {},
     "output_type": "execute_result"
    },
    {
     "data": {
      "image/png": "[encoded data removed]",
      "text/plain": [
       "<Figure size 432x288 with 1 Axes>"
      ]
     },
     "metadata": {
      "needs_background": "light"
     },
     "output_type": "display_data"
    }
   ],
   "source": [
    "import matplotlib.pyplot as plt\n",
    "\n",
    "plt.plot(iteration_gd,loss_history_gd)"
   ]
  },
  {
   "cell_type": "code",
   "execution_count": 7,
   "metadata": {},
   "outputs": [],
   "source": [
    "w = 1.0\n",
    "b = 0.0\n",
    "\n",
    "lr = 0.1\n",
    "\n",
    "max_epochs = 100\n",
    "\n",
    "loss_history_mom = []\n",
    "w_history_mom = []\n",
    "b_history_mom = []\n",
    "iteration_mom = []\n",
    "momentum = 0.2\n",
    "vw = 0.0\n",
    "vb = 0.0\n",
    "\n",
    "for epoch in range(max_epochs):\n",
    "    \n",
    "    iteration_mom.append(epoch)\n",
    "    \n",
    "    # Inference : find y_pred\n",
    "    y_pred = w * data_x + b\n",
    "    \n",
    "    # loss_fn\n",
    "    loss =  0.5 * np.mean((y_pred - data_y)**2)\n",
    "    loss_history_mom.append(loss)\n",
    "    \n",
    "    # loss_history.append(loss)\n",
    "    w_history_mom.append(w)\n",
    "    b_history_mom.append(b)\n",
    "    \n",
    "    # loss_derivative\n",
    "    dw = np.mean((y_pred -  data_y) * data_x)\n",
    "    db = np.mean(y_pred - data_y)\n",
    "    \n",
    "    \n",
    "    # weights_update Momentum\n",
    "    vw = momentum * vw - lr * dw\n",
    "    w = w + vw\n",
    "    vb = momentum * vb - lr * db\n",
    "    b = b + vb"
   ]
  },
  {
   "cell_type": "code",
   "execution_count": 8,
   "metadata": {},
   "outputs": [
    {
     "data": {
      "text/plain": [
       "[<matplotlib.lines.Line2D at 0x1c996a54e88>]"
      ]
     },
     "execution_count": 8,
     "metadata": {},
     "output_type": "execute_result"
    },
    {
     "data": {
      "image/png": "[encoded data removed]",
      "text/plain": [
       "<Figure size 432x288 with 1 Axes>"
      ]
     },
     "metadata": {
      "needs_background": "light"
     },
     "output_type": "display_data"
    }
   ],
   "source": [
    "plt.plot(iteration_mom,loss_history_mom)"
   ]
  },
  {
   "cell_type": "code",
   "execution_count": 9,
   "metadata": {},
   "outputs": [
    {
     "data": {
      "text/plain": [
       "[<matplotlib.lines.Line2D at 0x1c996a90a48>]"
      ]
     },
     "execution_count": 9,
     "metadata": {},
     "output_type": "execute_result"
    },
    {
     "data": {
      "image/png": "[encoded data removed]",
      "text/plain": [
       "<Figure size 432x288 with 1 Axes>"
      ]
     },
     "metadata": {
      "needs_background": "light"
     },
     "output_type": "display_data"
    }
   ],
   "source": [
    "plt.plot(iteration_gd,loss_history_gd)\n",
    "\n",
    "plt.plot(iteration_mom,loss_history_mom)"
   ]
  },
  {
   "cell_type": "code",
   "execution_count": null,
   "metadata": {},
   "outputs": [],
   "source": []
  },
  {
   "cell_type": "code",
   "execution_count": null,
   "metadata": {},
   "outputs": [],
   "source": []
  }
 ],
 "metadata": {
  "kernelspec": {
   "display_name": "Python 3",
   "language": "python",
   "name": "python3"
  },
  "language_info": {
   "codemirror_mode": {
    "name": "ipython",
    "version": 3
   },
   "file_extension": ".py",
   "mimetype": "text/x-python",
   "name": "python",
   "nbconvert_exporter": "python",
   "pygments_lexer": "ipython3",
   "version": "3.7.4"
  }
 },
 "nbformat": 4,
 "nbformat_minor": 2
}
