{
 "cells": [
  {
   "cell_type": "code",
   "execution_count": 15,
   "metadata": {},
   "outputs": [],
   "source": [
    "# NAG : Nesterov accelerated gradient"
   ]
  },
  {
   "cell_type": "code",
   "execution_count": 16,
   "metadata": {},
   "outputs": [],
   "source": [
    "import numpy as np\n",
    "import pandas as pd\n",
    "from sklearn.preprocessing import StandardScaler\n",
    "\n",
    "df = pd.read_csv(\"concrete_data.csv\")\n"
   ]
  },
  {
   "cell_type": "code",
   "execution_count": 17,
   "metadata": {},
   "outputs": [
    {
     "data": {
      "text/html": [
       "<div>\n",
       "<style scoped>\n",
       "    .dataframe tbody tr th:only-of-type {\n",
       "        vertical-align: middle;\n",
       "    }\n",
       "\n",
       "    .dataframe tbody tr th {\n",
       "        vertical-align: top;\n",
       "    }\n",
       "\n",
       "    .dataframe thead th {\n",
       "        text-align: right;\n",
       "    }\n",
       "</style>\n",
       "<table border=\"1\" class=\"dataframe\">\n",
       "  <thead>\n",
       "    <tr style=\"text-align: right;\">\n",
       "      <th></th>\n",
       "      <th>cement_component</th>\n",
       "      <th>furnace_slag</th>\n",
       "      <th>flay_ash</th>\n",
       "      <th>water_component</th>\n",
       "      <th>superplasticizer</th>\n",
       "      <th>coarse_aggregate</th>\n",
       "      <th>fine_aggregate</th>\n",
       "      <th>age</th>\n",
       "      <th>concrete_strength</th>\n",
       "    </tr>\n",
       "  </thead>\n",
       "  <tbody>\n",
       "    <tr>\n",
       "      <td>0</td>\n",
       "      <td>540.0</td>\n",
       "      <td>0.0</td>\n",
       "      <td>0.0</td>\n",
       "      <td>162.0</td>\n",
       "      <td>2.5</td>\n",
       "      <td>1040.0</td>\n",
       "      <td>676.0</td>\n",
       "      <td>28</td>\n",
       "      <td>79.99</td>\n",
       "    </tr>\n",
       "    <tr>\n",
       "      <td>1</td>\n",
       "      <td>540.0</td>\n",
       "      <td>0.0</td>\n",
       "      <td>0.0</td>\n",
       "      <td>162.0</td>\n",
       "      <td>2.5</td>\n",
       "      <td>1055.0</td>\n",
       "      <td>676.0</td>\n",
       "      <td>28</td>\n",
       "      <td>61.89</td>\n",
       "    </tr>\n",
       "    <tr>\n",
       "      <td>2</td>\n",
       "      <td>332.5</td>\n",
       "      <td>142.5</td>\n",
       "      <td>0.0</td>\n",
       "      <td>228.0</td>\n",
       "      <td>0.0</td>\n",
       "      <td>932.0</td>\n",
       "      <td>594.0</td>\n",
       "      <td>270</td>\n",
       "      <td>40.27</td>\n",
       "    </tr>\n",
       "  </tbody>\n",
       "</table>\n",
       "</div>"
      ],
      "text/plain": [
       "   cement_component  furnace_slag  flay_ash  water_component  \\\n",
       "0             540.0           0.0       0.0            162.0   \n",
       "1             540.0           0.0       0.0            162.0   \n",
       "2             332.5         142.5       0.0            228.0   \n",
       "\n",
       "   superplasticizer  coarse_aggregate  fine_aggregate  age  concrete_strength  \n",
       "0               2.5            1040.0           676.0   28              79.99  \n",
       "1               2.5            1055.0           676.0   28              61.89  \n",
       "2               0.0             932.0           594.0  270              40.27  "
      ]
     },
     "execution_count": 17,
     "metadata": {},
     "output_type": "execute_result"
    }
   ],
   "source": [
    "df.head(3)"
   ]
  },
  {
   "cell_type": "code",
   "execution_count": 18,
   "metadata": {},
   "outputs": [
    {
     "data": {
      "text/plain": [
       "array([[0.],\n",
       "       [0.],\n",
       "       [0.],\n",
       "       [0.],\n",
       "       [0.],\n",
       "       [0.],\n",
       "       [0.],\n",
       "       [0.],\n",
       "       [0.]])"
      ]
     },
     "execution_count": 18,
     "metadata": {},
     "output_type": "execute_result"
    }
   ],
   "source": [
    "X = df.drop(['concrete_strength'],axis=1).values\n",
    "\n",
    "y = df['concrete_strength'].values\n",
    "\n",
    "scaler = StandardScaler()\n",
    "scaler.fit(X)\n",
    "X = scaler.transform(X)\n",
    "\n",
    "learningrate = 0.1\n",
    "\n",
    "m = len(y)\n",
    "\n",
    "ones = np.ones((m,1)) \n",
    "X = np.hstack((ones, X)) \n",
    "y = y[:,np.newaxis] \n",
    "\n",
    "theta = np.zeros(( X.shape[1],1))\n",
    "\n",
    "theta"
   ]
  },
  {
   "cell_type": "code",
   "execution_count": 19,
   "metadata": {},
   "outputs": [],
   "source": [
    "# Momentum Gradient Descent\n",
    "\n",
    "m = len(X)\n",
    "epochs = 1000\n",
    "gamma = 0.1 # momentun\n",
    "eta = 0.1 # Learning rate\n",
    "\n",
    "v_b,v_w = 0,0\n",
    "\n",
    "iteration_mom = []\n",
    "loss_history_mom = []"
   ]
  },
  {
   "cell_type": "code",
   "execution_count": 20,
   "metadata": {},
   "outputs": [],
   "source": [
    "for epoch in range(1000):\n",
    "    \n",
    "    iteration_mom.append(epoch)\n",
    "\n",
    "    # Prediction\n",
    "    y_pred = np.dot(X,theta)\n",
    "\n",
    "    # Error\n",
    "    error = y_pred-y\n",
    "\n",
    "    # Compute loss function\n",
    "    cost = np.sum((error)**2,axis=0)[0]\n",
    "\n",
    "    loss_history_mom.append(cost)\n",
    "    \n",
    "    v_b = gamma * v_b\n",
    "    v_w = gamma * v_w\n",
    "\n",
    "    theta[:0] = theta[:0] - v_b # theta[:0] = b\n",
    "    theta[1:] = theta[1:] - v_w # theta[1:] = w\n",
    "\n",
    "    # Derivatie of Loss function\n",
    "    dtheta = 1/m*np.sum((X.dot(theta)-y)*X,axis=0).reshape(-1,1)\n",
    "\n",
    "    v_b = v_b + eta * dtheta[:0]\n",
    "    v_w = v_w + eta * dtheta[1:]\n",
    "\n",
    "    theta[:0] = theta[:0] - v_b\n",
    "    theta[1:] = theta[1:] - v_w"
   ]
  },
  {
   "cell_type": "code",
   "execution_count": 22,
   "metadata": {},
   "outputs": [
    {
     "data": {
      "image/png": "[encoded data removed]",
      "text/plain": [
       "<Figure size 432x288 with 1 Axes>"
      ]
     },
     "metadata": {
      "needs_background": "light"
     },
     "output_type": "display_data"
    }
   ],
   "source": [
    "import matplotlib.pyplot as plt\n",
    "plt.plot(iteration_mom,loss_history_mom)\n",
    "plt.xlabel(\"Iteration\")\n",
    "plt.ylabel(\"Cost\")\n",
    "plt.grid()"
   ]
  },
  {
   "cell_type": "code",
   "execution_count": null,
   "metadata": {},
   "outputs": [],
   "source": []
  }
 ],
 "metadata": {
  "kernelspec": {
   "display_name": "Python 3",
   "language": "python",
   "name": "python3"
  },
  "language_info": {
   "codemirror_mode": {
    "name": "ipython",
    "version": 3
   },
   "file_extension": ".py",
   "mimetype": "text/x-python",
   "name": "python",
   "nbconvert_exporter": "python",
   "pygments_lexer": "ipython3",
   "version": "3.7.4"
  }
 },
 "nbformat": 4,
 "nbformat_minor": 2
}
