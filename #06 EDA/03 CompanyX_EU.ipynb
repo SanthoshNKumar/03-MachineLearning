{
 "cells": [
  {
   "cell_type": "markdown",
   "metadata": {},
   "source": [
    "# DOMAIN: Startup ecosystem\n",
    "\n",
    "### CONTEXT: Company X is a EU online publisher focusing on the startups industry. The company specifically reports on the business related to technology news, analysis of emerging trends and profiling of new tech businesses and products. Their event i.e. Startup Battlefield is the world’s pre-eminent startup competition. Startup Battlefield features 15-30 top early stage startups pitching top judges in front of a vast live audience, present in person and online.\n",
    "\n",
    "* DATA DESCRIPTION: CompanyX_EU.csv - Each row in the dataset is a Start-up company and the columns describe the company. ATTRIBUTE\n",
    "\n",
    "#### INFORMATION:\n",
    "1. Startup: Name of the company\n",
    "2. Product: Actual product\n",
    "3. Funding: Funds raised by the company in USD\n",
    "4. Event: The event the company participated in\n",
    "5. Result: Described by Contestant, Finalist, Audience choice, Winner or Runner up\n",
    "6. OperatingState: Current status of the company, Operating ,Closed, Acquired or IPO\n",
    "7. Dataset has been downloaded from the internet. All the credit for the dataset goes to the original creator of the data."
   ]
  },
  {
   "cell_type": "code",
   "execution_count": 377,
   "metadata": {},
   "outputs": [],
   "source": [
    "# import necessary packages\n",
    "\n",
    "# for data handling\n",
    "import numpy as np\n",
    "import pandas as pd\n",
    "\n",
    "# for plots and visualization\n",
    "import matplotlib.pyplot as plt\n",
    "import seaborn as sns\n",
    "%matplotlib inline\n",
    "\n",
    "# for inferential statistics\n",
    "import scipy.stats as stats"
   ]
  },
  {
   "cell_type": "markdown",
   "metadata": {},
   "source": [
    "## Data Warehouse\n",
    "#### Read the CSV file"
   ]
  },
  {
   "cell_type": "code",
   "execution_count": 378,
   "metadata": {},
   "outputs": [],
   "source": [
    "# read the csv file\n",
    "\n",
    "startup_data = pd.read_csv('CompanyX_EU.csv')"
   ]
  },
  {
   "cell_type": "markdown",
   "metadata": {},
   "source": [
    "## Data Exploration\n",
    "#### 1. Check the datatypes of each attribute.\n",
    "#### 2. Check the null values in the attributes"
   ]
  },
  {
   "cell_type": "code",
   "execution_count": 379,
   "metadata": {},
   "outputs": [
    {
     "name": "stdout",
     "output_type": "stream",
     "text": [
      "<class 'pandas.core.frame.DataFrame'>\n",
      "RangeIndex: 662 entries, 0 to 661\n",
      "Data columns (total 6 columns):\n",
      " #   Column          Non-Null Count  Dtype \n",
      "---  ------          --------------  ----- \n",
      " 0   Startup         662 non-null    object\n",
      " 1   Product         656 non-null    object\n",
      " 2   Funding         448 non-null    object\n",
      " 3   Event           662 non-null    object\n",
      " 4   Result          662 non-null    object\n",
      " 5   OperatingState  662 non-null    object\n",
      "dtypes: object(6)\n",
      "memory usage: 31.2+ KB\n"
     ]
    }
   ],
   "source": [
    "# data information- check data types\n",
    "startup_data.info()"
   ]
  },
  {
   "cell_type": "raw",
   "metadata": {},
   "source": [
    "From the above details, its clear that all the data types are of object types"
   ]
  },
  {
   "cell_type": "code",
   "execution_count": 380,
   "metadata": {},
   "outputs": [
    {
     "data": {
      "text/plain": [
       "Startup             0\n",
       "Product             6\n",
       "Funding           214\n",
       "Event               0\n",
       "Result              0\n",
       "OperatingState      0\n",
       "dtype: int64"
      ]
     },
     "execution_count": 380,
     "metadata": {},
     "output_type": "execute_result"
    }
   ],
   "source": [
    "# check for the null values\n",
    "\n",
    "startup_data.isnull().sum()"
   ]
  },
  {
   "cell_type": "raw",
   "metadata": {},
   "source": [
    "We have total 6 null values present in attribute Product and 214 in attribute Funding."
   ]
  },
  {
   "cell_type": "markdown",
   "metadata": {},
   "source": [
    "## Data Exploration\n",
    "\n",
    "#### 1. Drop the null values.\n",
    "#### 2. Convert the ‘Funding’ features to a numerical value.\n",
    "#### 3. Plot box plot for funds in million.\n",
    "#### 4. Get the lower fence from the box plot.\n",
    "#### 5. Check number of outliers greater than upper fence.\n",
    "#### 6. Drop the values that are greater than upper fence.\n",
    "#### 7. Plot the box plot after dropping the values.\n",
    "#### 8. Check frequency of the OperatingState features classes.\n",
    "#### 9. Plot a distribution plot for Funds in million.\n",
    "#### 10. Plot distribution plots for companies still operating and companies that closed."
   ]
  },
  {
   "cell_type": "code",
   "execution_count": 381,
   "metadata": {},
   "outputs": [
    {
     "name": "stdout",
     "output_type": "stream",
     "text": [
      "<class 'pandas.core.frame.DataFrame'>\n",
      "Int64Index: 446 entries, 1 to 661\n",
      "Data columns (total 6 columns):\n",
      " #   Column          Non-Null Count  Dtype \n",
      "---  ------          --------------  ----- \n",
      " 0   Startup         446 non-null    object\n",
      " 1   Product         446 non-null    object\n",
      " 2   Funding         446 non-null    object\n",
      " 3   Event           446 non-null    object\n",
      " 4   Result          446 non-null    object\n",
      " 5   OperatingState  446 non-null    object\n",
      "dtypes: object(6)\n",
      "memory usage: 24.4+ KB\n"
     ]
    }
   ],
   "source": [
    "# drop the null values\n",
    "\n",
    "startup_data = startup_data.dropna()\n",
    "startup_data.info()"
   ]
  },
  {
   "cell_type": "code",
   "execution_count": 382,
   "metadata": {},
   "outputs": [
    {
     "data": {
      "text/plain": [
       "Startup           0\n",
       "Product           0\n",
       "Funding           0\n",
       "Event             0\n",
       "Result            0\n",
       "OperatingState    0\n",
       "dtype: int64"
      ]
     },
     "execution_count": 382,
     "metadata": {},
     "output_type": "execute_result"
    }
   ],
   "source": [
    "# check null values\n",
    "startup_data.isnull().sum()"
   ]
  },
  {
   "cell_type": "raw",
   "metadata": {},
   "source": [
    "There are no null values present in the dataset."
   ]
  },
  {
   "cell_type": "code",
   "execution_count": 383,
   "metadata": {},
   "outputs": [
    {
     "data": {
      "text/plain": [
       "1      $630K\n",
       "3        $1M\n",
       "5     $19.3M\n",
       "6       $29M\n",
       "10     $1.8M\n",
       "Name: Funding, dtype: object"
      ]
     },
     "execution_count": 383,
     "metadata": {},
     "output_type": "execute_result"
    }
   ],
   "source": [
    "# lets check the column 'Funding'\n",
    "startup_data['Funding'].head()"
   ]
  },
  {
   "cell_type": "raw",
   "metadata": {},
   "source": [
    "Here, in the above case, we can see that the values are in currency (with $ sign and object type) which should be converted in to numeric data type to perform any mathematical calculations."
   ]
  },
  {
   "cell_type": "code",
   "execution_count": 384,
   "metadata": {},
   "outputs": [],
   "source": [
    "# create a user defined function to convert currency into numeric data types\n",
    "\n",
    "def convert_currency(x):\n",
    "    y = x.replace('$','')\n",
    "    if y[-1:] == 'K':\n",
    "        j = float(y.replace('K',''))*1000\n",
    "    elif y[-1:] == 'M':\n",
    "        j = float(y.replace('M',''))*1000000\n",
    "    elif y[-1:] == 'B':\n",
    "        j = float(y.replace('B',''))*1000000000\n",
    "    else:\n",
    "        j = float(y)\n",
    "    \n",
    "    return j"
   ]
  },
  {
   "cell_type": "code",
   "execution_count": 385,
   "metadata": {},
   "outputs": [],
   "source": [
    "startup_data['new_Funding'] = startup_data['Funding'].apply(convert_currency)"
   ]
  },
  {
   "cell_type": "code",
   "execution_count": 386,
   "metadata": {},
   "outputs": [],
   "source": [
    "startup_data['Funds_in_Million'] = startup_data['new_Funding']/1000000"
   ]
  },
  {
   "cell_type": "raw",
   "metadata": {},
   "source": [
    "After removing the null values, the index values has been changes and there are missing values for index. So we have to reset the index values."
   ]
  },
  {
   "cell_type": "code",
   "execution_count": 387,
   "metadata": {},
   "outputs": [],
   "source": [
    "startup_data = startup_data.reset_index()"
   ]
  },
  {
   "cell_type": "code",
   "execution_count": 388,
   "metadata": {},
   "outputs": [
    {
     "data": {
      "text/html": [
       "<div>\n",
       "<style scoped>\n",
       "    .dataframe tbody tr th:only-of-type {\n",
       "        vertical-align: middle;\n",
       "    }\n",
       "\n",
       "    .dataframe tbody tr th {\n",
       "        vertical-align: top;\n",
       "    }\n",
       "\n",
       "    .dataframe thead th {\n",
       "        text-align: right;\n",
       "    }\n",
       "</style>\n",
       "<table border=\"1\" class=\"dataframe\">\n",
       "  <thead>\n",
       "    <tr style=\"text-align: right;\">\n",
       "      <th></th>\n",
       "      <th>index</th>\n",
       "      <th>Startup</th>\n",
       "      <th>Product</th>\n",
       "      <th>Funding</th>\n",
       "      <th>Event</th>\n",
       "      <th>Result</th>\n",
       "      <th>OperatingState</th>\n",
       "      <th>new_Funding</th>\n",
       "      <th>Funds_in_Million</th>\n",
       "    </tr>\n",
       "  </thead>\n",
       "  <tbody>\n",
       "    <tr>\n",
       "      <th>0</th>\n",
       "      <td>1</td>\n",
       "      <td>3DLT</td>\n",
       "      <td>3dlt.com</td>\n",
       "      <td>$630K</td>\n",
       "      <td>Disrupt NYC 2013</td>\n",
       "      <td>Contestant</td>\n",
       "      <td>Closed</td>\n",
       "      <td>630000.0</td>\n",
       "      <td>0.63</td>\n",
       "    </tr>\n",
       "    <tr>\n",
       "      <th>1</th>\n",
       "      <td>3</td>\n",
       "      <td>3Dprintler</td>\n",
       "      <td>3dprintler.com</td>\n",
       "      <td>$1M</td>\n",
       "      <td>Disrupt NY 2016</td>\n",
       "      <td>Audience choice</td>\n",
       "      <td>Operating</td>\n",
       "      <td>1000000.0</td>\n",
       "      <td>1.00</td>\n",
       "    </tr>\n",
       "    <tr>\n",
       "      <th>2</th>\n",
       "      <td>5</td>\n",
       "      <td>5to1</td>\n",
       "      <td>5to1.com</td>\n",
       "      <td>$19.3M</td>\n",
       "      <td>TC50 2009</td>\n",
       "      <td>Contestant</td>\n",
       "      <td>Acquired</td>\n",
       "      <td>19300000.0</td>\n",
       "      <td>19.30</td>\n",
       "    </tr>\n",
       "    <tr>\n",
       "      <th>3</th>\n",
       "      <td>6</td>\n",
       "      <td>8 Securities</td>\n",
       "      <td>8securities.com</td>\n",
       "      <td>$29M</td>\n",
       "      <td>Disrupt Beijing 2011</td>\n",
       "      <td>Finalist</td>\n",
       "      <td>Operating</td>\n",
       "      <td>29000000.0</td>\n",
       "      <td>29.00</td>\n",
       "    </tr>\n",
       "    <tr>\n",
       "      <th>4</th>\n",
       "      <td>10</td>\n",
       "      <td>AdhereTech</td>\n",
       "      <td>adheretech.com</td>\n",
       "      <td>$1.8M</td>\n",
       "      <td>Hardware Battlefield 2014</td>\n",
       "      <td>Contestant</td>\n",
       "      <td>Operating</td>\n",
       "      <td>1800000.0</td>\n",
       "      <td>1.80</td>\n",
       "    </tr>\n",
       "    <tr>\n",
       "      <th>...</th>\n",
       "      <td>...</td>\n",
       "      <td>...</td>\n",
       "      <td>...</td>\n",
       "      <td>...</td>\n",
       "      <td>...</td>\n",
       "      <td>...</td>\n",
       "      <td>...</td>\n",
       "      <td>...</td>\n",
       "      <td>...</td>\n",
       "    </tr>\n",
       "    <tr>\n",
       "      <th>441</th>\n",
       "      <td>657</td>\n",
       "      <td>Zivity</td>\n",
       "      <td>zivity.com</td>\n",
       "      <td>$8M</td>\n",
       "      <td>TC40 2007</td>\n",
       "      <td>Contestant</td>\n",
       "      <td>Operating</td>\n",
       "      <td>8000000.0</td>\n",
       "      <td>8.00</td>\n",
       "    </tr>\n",
       "    <tr>\n",
       "      <th>442</th>\n",
       "      <td>658</td>\n",
       "      <td>Zmorph</td>\n",
       "      <td>zmorph3d.com</td>\n",
       "      <td>$1M</td>\n",
       "      <td>-</td>\n",
       "      <td>Audience choice</td>\n",
       "      <td>Operating</td>\n",
       "      <td>1000000.0</td>\n",
       "      <td>1.00</td>\n",
       "    </tr>\n",
       "    <tr>\n",
       "      <th>443</th>\n",
       "      <td>659</td>\n",
       "      <td>Zocdoc</td>\n",
       "      <td>zocdoc.com</td>\n",
       "      <td>$223M</td>\n",
       "      <td>TC40 2007</td>\n",
       "      <td>Contestant</td>\n",
       "      <td>Operating</td>\n",
       "      <td>223000000.0</td>\n",
       "      <td>223.00</td>\n",
       "    </tr>\n",
       "    <tr>\n",
       "      <th>444</th>\n",
       "      <td>660</td>\n",
       "      <td>Zula</td>\n",
       "      <td>zulaapp.com</td>\n",
       "      <td>$3.4M</td>\n",
       "      <td>Disrupt SF 2013</td>\n",
       "      <td>Audience choice</td>\n",
       "      <td>Operating</td>\n",
       "      <td>3400000.0</td>\n",
       "      <td>3.40</td>\n",
       "    </tr>\n",
       "    <tr>\n",
       "      <th>445</th>\n",
       "      <td>661</td>\n",
       "      <td>Zumper</td>\n",
       "      <td>zumper.com</td>\n",
       "      <td>$31.5M</td>\n",
       "      <td>Disrupt SF 2012</td>\n",
       "      <td>Finalist</td>\n",
       "      <td>Operating</td>\n",
       "      <td>31500000.0</td>\n",
       "      <td>31.50</td>\n",
       "    </tr>\n",
       "  </tbody>\n",
       "</table>\n",
       "<p>446 rows × 9 columns</p>\n",
       "</div>"
      ],
      "text/plain": [
       "     index       Startup          Product Funding                      Event  \\\n",
       "0        1          3DLT         3dlt.com   $630K           Disrupt NYC 2013   \n",
       "1        3    3Dprintler   3dprintler.com     $1M            Disrupt NY 2016   \n",
       "2        5          5to1         5to1.com  $19.3M                  TC50 2009   \n",
       "3        6  8 Securities  8securities.com    $29M       Disrupt Beijing 2011   \n",
       "4       10    AdhereTech   adheretech.com   $1.8M  Hardware Battlefield 2014   \n",
       "..     ...           ...              ...     ...                        ...   \n",
       "441    657        Zivity       zivity.com     $8M                  TC40 2007   \n",
       "442    658        Zmorph     zmorph3d.com     $1M                          -   \n",
       "443    659        Zocdoc       zocdoc.com   $223M                  TC40 2007   \n",
       "444    660          Zula      zulaapp.com   $3.4M            Disrupt SF 2013   \n",
       "445    661        Zumper       zumper.com  $31.5M            Disrupt SF 2012   \n",
       "\n",
       "              Result OperatingState  new_Funding  Funds_in_Million  \n",
       "0         Contestant         Closed     630000.0              0.63  \n",
       "1    Audience choice      Operating    1000000.0              1.00  \n",
       "2         Contestant       Acquired   19300000.0             19.30  \n",
       "3           Finalist      Operating   29000000.0             29.00  \n",
       "4         Contestant      Operating    1800000.0              1.80  \n",
       "..               ...            ...          ...               ...  \n",
       "441       Contestant      Operating    8000000.0              8.00  \n",
       "442  Audience choice      Operating    1000000.0              1.00  \n",
       "443       Contestant      Operating  223000000.0            223.00  \n",
       "444  Audience choice      Operating    3400000.0              3.40  \n",
       "445         Finalist      Operating   31500000.0             31.50  \n",
       "\n",
       "[446 rows x 9 columns]"
      ]
     },
     "execution_count": 388,
     "metadata": {},
     "output_type": "execute_result"
    }
   ],
   "source": [
    "startup_data"
   ]
  },
  {
   "cell_type": "code",
   "execution_count": 389,
   "metadata": {},
   "outputs": [
    {
     "data": {
      "image/png": "[encoded data removed]",
      "text/plain": [
       "<Figure size 432x288 with 1 Axes>"
      ]
     },
     "metadata": {
      "needs_background": "light"
     },
     "output_type": "display_data"
    }
   ],
   "source": [
    "# Plot box plot for funds in million\n",
    "figure = plt.boxplot(startup_data.Funds_in_Million)\n",
    "plt.title('Boxplot | Funds in Million')\n",
    "plt.ylabel(\"Funds raised (in Million)\")\n",
    "\n",
    "plt.show()"
   ]
  },
  {
   "cell_type": "code",
   "execution_count": 390,
   "metadata": {},
   "outputs": [
    {
     "data": {
      "text/plain": [
       "0.005"
      ]
     },
     "execution_count": 390,
     "metadata": {},
     "output_type": "execute_result"
    }
   ],
   "source": [
    "# get the lower_fence from the box plot\n",
    "\n",
    "figure['caps'][0].get_data()[1][1]"
   ]
  },
  {
   "cell_type": "raw",
   "metadata": {},
   "source": [
    "Here, the box plot are very compacted due to outliers.\n",
    "\n",
    "From the box plot, the lower value is 0."
   ]
  },
  {
   "cell_type": "code",
   "execution_count": 391,
   "metadata": {},
   "outputs": [],
   "source": [
    "# find IQR and first, second, and third quartiles.\n",
    "\n",
    "IQR = stats.iqr(startup_data['Funds_in_Million'], interpolation='midpoint')\n",
    "Q1 = np.quantile(startup_data['Funds_in_Million'], .25)\n",
    "Q2 = np.quantile(startup_data['Funds_in_Million'], .50)\n",
    "Q3 = np.quantile(startup_data['Funds_in_Million'], .75)"
   ]
  },
  {
   "cell_type": "code",
   "execution_count": 392,
   "metadata": {},
   "outputs": [
    {
     "name": "stdout",
     "output_type": "stream",
     "text": [
      "IQR:  8.7045\n",
      "Upper Fence:  35.5885\n"
     ]
    }
   ],
   "source": [
    "# find the upper fence\n",
    "\n",
    "upper_fence = Q3 + 3*IQR\n",
    "print('IQR: ',IQR.round(4))\n",
    "print('Upper Fence: ',upper_fence.round(4))"
   ]
  },
  {
   "cell_type": "code",
   "execution_count": 393,
   "metadata": {},
   "outputs": [
    {
     "data": {
      "text/html": [
       "<div>\n",
       "<style scoped>\n",
       "    .dataframe tbody tr th:only-of-type {\n",
       "        vertical-align: middle;\n",
       "    }\n",
       "\n",
       "    .dataframe tbody tr th {\n",
       "        vertical-align: top;\n",
       "    }\n",
       "\n",
       "    .dataframe thead th {\n",
       "        text-align: right;\n",
       "    }\n",
       "</style>\n",
       "<table border=\"1\" class=\"dataframe\">\n",
       "  <thead>\n",
       "    <tr style=\"text-align: right;\">\n",
       "      <th></th>\n",
       "      <th>index</th>\n",
       "      <th>Startup</th>\n",
       "      <th>Product</th>\n",
       "      <th>Funding</th>\n",
       "      <th>Event</th>\n",
       "      <th>Result</th>\n",
       "      <th>OperatingState</th>\n",
       "      <th>new_Funding</th>\n",
       "      <th>Funds_in_Million</th>\n",
       "    </tr>\n",
       "  </thead>\n",
       "  <tbody>\n",
       "    <tr>\n",
       "      <th>21</th>\n",
       "      <td>40</td>\n",
       "      <td>Artsy</td>\n",
       "      <td>artsy.net</td>\n",
       "      <td>$50.9M</td>\n",
       "      <td>Disrupt NYC 2010</td>\n",
       "      <td>Contestant</td>\n",
       "      <td>Operating</td>\n",
       "      <td>5.090000e+07</td>\n",
       "      <td>50.9</td>\n",
       "    </tr>\n",
       "    <tr>\n",
       "      <th>27</th>\n",
       "      <td>49</td>\n",
       "      <td>Badgeville</td>\n",
       "      <td>badgeville.com</td>\n",
       "      <td>$40M</td>\n",
       "      <td>Disrupt SF 2010</td>\n",
       "      <td>Finalist</td>\n",
       "      <td>Acquired</td>\n",
       "      <td>4.000000e+07</td>\n",
       "      <td>40.0</td>\n",
       "    </tr>\n",
       "    <tr>\n",
       "      <th>33</th>\n",
       "      <td>56</td>\n",
       "      <td>Betterment</td>\n",
       "      <td>betterment.com</td>\n",
       "      <td>$205M</td>\n",
       "      <td>Disrupt NYC 2010</td>\n",
       "      <td>Finalist</td>\n",
       "      <td>Operating</td>\n",
       "      <td>2.050000e+08</td>\n",
       "      <td>205.0</td>\n",
       "    </tr>\n",
       "    <tr>\n",
       "      <th>71</th>\n",
       "      <td>113</td>\n",
       "      <td>Cloudflare</td>\n",
       "      <td>cloudflare.com</td>\n",
       "      <td>$182.1M</td>\n",
       "      <td>Disrupt SF 2010</td>\n",
       "      <td>Runner up</td>\n",
       "      <td>Operating</td>\n",
       "      <td>1.821000e+08</td>\n",
       "      <td>182.1</td>\n",
       "    </tr>\n",
       "    <tr>\n",
       "      <th>84</th>\n",
       "      <td>130</td>\n",
       "      <td>CrowdFlower Inc.</td>\n",
       "      <td>crowdflower.com</td>\n",
       "      <td>$38M</td>\n",
       "      <td>TC50 2009</td>\n",
       "      <td>Contestant</td>\n",
       "      <td>Operating</td>\n",
       "      <td>3.800000e+07</td>\n",
       "      <td>38.0</td>\n",
       "    </tr>\n",
       "    <tr>\n",
       "      <th>85</th>\n",
       "      <td>132</td>\n",
       "      <td>Cubic Telecom</td>\n",
       "      <td>cubictelecom.com</td>\n",
       "      <td>$37.1M</td>\n",
       "      <td>TC40 2007</td>\n",
       "      <td>Contestant</td>\n",
       "      <td>Operating</td>\n",
       "      <td>3.710000e+07</td>\n",
       "      <td>37.1</td>\n",
       "    </tr>\n",
       "    <tr>\n",
       "      <th>87</th>\n",
       "      <td>138</td>\n",
       "      <td>DataSift</td>\n",
       "      <td>datasift.com</td>\n",
       "      <td>$72M</td>\n",
       "      <td>Disrupt SF 2010</td>\n",
       "      <td>Finalist</td>\n",
       "      <td>Operating</td>\n",
       "      <td>7.200000e+07</td>\n",
       "      <td>72.0</td>\n",
       "    </tr>\n",
       "    <tr>\n",
       "      <th>88</th>\n",
       "      <td>139</td>\n",
       "      <td>DataXu</td>\n",
       "      <td>dataxu.com</td>\n",
       "      <td>$64M</td>\n",
       "      <td>TC50 2009</td>\n",
       "      <td>Contestant</td>\n",
       "      <td>Operating</td>\n",
       "      <td>6.400000e+07</td>\n",
       "      <td>64.0</td>\n",
       "    </tr>\n",
       "    <tr>\n",
       "      <th>102</th>\n",
       "      <td>154</td>\n",
       "      <td>Dropbox</td>\n",
       "      <td>dropbox.com</td>\n",
       "      <td>$1.7B</td>\n",
       "      <td>TC50 2008</td>\n",
       "      <td>Contestant</td>\n",
       "      <td>Operating</td>\n",
       "      <td>1.700000e+09</td>\n",
       "      <td>1700.0</td>\n",
       "    </tr>\n",
       "    <tr>\n",
       "      <th>127</th>\n",
       "      <td>188</td>\n",
       "      <td>Fitbit</td>\n",
       "      <td>fitbit.com</td>\n",
       "      <td>$66M</td>\n",
       "      <td>TC50 2008</td>\n",
       "      <td>Finalist</td>\n",
       "      <td>Ipo</td>\n",
       "      <td>6.600000e+07</td>\n",
       "      <td>66.0</td>\n",
       "    </tr>\n",
       "    <tr>\n",
       "      <th>140</th>\n",
       "      <td>209</td>\n",
       "      <td>Getaround</td>\n",
       "      <td>getaround.com</td>\n",
       "      <td>$103M</td>\n",
       "      <td>Disrupt NYC 2011</td>\n",
       "      <td>Winner</td>\n",
       "      <td>Operating</td>\n",
       "      <td>1.030000e+08</td>\n",
       "      <td>103.0</td>\n",
       "    </tr>\n",
       "    <tr>\n",
       "      <th>146</th>\n",
       "      <td>215</td>\n",
       "      <td>Glide</td>\n",
       "      <td>glide.me</td>\n",
       "      <td>$36.5M</td>\n",
       "      <td>Disrupt NYC 2013</td>\n",
       "      <td>Audience choice</td>\n",
       "      <td>Operating</td>\n",
       "      <td>3.650000e+07</td>\n",
       "      <td>36.5</td>\n",
       "    </tr>\n",
       "    <tr>\n",
       "      <th>153</th>\n",
       "      <td>225</td>\n",
       "      <td>Grockit</td>\n",
       "      <td>grockit.com</td>\n",
       "      <td>$44.7M</td>\n",
       "      <td>TC50 2008</td>\n",
       "      <td>Finalist</td>\n",
       "      <td>Acquired</td>\n",
       "      <td>4.470000e+07</td>\n",
       "      <td>44.7</td>\n",
       "    </tr>\n",
       "    <tr>\n",
       "      <th>183</th>\n",
       "      <td>271</td>\n",
       "      <td>Ionic Security</td>\n",
       "      <td>ionicsecurity.com</td>\n",
       "      <td>$122.4M</td>\n",
       "      <td>Disrupt SF 2012</td>\n",
       "      <td>Contestant</td>\n",
       "      <td>Operating</td>\n",
       "      <td>1.224000e+08</td>\n",
       "      <td>122.4</td>\n",
       "    </tr>\n",
       "    <tr>\n",
       "      <th>189</th>\n",
       "      <td>279</td>\n",
       "      <td>Jiff</td>\n",
       "      <td>jiff.com</td>\n",
       "      <td>$67.8M</td>\n",
       "      <td>Disrupt SF 2011</td>\n",
       "      <td>Contestant</td>\n",
       "      <td>Acquired</td>\n",
       "      <td>6.780000e+07</td>\n",
       "      <td>67.8</td>\n",
       "    </tr>\n",
       "    <tr>\n",
       "      <th>192</th>\n",
       "      <td>282</td>\n",
       "      <td>Kaltura</td>\n",
       "      <td>kaltura.com</td>\n",
       "      <td>$166.1M</td>\n",
       "      <td>TC40 2007</td>\n",
       "      <td>Audience choice</td>\n",
       "      <td>Operating</td>\n",
       "      <td>1.661000e+08</td>\n",
       "      <td>166.1</td>\n",
       "    </tr>\n",
       "    <tr>\n",
       "      <th>205</th>\n",
       "      <td>302</td>\n",
       "      <td>Layer</td>\n",
       "      <td>layer.com</td>\n",
       "      <td>$42.1M</td>\n",
       "      <td>Disrupt SF 2013</td>\n",
       "      <td>Winner</td>\n",
       "      <td>Operating</td>\n",
       "      <td>4.210000e+07</td>\n",
       "      <td>42.1</td>\n",
       "    </tr>\n",
       "    <tr>\n",
       "      <th>208</th>\n",
       "      <td>305</td>\n",
       "      <td>LearnVest</td>\n",
       "      <td>learnvest.com</td>\n",
       "      <td>$69M</td>\n",
       "      <td>TC50 2009</td>\n",
       "      <td>Contestant</td>\n",
       "      <td>Acquired</td>\n",
       "      <td>6.900000e+07</td>\n",
       "      <td>69.0</td>\n",
       "    </tr>\n",
       "    <tr>\n",
       "      <th>212</th>\n",
       "      <td>313</td>\n",
       "      <td>LiveIntent</td>\n",
       "      <td>liveintent.com</td>\n",
       "      <td>$65.1M</td>\n",
       "      <td>Disrupt NYC 2010</td>\n",
       "      <td>Audience choice</td>\n",
       "      <td>Operating</td>\n",
       "      <td>6.510000e+07</td>\n",
       "      <td>65.1</td>\n",
       "    </tr>\n",
       "    <tr>\n",
       "      <th>260</th>\n",
       "      <td>389</td>\n",
       "      <td>OrderWithMe</td>\n",
       "      <td>orderwithme.com</td>\n",
       "      <td>$37M</td>\n",
       "      <td>Disrupt Beijing 2011</td>\n",
       "      <td>Winner</td>\n",
       "      <td>Operating</td>\n",
       "      <td>3.700000e+07</td>\n",
       "      <td>37.0</td>\n",
       "    </tr>\n",
       "    <tr>\n",
       "      <th>263</th>\n",
       "      <td>393</td>\n",
       "      <td>Osmo</td>\n",
       "      <td>playosmo.com</td>\n",
       "      <td>$38.5M</td>\n",
       "      <td>Disrupt SF 2013</td>\n",
       "      <td>Contestant</td>\n",
       "      <td>Operating</td>\n",
       "      <td>3.850000e+07</td>\n",
       "      <td>38.5</td>\n",
       "    </tr>\n",
       "    <tr>\n",
       "      <th>286</th>\n",
       "      <td>427</td>\n",
       "      <td>Postmates</td>\n",
       "      <td>postmates.com</td>\n",
       "      <td>$278M</td>\n",
       "      <td>Disrupt SF 2011</td>\n",
       "      <td>Contestant</td>\n",
       "      <td>Operating</td>\n",
       "      <td>2.780000e+08</td>\n",
       "      <td>278.0</td>\n",
       "    </tr>\n",
       "    <tr>\n",
       "      <th>294</th>\n",
       "      <td>435</td>\n",
       "      <td>PubMatic</td>\n",
       "      <td>pubmatic.com</td>\n",
       "      <td>$63M</td>\n",
       "      <td>TC40 2007</td>\n",
       "      <td>Contestant</td>\n",
       "      <td>Operating</td>\n",
       "      <td>6.300000e+07</td>\n",
       "      <td>63.0</td>\n",
       "    </tr>\n",
       "    <tr>\n",
       "      <th>318</th>\n",
       "      <td>471</td>\n",
       "      <td>SeatGeek</td>\n",
       "      <td>seatgeek.com</td>\n",
       "      <td>$160M</td>\n",
       "      <td>TC50 2009</td>\n",
       "      <td>Contestant</td>\n",
       "      <td>Operating</td>\n",
       "      <td>1.600000e+08</td>\n",
       "      <td>160.0</td>\n",
       "    </tr>\n",
       "    <tr>\n",
       "      <th>365</th>\n",
       "      <td>546</td>\n",
       "      <td>StyleSeat</td>\n",
       "      <td>styleseat.com</td>\n",
       "      <td>$40M</td>\n",
       "      <td>Disrupt NYC 2011</td>\n",
       "      <td>Contestant</td>\n",
       "      <td>Operating</td>\n",
       "      <td>4.000000e+07</td>\n",
       "      <td>40.0</td>\n",
       "    </tr>\n",
       "    <tr>\n",
       "      <th>371</th>\n",
       "      <td>555</td>\n",
       "      <td>Symphony Commerce</td>\n",
       "      <td>symphonycommerce.com</td>\n",
       "      <td>$47.4M</td>\n",
       "      <td>Disrupt NYC 2011</td>\n",
       "      <td>Contestant</td>\n",
       "      <td>Operating</td>\n",
       "      <td>4.740000e+07</td>\n",
       "      <td>47.4</td>\n",
       "    </tr>\n",
       "    <tr>\n",
       "      <th>395</th>\n",
       "      <td>593</td>\n",
       "      <td>TrueCar</td>\n",
       "      <td>truecar.com</td>\n",
       "      <td>$332.4M</td>\n",
       "      <td>TC50 2008</td>\n",
       "      <td>Contestant</td>\n",
       "      <td>Ipo</td>\n",
       "      <td>3.324000e+08</td>\n",
       "      <td>332.4</td>\n",
       "    </tr>\n",
       "    <tr>\n",
       "      <th>403</th>\n",
       "      <td>606</td>\n",
       "      <td>Upwork</td>\n",
       "      <td>upwork.com</td>\n",
       "      <td>$168.8M</td>\n",
       "      <td>TC50 2009</td>\n",
       "      <td>Audience choice</td>\n",
       "      <td>Operating</td>\n",
       "      <td>1.688000e+08</td>\n",
       "      <td>168.8</td>\n",
       "    </tr>\n",
       "    <tr>\n",
       "      <th>432</th>\n",
       "      <td>643</td>\n",
       "      <td>Xobni</td>\n",
       "      <td>yahoo.com</td>\n",
       "      <td>$41.8M</td>\n",
       "      <td>TC40 2007</td>\n",
       "      <td>Contestant</td>\n",
       "      <td>Acquired</td>\n",
       "      <td>4.180000e+07</td>\n",
       "      <td>41.8</td>\n",
       "    </tr>\n",
       "    <tr>\n",
       "      <th>433</th>\n",
       "      <td>644</td>\n",
       "      <td>Yammer</td>\n",
       "      <td>yammer.com</td>\n",
       "      <td>$142M</td>\n",
       "      <td>TC50 2008</td>\n",
       "      <td>Winner</td>\n",
       "      <td>Acquired</td>\n",
       "      <td>1.420000e+08</td>\n",
       "      <td>142.0</td>\n",
       "    </tr>\n",
       "    <tr>\n",
       "      <th>436</th>\n",
       "      <td>647</td>\n",
       "      <td>Yext</td>\n",
       "      <td>yext.com</td>\n",
       "      <td>$117.8M</td>\n",
       "      <td>TC50 2009</td>\n",
       "      <td>Contestant</td>\n",
       "      <td>Ipo</td>\n",
       "      <td>1.178000e+08</td>\n",
       "      <td>117.8</td>\n",
       "    </tr>\n",
       "    <tr>\n",
       "      <th>439</th>\n",
       "      <td>654</td>\n",
       "      <td>ZEFR</td>\n",
       "      <td>zefr.com</td>\n",
       "      <td>$62.1M</td>\n",
       "      <td>Disrupt NYC 2010</td>\n",
       "      <td>Contestant</td>\n",
       "      <td>Operating</td>\n",
       "      <td>6.210000e+07</td>\n",
       "      <td>62.1</td>\n",
       "    </tr>\n",
       "    <tr>\n",
       "      <th>440</th>\n",
       "      <td>656</td>\n",
       "      <td>Zenefits</td>\n",
       "      <td>zenefits.com</td>\n",
       "      <td>$583.6M</td>\n",
       "      <td>Disrupt NYC 2013</td>\n",
       "      <td>Finalist</td>\n",
       "      <td>Operating</td>\n",
       "      <td>5.836000e+08</td>\n",
       "      <td>583.6</td>\n",
       "    </tr>\n",
       "    <tr>\n",
       "      <th>443</th>\n",
       "      <td>659</td>\n",
       "      <td>Zocdoc</td>\n",
       "      <td>zocdoc.com</td>\n",
       "      <td>$223M</td>\n",
       "      <td>TC40 2007</td>\n",
       "      <td>Contestant</td>\n",
       "      <td>Operating</td>\n",
       "      <td>2.230000e+08</td>\n",
       "      <td>223.0</td>\n",
       "    </tr>\n",
       "  </tbody>\n",
       "</table>\n",
       "</div>"
      ],
      "text/plain": [
       "     index            Startup               Product  Funding  \\\n",
       "21      40              Artsy             artsy.net   $50.9M   \n",
       "27      49         Badgeville        badgeville.com     $40M   \n",
       "33      56         Betterment        betterment.com    $205M   \n",
       "71     113         Cloudflare        cloudflare.com  $182.1M   \n",
       "84     130   CrowdFlower Inc.       crowdflower.com     $38M   \n",
       "85     132      Cubic Telecom      cubictelecom.com   $37.1M   \n",
       "87     138           DataSift          datasift.com     $72M   \n",
       "88     139             DataXu            dataxu.com     $64M   \n",
       "102    154            Dropbox           dropbox.com    $1.7B   \n",
       "127    188             Fitbit            fitbit.com     $66M   \n",
       "140    209          Getaround         getaround.com    $103M   \n",
       "146    215              Glide              glide.me   $36.5M   \n",
       "153    225            Grockit           grockit.com   $44.7M   \n",
       "183    271     Ionic Security     ionicsecurity.com  $122.4M   \n",
       "189    279               Jiff              jiff.com   $67.8M   \n",
       "192    282            Kaltura           kaltura.com  $166.1M   \n",
       "205    302              Layer             layer.com   $42.1M   \n",
       "208    305          LearnVest         learnvest.com     $69M   \n",
       "212    313         LiveIntent        liveintent.com   $65.1M   \n",
       "260    389        OrderWithMe       orderwithme.com     $37M   \n",
       "263    393               Osmo          playosmo.com   $38.5M   \n",
       "286    427          Postmates         postmates.com    $278M   \n",
       "294    435           PubMatic          pubmatic.com     $63M   \n",
       "318    471           SeatGeek          seatgeek.com    $160M   \n",
       "365    546          StyleSeat         styleseat.com     $40M   \n",
       "371    555  Symphony Commerce  symphonycommerce.com   $47.4M   \n",
       "395    593            TrueCar           truecar.com  $332.4M   \n",
       "403    606             Upwork            upwork.com  $168.8M   \n",
       "432    643              Xobni             yahoo.com   $41.8M   \n",
       "433    644             Yammer            yammer.com    $142M   \n",
       "436    647               Yext              yext.com  $117.8M   \n",
       "439    654               ZEFR              zefr.com   $62.1M   \n",
       "440    656           Zenefits          zenefits.com  $583.6M   \n",
       "443    659             Zocdoc            zocdoc.com    $223M   \n",
       "\n",
       "                    Event           Result OperatingState   new_Funding  \\\n",
       "21       Disrupt NYC 2010       Contestant      Operating  5.090000e+07   \n",
       "27        Disrupt SF 2010         Finalist       Acquired  4.000000e+07   \n",
       "33       Disrupt NYC 2010         Finalist      Operating  2.050000e+08   \n",
       "71        Disrupt SF 2010        Runner up      Operating  1.821000e+08   \n",
       "84              TC50 2009       Contestant      Operating  3.800000e+07   \n",
       "85              TC40 2007       Contestant      Operating  3.710000e+07   \n",
       "87        Disrupt SF 2010         Finalist      Operating  7.200000e+07   \n",
       "88              TC50 2009       Contestant      Operating  6.400000e+07   \n",
       "102             TC50 2008       Contestant      Operating  1.700000e+09   \n",
       "127             TC50 2008         Finalist            Ipo  6.600000e+07   \n",
       "140      Disrupt NYC 2011           Winner      Operating  1.030000e+08   \n",
       "146      Disrupt NYC 2013  Audience choice      Operating  3.650000e+07   \n",
       "153             TC50 2008         Finalist       Acquired  4.470000e+07   \n",
       "183       Disrupt SF 2012       Contestant      Operating  1.224000e+08   \n",
       "189       Disrupt SF 2011       Contestant       Acquired  6.780000e+07   \n",
       "192             TC40 2007  Audience choice      Operating  1.661000e+08   \n",
       "205       Disrupt SF 2013           Winner      Operating  4.210000e+07   \n",
       "208             TC50 2009       Contestant       Acquired  6.900000e+07   \n",
       "212      Disrupt NYC 2010  Audience choice      Operating  6.510000e+07   \n",
       "260  Disrupt Beijing 2011           Winner      Operating  3.700000e+07   \n",
       "263       Disrupt SF 2013       Contestant      Operating  3.850000e+07   \n",
       "286       Disrupt SF 2011       Contestant      Operating  2.780000e+08   \n",
       "294             TC40 2007       Contestant      Operating  6.300000e+07   \n",
       "318             TC50 2009       Contestant      Operating  1.600000e+08   \n",
       "365      Disrupt NYC 2011       Contestant      Operating  4.000000e+07   \n",
       "371      Disrupt NYC 2011       Contestant      Operating  4.740000e+07   \n",
       "395             TC50 2008       Contestant            Ipo  3.324000e+08   \n",
       "403             TC50 2009  Audience choice      Operating  1.688000e+08   \n",
       "432             TC40 2007       Contestant       Acquired  4.180000e+07   \n",
       "433             TC50 2008           Winner       Acquired  1.420000e+08   \n",
       "436             TC50 2009       Contestant            Ipo  1.178000e+08   \n",
       "439      Disrupt NYC 2010       Contestant      Operating  6.210000e+07   \n",
       "440      Disrupt NYC 2013         Finalist      Operating  5.836000e+08   \n",
       "443             TC40 2007       Contestant      Operating  2.230000e+08   \n",
       "\n",
       "     Funds_in_Million  \n",
       "21               50.9  \n",
       "27               40.0  \n",
       "33              205.0  \n",
       "71              182.1  \n",
       "84               38.0  \n",
       "85               37.1  \n",
       "87               72.0  \n",
       "88               64.0  \n",
       "102            1700.0  \n",
       "127              66.0  \n",
       "140             103.0  \n",
       "146              36.5  \n",
       "153              44.7  \n",
       "183             122.4  \n",
       "189              67.8  \n",
       "192             166.1  \n",
       "205              42.1  \n",
       "208              69.0  \n",
       "212              65.1  \n",
       "260              37.0  \n",
       "263              38.5  \n",
       "286             278.0  \n",
       "294              63.0  \n",
       "318             160.0  \n",
       "365              40.0  \n",
       "371              47.4  \n",
       "395             332.4  \n",
       "403             168.8  \n",
       "432              41.8  \n",
       "433             142.0  \n",
       "436             117.8  \n",
       "439              62.1  \n",
       "440             583.6  \n",
       "443             223.0  "
      ]
     },
     "execution_count": 393,
     "metadata": {},
     "output_type": "execute_result"
    }
   ],
   "source": [
    "# so drop the values above the upper fence as those are outliers.\n",
    "\n",
    "outliers = startup_data[startup_data['Funds_in_Million']> upper_fence]\n",
    "outliers"
   ]
  },
  {
   "cell_type": "code",
   "execution_count": 394,
   "metadata": {},
   "outputs": [],
   "source": [
    "# plot the distributions without outliers\n",
    "\n",
    "startup_data.drop(startup_data[startup_data.Funds_in_Million > upper_fence].index, inplace = True)\n"
   ]
  },
  {
   "cell_type": "code",
   "execution_count": 395,
   "metadata": {},
   "outputs": [
    {
     "data": {
      "image/png": "[encoded data removed]",
      "text/plain": [
       "<Figure size 432x288 with 1 Axes>"
      ]
     },
     "metadata": {
      "needs_background": "light"
     },
     "output_type": "display_data"
    }
   ],
   "source": [
    "# Plot box plot for funds in million\n",
    "figure = plt.boxplot(startup_data.Funds_in_Million)\n",
    "plt.title('Boxplot | Funds in Million Without Outliers')\n",
    "plt.ylabel(\"Funds raised (in Million)\")\n",
    "\n",
    "plt.show()"
   ]
  },
  {
   "cell_type": "code",
   "execution_count": 396,
   "metadata": {},
   "outputs": [
    {
     "data": {
      "text/plain": [
       "Operating    294\n",
       "Acquired      60\n",
       "Closed        57\n",
       "Ipo            1\n",
       "Name: OperatingState, dtype: int64"
      ]
     },
     "execution_count": 396,
     "metadata": {},
     "output_type": "execute_result"
    }
   ],
   "source": [
    "startup_data.OperatingState.value_counts()"
   ]
  },
  {
   "cell_type": "code",
   "execution_count": 397,
   "metadata": {},
   "outputs": [
    {
     "data": {
      "text/plain": [
       "<AxesSubplot:title={'center':'Count of OperatingState'}>"
      ]
     },
     "execution_count": 397,
     "metadata": {},
     "output_type": "execute_result"
    },
    {
     "data": {
      "image/png": "[encoded data removed]",
      "text/plain": [
       "<Figure size 432x288 with 1 Axes>"
      ]
     },
     "metadata": {
      "needs_background": "light"
     },
     "output_type": "display_data"
    }
   ],
   "source": [
    "# Check frequency of the OperatingState features clases\n",
    "\n",
    "plt.subplots(figsize=(6,4))\n",
    "plt.title('Count of OperatingState')\n",
    "startup_data.OperatingState.hist()"
   ]
  },
  {
   "cell_type": "code",
   "execution_count": 398,
   "metadata": {},
   "outputs": [
    {
     "name": "stderr",
     "output_type": "stream",
     "text": [
      "C:\\Anaconda\\lib\\site-packages\\seaborn\\distributions.py:2551: FutureWarning: `distplot` is a deprecated function and will be removed in a future version. Please adapt your code to use either `displot` (a figure-level function with similar flexibility) or `histplot` (an axes-level function for histograms).\n",
      "  warnings.warn(msg, FutureWarning)\n"
     ]
    },
    {
     "data": {
      "text/plain": [
       "<AxesSubplot:title={'center':'Distribution Plot for Funds in Million'}, xlabel='Funds_in_Million', ylabel='Density'>"
      ]
     },
     "execution_count": 398,
     "metadata": {},
     "output_type": "execute_result"
    },
    {
     "data": {
      "image/png": "[encoded data removed]",
      "text/plain": [
       "<Figure size 432x288 with 1 Axes>"
      ]
     },
     "metadata": {
      "needs_background": "light"
     },
     "output_type": "display_data"
    }
   ],
   "source": [
    "# plot distribution plot for Funds in million\n",
    "\n",
    "plt.title('Distribution Plot for Funds in Million')\n",
    "sns.distplot(startup_data.Funds_in_Million)"
   ]
  },
  {
   "cell_type": "code",
   "execution_count": 399,
   "metadata": {},
   "outputs": [],
   "source": [
    "# Create Data audit Report for continuous variables\n",
    "def continuous_var_summary(x):\n",
    "    return pd.Series([x.count(), x.isnull().sum(), x.sum(), x.mean(), x.median(),  \n",
    "                      x.std(), x.var(), x.min(), x.quantile(0.01), x.quantile(0.05),\n",
    "                          x.quantile(0.10),x.quantile(0.25),x.quantile(0.50),x.quantile(0.75), \n",
    "                              x.quantile(0.90),x.quantile(0.95), x.quantile(0.99),x.max()], \n",
    "                  index = ['N', 'NMISS', 'SUM', 'MEAN','MEDIAN', 'STD', 'VAR', 'MIN', 'P1', \n",
    "                               'P5' ,'P10' ,'P25' ,'P50' ,'P75' ,'P90' ,'P95' ,'P99' ,'MAX'])"
   ]
  },
  {
   "cell_type": "code",
   "execution_count": 400,
   "metadata": {},
   "outputs": [],
   "source": [
    "startup_data.drop(['new_Funding'],axis =1, inplace=True)\n",
    "cont_var = startup_data.select_dtypes(include = ['float64'])"
   ]
  },
  {
   "cell_type": "code",
   "execution_count": 401,
   "metadata": {},
   "outputs": [
    {
     "data": {
      "text/html": [
       "<div>\n",
       "<style scoped>\n",
       "    .dataframe tbody tr th:only-of-type {\n",
       "        vertical-align: middle;\n",
       "    }\n",
       "\n",
       "    .dataframe tbody tr th {\n",
       "        vertical-align: top;\n",
       "    }\n",
       "\n",
       "    .dataframe thead th {\n",
       "        text-align: right;\n",
       "    }\n",
       "</style>\n",
       "<table border=\"1\" class=\"dataframe\">\n",
       "  <thead>\n",
       "    <tr style=\"text-align: right;\">\n",
       "      <th></th>\n",
       "      <th>Funds_in_Million</th>\n",
       "    </tr>\n",
       "  </thead>\n",
       "  <tbody>\n",
       "    <tr>\n",
       "      <th>N</th>\n",
       "      <td>412.000000</td>\n",
       "    </tr>\n",
       "    <tr>\n",
       "      <th>NMISS</th>\n",
       "      <td>0.000000</td>\n",
       "    </tr>\n",
       "    <tr>\n",
       "      <th>SUM</th>\n",
       "      <td>2182.503900</td>\n",
       "    </tr>\n",
       "    <tr>\n",
       "      <th>MEAN</th>\n",
       "      <td>5.297340</td>\n",
       "    </tr>\n",
       "    <tr>\n",
       "      <th>MEDIAN</th>\n",
       "      <td>2.000000</td>\n",
       "    </tr>\n",
       "    <tr>\n",
       "      <th>STD</th>\n",
       "      <td>7.667340</td>\n",
       "    </tr>\n",
       "    <tr>\n",
       "      <th>VAR</th>\n",
       "      <td>58.788109</td>\n",
       "    </tr>\n",
       "    <tr>\n",
       "      <th>MIN</th>\n",
       "      <td>0.005000</td>\n",
       "    </tr>\n",
       "    <tr>\n",
       "      <th>P1</th>\n",
       "      <td>0.020000</td>\n",
       "    </tr>\n",
       "    <tr>\n",
       "      <th>P5</th>\n",
       "      <td>0.082910</td>\n",
       "    </tr>\n",
       "    <tr>\n",
       "      <th>P10</th>\n",
       "      <td>0.150000</td>\n",
       "    </tr>\n",
       "    <tr>\n",
       "      <th>P25</th>\n",
       "      <td>0.650000</td>\n",
       "    </tr>\n",
       "    <tr>\n",
       "      <th>P50</th>\n",
       "      <td>2.000000</td>\n",
       "    </tr>\n",
       "    <tr>\n",
       "      <th>P75</th>\n",
       "      <td>6.550000</td>\n",
       "    </tr>\n",
       "    <tr>\n",
       "      <th>P90</th>\n",
       "      <td>16.180000</td>\n",
       "    </tr>\n",
       "    <tr>\n",
       "      <th>P95</th>\n",
       "      <td>24.725000</td>\n",
       "    </tr>\n",
       "    <tr>\n",
       "      <th>P99</th>\n",
       "      <td>34.369000</td>\n",
       "    </tr>\n",
       "    <tr>\n",
       "      <th>MAX</th>\n",
       "      <td>35.500000</td>\n",
       "    </tr>\n",
       "  </tbody>\n",
       "</table>\n",
       "</div>"
      ],
      "text/plain": [
       "        Funds_in_Million\n",
       "N             412.000000\n",
       "NMISS           0.000000\n",
       "SUM          2182.503900\n",
       "MEAN            5.297340\n",
       "MEDIAN          2.000000\n",
       "STD             7.667340\n",
       "VAR            58.788109\n",
       "MIN             0.005000\n",
       "P1              0.020000\n",
       "P5              0.082910\n",
       "P10             0.150000\n",
       "P25             0.650000\n",
       "P50             2.000000\n",
       "P75             6.550000\n",
       "P90            16.180000\n",
       "P95            24.725000\n",
       "P99            34.369000\n",
       "MAX            35.500000"
      ]
     },
     "execution_count": 401,
     "metadata": {},
     "output_type": "execute_result"
    }
   ],
   "source": [
    "cont_var.apply(continuous_var_summary)"
   ]
  },
  {
   "cell_type": "markdown",
   "metadata": {},
   "source": [
    "* Here we can see that almost 75% data have less than 6.55 million raised funds, but the maximum is 35.5"
   ]
  },
  {
   "cell_type": "code",
   "execution_count": 403,
   "metadata": {},
   "outputs": [
    {
     "name": "stderr",
     "output_type": "stream",
     "text": [
      "C:\\Anaconda\\lib\\site-packages\\seaborn\\distributions.py:2551: FutureWarning: `distplot` is a deprecated function and will be removed in a future version. Please adapt your code to use either `displot` (a figure-level function with similar flexibility) or `histplot` (an axes-level function for histograms).\n",
      "  warnings.warn(msg, FutureWarning)\n",
      "C:\\Anaconda\\lib\\site-packages\\seaborn\\distributions.py:2551: FutureWarning: `distplot` is a deprecated function and will be removed in a future version. Please adapt your code to use either `displot` (a figure-level function with similar flexibility) or `histplot` (an axes-level function for histograms).\n",
      "  warnings.warn(msg, FutureWarning)\n"
     ]
    },
    {
     "data": {
      "image/png": "[encoded data removed]",
      "text/plain": [
       "<Figure size 1080x360 with 2 Axes>"
      ]
     },
     "metadata": {
      "needs_background": "light"
     },
     "output_type": "display_data"
    }
   ],
   "source": [
    "# plot distribution plot for the companies that are still operating or closed\n",
    "\n",
    "fig, ax = plt.subplots(1, 2)\n",
    "\n",
    "fig.set_figheight(5)\n",
    "fig.set_figwidth(15)\n",
    "\n",
    "sns.distplot(startup_data.loc[startup_data.OperatingState == 'Operating', 'Funds_in_Million'], ax = ax[0])\n",
    "sns.distplot(startup_data.loc[startup_data.OperatingState =='Closed', 'Funds_in_Million'], ax = ax[1])\n",
    "\n",
    "ax[0].set_title('Funds Raised | By Still Operating Companies')\n",
    "ax[1].set_title('Funds Raised | By Closed Companies')\n",
    "plt.show()"
   ]
  },
  {
   "cell_type": "markdown",
   "metadata": {},
   "source": [
    "## Statistical Analysis\n",
    "\n",
    "#### 1. Is there any significant difference between Funds raised by companies that are still operating vs companies that closed down? Write the null hypothesis and alternative hypothesis. Test for significance and conclusion"
   ]
  },
  {
   "cell_type": "code",
   "execution_count": 404,
   "metadata": {},
   "outputs": [],
   "source": [
    "# import neccessary packages\n",
    "from scipy.stats import ttest_1samp, ttest_ind, mannwhitneyu, levene, shapiro\n",
    "from statsmodels.stats.weightstats import ztest\n",
    "from statsmodels.stats.power import ttest_power"
   ]
  },
  {
   "cell_type": "code",
   "execution_count": 405,
   "metadata": {},
   "outputs": [],
   "source": [
    "# we will use two sample t_test\n",
    "\n",
    "#group 1\n",
    "operating_df = startup_data['Funds_in_Million'][startup_data['OperatingState']=='Operating'].values\n",
    "\n",
    "#group 2\n",
    "closed_df = startup_data['Funds_in_Million'][startup_data['OperatingState']=='Closed'].values"
   ]
  },
  {
   "cell_type": "markdown",
   "metadata": {},
   "source": [
    "### Using t-test\n",
    "\n",
    "* Null hypothesis ||  $ H_{0} = $ There is no significant difference between the means of two groups\n",
    "* Alternate hypothesis ||  $ H_{a} = $ There is significantdifference between the means of two groups"
   ]
  },
  {
   "cell_type": "code",
   "execution_count": 407,
   "metadata": {},
   "outputs": [
    {
     "name": "stdout",
     "output_type": "stream",
     "text": [
      "t_statistic:  1.7539 || p_value:  0.0803\n",
      "\n",
      "Accept the Null hypothesis || Both groups have same mean\n"
     ]
    }
   ],
   "source": [
    "# null hypothesis H0: There is no significant difference between Funds raised | both groups have same mean\n",
    "# alternate hypothesis Ha: There is a difference between Fund raised by the companies that are still operating\n",
    "#vs that closed down | both groups have different mean\n",
    "\n",
    "# level of significance is 95 %\n",
    "# its a two tail test so,\n",
    "alpha = 0.05\n",
    "t_statistic, p_value = ttest_ind(operating_df, closed_df)\n",
    "print('t_statistic: ',t_statistic.round(4),'|| p_value: ', p_value.round(4))\n",
    "print('')\n",
    "if p_value > alpha:\n",
    "    print('Accept the Null hypothesis || Both groups have same mean')\n",
    "else:\n",
    "    print('Reject the Null hypothesis || Both groups have different mean')"
   ]
  },
  {
   "cell_type": "markdown",
   "metadata": {},
   "source": [
    "### Using z-test"
   ]
  },
  {
   "cell_type": "code",
   "execution_count": 408,
   "metadata": {},
   "outputs": [
    {
     "name": "stdout",
     "output_type": "stream",
     "text": [
      "t_statistic:  1.7539 || p_value:  0.0794\n",
      "\n",
      "Accept the Null hypothesis || Both groups have same mean\n"
     ]
    }
   ],
   "source": [
    "t_statistic, p_value = ztest(operating_df, closed_df)\n",
    "print('t_statistic: ',t_statistic.round(4),'|| p_value: ', p_value.round(4))\n",
    "print('')\n",
    "if p_value > alpha:\n",
    "    print('Accept the Null hypothesis || Both groups have same mean')\n",
    "else:\n",
    "    print('Reject the Null hypothesis || Both groups have different mean')"
   ]
  },
  {
   "cell_type": "markdown",
   "metadata": {},
   "source": [
    "### [ From the above two tests, we can state that there is no significant difference between the Funds raised by the companies that are still operating vs that closed down.]"
   ]
  },
  {
   "cell_type": "markdown",
   "metadata": {},
   "source": [
    "#### 2. Copy the original data into another dataframe"
   ]
  },
  {
   "cell_type": "code",
   "execution_count": 411,
   "metadata": {},
   "outputs": [
    {
     "data": {
      "text/html": [
       "<div>\n",
       "<style scoped>\n",
       "    .dataframe tbody tr th:only-of-type {\n",
       "        vertical-align: middle;\n",
       "    }\n",
       "\n",
       "    .dataframe tbody tr th {\n",
       "        vertical-align: top;\n",
       "    }\n",
       "\n",
       "    .dataframe thead th {\n",
       "        text-align: right;\n",
       "    }\n",
       "</style>\n",
       "<table border=\"1\" class=\"dataframe\">\n",
       "  <thead>\n",
       "    <tr style=\"text-align: right;\">\n",
       "      <th></th>\n",
       "      <th>index</th>\n",
       "      <th>Startup</th>\n",
       "      <th>Product</th>\n",
       "      <th>Funding</th>\n",
       "      <th>Event</th>\n",
       "      <th>Result</th>\n",
       "      <th>OperatingState</th>\n",
       "      <th>Funds_in_Million</th>\n",
       "    </tr>\n",
       "  </thead>\n",
       "  <tbody>\n",
       "    <tr>\n",
       "      <th>0</th>\n",
       "      <td>1</td>\n",
       "      <td>3DLT</td>\n",
       "      <td>3dlt.com</td>\n",
       "      <td>$630K</td>\n",
       "      <td>Disrupt NYC 2013</td>\n",
       "      <td>Contestant</td>\n",
       "      <td>Closed</td>\n",
       "      <td>0.63</td>\n",
       "    </tr>\n",
       "    <tr>\n",
       "      <th>1</th>\n",
       "      <td>3</td>\n",
       "      <td>3Dprintler</td>\n",
       "      <td>3dprintler.com</td>\n",
       "      <td>$1M</td>\n",
       "      <td>Disrupt NY 2016</td>\n",
       "      <td>Audience choice</td>\n",
       "      <td>Operating</td>\n",
       "      <td>1.00</td>\n",
       "    </tr>\n",
       "    <tr>\n",
       "      <th>2</th>\n",
       "      <td>5</td>\n",
       "      <td>5to1</td>\n",
       "      <td>5to1.com</td>\n",
       "      <td>$19.3M</td>\n",
       "      <td>TC50 2009</td>\n",
       "      <td>Contestant</td>\n",
       "      <td>Acquired</td>\n",
       "      <td>19.30</td>\n",
       "    </tr>\n",
       "    <tr>\n",
       "      <th>3</th>\n",
       "      <td>6</td>\n",
       "      <td>8 Securities</td>\n",
       "      <td>8securities.com</td>\n",
       "      <td>$29M</td>\n",
       "      <td>Disrupt Beijing 2011</td>\n",
       "      <td>Finalist</td>\n",
       "      <td>Operating</td>\n",
       "      <td>29.00</td>\n",
       "    </tr>\n",
       "    <tr>\n",
       "      <th>4</th>\n",
       "      <td>10</td>\n",
       "      <td>AdhereTech</td>\n",
       "      <td>adheretech.com</td>\n",
       "      <td>$1.8M</td>\n",
       "      <td>Hardware Battlefield 2014</td>\n",
       "      <td>Contestant</td>\n",
       "      <td>Operating</td>\n",
       "      <td>1.80</td>\n",
       "    </tr>\n",
       "  </tbody>\n",
       "</table>\n",
       "</div>"
      ],
      "text/plain": [
       "   index       Startup          Product Funding                      Event  \\\n",
       "0      1          3DLT         3dlt.com   $630K           Disrupt NYC 2013   \n",
       "1      3    3Dprintler   3dprintler.com     $1M            Disrupt NY 2016   \n",
       "2      5          5to1         5to1.com  $19.3M                  TC50 2009   \n",
       "3      6  8 Securities  8securities.com    $29M       Disrupt Beijing 2011   \n",
       "4     10    AdhereTech   adheretech.com   $1.8M  Hardware Battlefield 2014   \n",
       "\n",
       "            Result OperatingState  Funds_in_Million  \n",
       "0       Contestant         Closed              0.63  \n",
       "1  Audience choice      Operating              1.00  \n",
       "2       Contestant       Acquired             19.30  \n",
       "3         Finalist      Operating             29.00  \n",
       "4       Contestant      Operating              1.80  "
      ]
     },
     "execution_count": 411,
     "metadata": {},
     "output_type": "execute_result"
    }
   ],
   "source": [
    "# Copy the original data into another dataframe\n",
    "startup_data_copy = startup_data.copy(deep = True)\n",
    "startup_data_copy.head()"
   ]
  },
  {
   "cell_type": "markdown",
   "metadata": {},
   "source": [
    "#### 3. Check frequency distribution of Result variable."
   ]
  },
  {
   "cell_type": "code",
   "execution_count": 413,
   "metadata": {},
   "outputs": [
    {
     "data": {
      "text/plain": [
       "Contestant         293\n",
       "Finalist            59\n",
       "Winner              21\n",
       "Audience choice     21\n",
       "Runner up           18\n",
       "Name: Result, dtype: int64"
      ]
     },
     "execution_count": 413,
     "metadata": {},
     "output_type": "execute_result"
    }
   ],
   "source": [
    "startup_data_copy['Result'].value_counts()"
   ]
  },
  {
   "cell_type": "markdown",
   "metadata": {},
   "source": [
    "### [ From the above frequency distribution, total 21 are Winners and 18 are Runner up]"
   ]
  },
  {
   "cell_type": "markdown",
   "metadata": {},
   "source": [
    "#### 4. Calculate percentage of winners that are still operating and percentage of contestants that are still operating"
   ]
  },
  {
   "cell_type": "code",
   "execution_count": 417,
   "metadata": {},
   "outputs": [],
   "source": [
    "# overall data that are wtill operating\n",
    "\n",
    "df = startup_data_copy[startup_data_copy['OperatingState']=='Operating']"
   ]
  },
  {
   "cell_type": "code",
   "execution_count": 420,
   "metadata": {},
   "outputs": [
    {
     "data": {
      "text/plain": [
       "Contestant         200\n",
       "Finalist            43\n",
       "Audience choice     19\n",
       "Runner up           17\n",
       "Winner              15\n",
       "Name: Result, dtype: int64"
      ]
     },
     "execution_count": 420,
     "metadata": {},
     "output_type": "execute_result"
    }
   ],
   "source": [
    "df.Result.value_counts()"
   ]
  },
  {
   "cell_type": "code",
   "execution_count": 476,
   "metadata": {},
   "outputs": [
    {
     "name": "stdout",
     "output_type": "stream",
     "text": [
      "Percentage of winners that are still operating is: 78.99 \n"
     ]
    }
   ],
   "source": [
    "# percentage of winners that are still operating\n",
    "# Include all the Results except Contestants to Winners count\n",
    "\n",
    "total_win = startup_data_copy['Result'].value_counts()[1:].sum()\n",
    "win = df.Result.value_counts()[1:].sum()\n",
    "\n",
    "print('Percentage of winners that are still operating is: %1.2f '%((win/total_win)*100))"
   ]
  },
  {
   "cell_type": "code",
   "execution_count": 478,
   "metadata": {},
   "outputs": [
    {
     "name": "stdout",
     "output_type": "stream",
     "text": [
      "Percentage of contestants that are still operating is: 68.26 \n"
     ]
    }
   ],
   "source": [
    "# percentage of contestants that are still operating\n",
    "\n",
    "total_cont = startup_data_copy['Result'].value_counts()['Contestant']\n",
    "cont = df.Result.value_counts()['Contestant']\n",
    "\n",
    "print('Percentage of contestants that are still operating is: %1.2f '%((cont/total_cont)*100))"
   ]
  },
  {
   "cell_type": "markdown",
   "metadata": {},
   "source": [
    "#### 5. Write your hypothesis comparing the proportion of companies that are operating between winners and contestants: \n",
    "* Write the null hypothesis and alternative hypothesis.\n",
    "* Test for significance and conclusion."
   ]
  },
  {
   "cell_type": "markdown",
   "metadata": {},
   "source": [
    "### Using z-test for proportion\n",
    "\n",
    "* Null hypothesis ||  $ H_{0} = $ The proportion is same for both the categories i.e., Winners & Contestants for the companies that are operating.\n",
    "* Alternate hypothesis ||  $ H_{a} = $ There is a significant difference in the proportion of the two categories."
   ]
  },
  {
   "cell_type": "code",
   "execution_count": 479,
   "metadata": {},
   "outputs": [],
   "source": [
    "# import ztest proportions package\n",
    "from statsmodels.stats.proportion import proportions_ztest"
   ]
  },
  {
   "cell_type": "code",
   "execution_count": 488,
   "metadata": {},
   "outputs": [
    {
     "name": "stdout",
     "output_type": "stream",
     "text": [
      "test_statistic:  -2.1839 || p_value:  0.029\n",
      "\n",
      "Reject the Null hypothesis || The difference in proportion for both categories is significant\n"
     ]
    }
   ],
   "source": [
    "# level of significance, 95 %\n",
    "# so value of alpha be 0.05\n",
    "\n",
    "alpha = 0.05\n",
    "test_statistic, p_value = proportions_ztest([cont, win], [total_cont, total_win])\n",
    "\n",
    "print('test_statistic: ',test_statistic.round(4),'|| p_value: ', p_value.round(4))\n",
    "print('')\n",
    "if p_value > alpha:\n",
    "    print('Accept the Null hypothesis || The proportion is same for both categories')\n",
    "else:\n",
    "    print('Reject the Null hypothesis || The difference in proportion for both categories is significant')"
   ]
  },
  {
   "cell_type": "markdown",
   "metadata": {},
   "source": [
    "### [ We have enough evidence to state that fund raised by the companies is not a deciding factor to state whether a company will remail operational or close down]"
   ]
  },
  {
   "cell_type": "markdown",
   "metadata": {},
   "source": [
    "#### 6. Check distribution of the Event variable. \n",
    "#### Select only the Event that has disrupt keyword from 2013 onwards."
   ]
  },
  {
   "cell_type": "code",
   "execution_count": 500,
   "metadata": {},
   "outputs": [
    {
     "data": {
      "text/plain": [
       "0       True\n",
       "1       True\n",
       "2      False\n",
       "3      False\n",
       "4      False\n",
       "       ...  \n",
       "438    False\n",
       "441    False\n",
       "442    False\n",
       "444     True\n",
       "445    False\n",
       "Name: Event, Length: 412, dtype: bool"
      ]
     },
     "execution_count": 500,
     "metadata": {},
     "output_type": "execute_result"
    }
   ],
   "source": [
    "# filter out the data of event with year > 2012 i.e. from 2013 onwards\n",
    "\n",
    "startup_data_copy['Event'].apply(lambda x: 'Disrupt' in x and int(x[-4:])> 2012)"
   ]
  },
  {
   "cell_type": "code",
   "execution_count": 501,
   "metadata": {},
   "outputs": [],
   "source": [
    "Event_df = startup_data_copy.Event[startup_data_copy['Event'].apply(lambda x: 'Disrupt' in x and int(x[-4:])> 2012)]"
   ]
  },
  {
   "cell_type": "code",
   "execution_count": 503,
   "metadata": {},
   "outputs": [
    {
     "data": {
      "text/plain": [
       "Disrupt NY 2015        21\n",
       "Disrupt NYC 2013       20\n",
       "Disrupt SF 2013        20\n",
       "Disrupt SF 2014        19\n",
       "Disrupt SF 2015        19\n",
       "Disrupt SF 2016        17\n",
       "Disrupt NY 2016        16\n",
       "Disrupt NYC 2014       16\n",
       "Disrupt London 2015    12\n",
       "Disrupt EU 2014        10\n",
       "Disrupt London 2016    10\n",
       "Disrupt EU 2013         9\n",
       "Name: Event, dtype: int64"
      ]
     },
     "execution_count": 503,
     "metadata": {},
     "output_type": "execute_result"
    }
   ],
   "source": [
    "Event_df.value_counts() # all the events that has disrupt keyword and from 2013 onwards"
   ]
  },
  {
   "cell_type": "code",
   "execution_count": 516,
   "metadata": {},
   "outputs": [
    {
     "name": "stderr",
     "output_type": "stream",
     "text": [
      "C:\\Anaconda\\lib\\site-packages\\seaborn\\_decorators.py:36: FutureWarning: Pass the following variable as a keyword arg: x. From version 0.12, the only valid positional argument will be `data`, and passing other arguments without an explicit keyword will result in an error or misinterpretation.\n",
      "  warnings.warn(\n"
     ]
    },
    {
     "data": {
      "image/png": "[encoded data removed]",
      "text/plain": [
       "<Figure size 720x432 with 1 Axes>"
      ]
     },
     "metadata": {
      "needs_background": "light"
     },
     "output_type": "display_data"
    }
   ],
   "source": [
    "# plot the distributions\n",
    "\n",
    "plt.subplots(figsize=(10,6))\n",
    "plt.title('Count Plot of Events From 2013 Onwards')\n",
    "plt.xticks(rotation=45)\n",
    "sns.countplot(Event_df , order=Event_df.value_counts().index);"
   ]
  },
  {
   "cell_type": "markdown",
   "metadata": {},
   "source": [
    "#### 7. Write and perform your hypothesis along with significance test comparing the funds raised by companies across NY, SF and EU events from 2013 onwards"
   ]
  },
  {
   "cell_type": "code",
   "execution_count": 524,
   "metadata": {},
   "outputs": [],
   "source": [
    "# make groups for the three events NY, SF, and EU from 2013 onwards\n",
    "\n",
    "events = startup_data_copy[startup_data_copy['Event'].apply(lambda x: 'Disrupt' in x and int(x[-4:])> 2012)]\n"
   ]
  },
  {
   "cell_type": "code",
   "execution_count": 536,
   "metadata": {},
   "outputs": [],
   "source": [
    "NY = events.Funds_in_Million[events.Event.apply(lambda x: 'NY' in x)]\n",
    "SF = events.Funds_in_Million[events.Event.apply(lambda x: 'SF' in x)]\n",
    "\n",
    "# Considering London and EU in same group\n",
    "\n",
    "EU = events.Funds_in_Million[events.Event.apply(lambda x: 'EU' in x or 'London' in x)]"
   ]
  },
  {
   "cell_type": "code",
   "execution_count": 550,
   "metadata": {},
   "outputs": [
    {
     "name": "stderr",
     "output_type": "stream",
     "text": [
      "C:\\Anaconda\\lib\\site-packages\\seaborn\\distributions.py:2551: FutureWarning: `distplot` is a deprecated function and will be removed in a future version. Please adapt your code to use either `displot` (a figure-level function with similar flexibility) or `histplot` (an axes-level function for histograms).\n",
      "  warnings.warn(msg, FutureWarning)\n",
      "C:\\Anaconda\\lib\\site-packages\\seaborn\\distributions.py:2551: FutureWarning: `distplot` is a deprecated function and will be removed in a future version. Please adapt your code to use either `displot` (a figure-level function with similar flexibility) or `histplot` (an axes-level function for histograms).\n",
      "  warnings.warn(msg, FutureWarning)\n",
      "C:\\Anaconda\\lib\\site-packages\\seaborn\\distributions.py:2551: FutureWarning: `distplot` is a deprecated function and will be removed in a future version. Please adapt your code to use either `displot` (a figure-level function with similar flexibility) or `histplot` (an axes-level function for histograms).\n",
      "  warnings.warn(msg, FutureWarning)\n"
     ]
    },
    {
     "data": {
      "image/png": "[encoded data removed]",
      "text/plain": [
       "<Figure size 864x576 with 1 Axes>"
      ]
     },
     "metadata": {
      "needs_background": "light"
     },
     "output_type": "display_data"
    }
   ],
   "source": [
    "\n",
    "plt.subplots(figsize=(12,8))\n",
    "plt.title('Distribution of NY, SF, and EU Events')\n",
    "sns.distplot(NY, color = 'Blue', label = 'NY Events')\n",
    "sns.distplot(SF, color = 'Red', label = 'SF Events')\n",
    "sns.distplot(EU, color = 'Green', label = 'EU Events')\n",
    "plt.legend()\n",
    "plt.show()"
   ]
  },
  {
   "cell_type": "markdown",
   "metadata": {},
   "source": [
    "### The distributions are seems to be similar.\n",
    "### We will do ANOVA test to check whether the fund raised by all the three events are same or not."
   ]
  },
  {
   "cell_type": "markdown",
   "metadata": {},
   "source": [
    "### Using ANOVA\n",
    "\n",
    "* Null hypothesis ||  $ H_{0} = $ The average fund raised by the three events are same.\n",
    "* Alternate hypothesis ||  $ H_{a} = $ The average fund raised by the three events are not same.."
   ]
  },
  {
   "cell_type": "code",
   "execution_count": 552,
   "metadata": {},
   "outputs": [],
   "source": [
    "# One way ANOVA test\n",
    "# import neccessary packages\n",
    "\n",
    "from scipy.stats import f_oneway\n",
    "\n",
    "# level of significance is 95 %\n",
    "# two tail test\n",
    "\n",
    "alpha = 0.05\n",
    "\n",
    "f_stat, p_value = f_oneway(NY, SF, EU)"
   ]
  },
  {
   "cell_type": "code",
   "execution_count": 553,
   "metadata": {},
   "outputs": [
    {
     "name": "stdout",
     "output_type": "stream",
     "text": [
      "f_stat:  0.7171 || p_value:  0.4895\n",
      "\n",
      "Accept the Null hypothesis || The proportion is same for both categories\n"
     ]
    }
   ],
   "source": [
    "print('f_stat: ',f_stat.round(4),'|| p_value: ', p_value.round(4))\n",
    "print('')\n",
    "if p_value > alpha:\n",
    "    print('Accept the Null hypothesis || The proportion is same for both categories')\n",
    "else:\n",
    "    print('Reject the Null hypothesis || The difference in proportion for both categories is significant')"
   ]
  },
  {
   "cell_type": "markdown",
   "metadata": {},
   "source": [
    "### [From the distribution plot and ANOVA test, we have enough evidence to state that funds raised by the three cities or events is same.]"
   ]
  },
  {
   "cell_type": "markdown",
   "metadata": {},
   "source": [
    "The funding raised by the companies within all categories are almost same. So, its not a deciding factor whether a company will remain in operating state or will be closed.\n",
    "\n",
    "Following data points will be required for detailed analysis of any startup:\n",
    "* Founding Year\n",
    "* Domain ------such as ed-tech, ecommerce, technical consultancy, etc.\n",
    "* Yearly Revenue\n",
    "* Customer based/ product based service\n",
    "* Country\n",
    "* Closing Year\n",
    "\n",
    "This will hellp us to determine country wise which type of startup ideas are more likely to be in operating state or closed in the future."
   ]
  },
  {
   "cell_type": "code",
   "execution_count": null,
   "metadata": {},
   "outputs": [],
   "source": []
  }
 ],
 "metadata": {
  "kernelspec": {
   "display_name": "Python 3",
   "language": "python",
   "name": "python3"
  },
  "language_info": {
   "codemirror_mode": {
    "name": "ipython",
    "version": 3
   },
   "file_extension": ".py",
   "mimetype": "text/x-python",
   "name": "python",
   "nbconvert_exporter": "python",
   "pygments_lexer": "ipython3",
   "version": "3.6.8"
  }
 },
 "nbformat": 4,
 "nbformat_minor": 4
}
