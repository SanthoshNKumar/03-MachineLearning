{
 "cells": [
  {
   "cell_type": "code",
   "execution_count": 1,
   "metadata": {},
   "outputs": [],
   "source": [
    "import numpy as np\n",
    "import pandas as pd\n",
    "import matplotlib.pyplot as plt\n",
    "import seaborn as sns\n",
    "from sklearn.preprocessing import MinMaxScaler\n",
    "from sklearn.linear_model import LinearRegression\n",
    "from sklearn.metrics import mean_absolute_error\n",
    "from sklearn.metrics import mean_squared_error\n",
    "from sklearn.metrics import r2_score\n",
    "from sklearn.preprocessing import MinMaxScaler\n",
    "\n",
    "def predictLinearRegression(X,y):\n",
    "    lm = LinearRegression()\n",
    "    lm.fit(X,y)\n",
    "    return lm.predict(X)\n",
    "\n",
    "def find_mae_mse_r2Square(target,predicted):\n",
    "    print(\"MAE:\",mean_absolute_error(target,predicted))\n",
    "    print(\"MSE:\",mean_squared_error(target,predicted))\n",
    "    print(\"R2Squared:\",r2_score(target,predicted))\n",
    "\n",
    "def getMinMaxScaler(data):\n",
    "    scaler = MinMaxScaler()\n",
    "    minMaxData = scaler.fit_transform(data)\n",
    "    minMaxData = scaler.transform(data)\n",
    "    return minMaxData"
   ]
  },
  {
   "cell_type": "code",
   "execution_count": 347,
   "metadata": {},
   "outputs": [
    {
     "name": "stdout",
     "output_type": "stream",
     "text": [
      "Without Scaling\n",
      "MAE: 4644.2012894435375\n",
      "MSE: 31270951.722280968\n",
      "R2Squared: 0.9569566641435086\n",
      "\n",
      "\n",
      "With Scaling\n",
      "MAE: 0.05485709059111194\n",
      "MSE: 0.004362993548418734\n",
      "R2Squared: 0.9569566641435086\n"
     ]
    },
    {
     "data": {
      "text/plain": [
       "LinearRegression(copy_X=True, fit_intercept=True, n_jobs=None,\n",
       "         normalize=False)"
      ]
     },
     "execution_count": 347,
     "metadata": {},
     "output_type": "execute_result"
    }
   ],
   "source": [
    "data = pd.read_csv(\"Salary_Data.csv\")\n",
    "\n",
    "X= data.iloc[:,:-1]\n",
    "y = data.iloc[:,-1]\n",
    "\n",
    "print(\"Without Scaling\")\n",
    "# Without Scaling\n",
    "y_pred = predictLinearRegression(X,y)\n",
    "find_mae_mse_r2Square(y,y_pred)\n",
    "\n",
    "print(\"\\n\\nWith Scaling\")\n",
    "#With Scaling\n",
    "X = getMinMaxScaler(X)\n",
    "y = getMinMaxScaler(y[:,np.newaxis])\n",
    "y_pred1 = predictLinearRegression(X,y)\n",
    "find_mae_mse_r2Square(y,y_pred1)\n",
    "\n",
    "lm = LinearRegression()\n",
    "lm.fit(X,y)"
   ]
  },
  {
   "cell_type": "code",
   "execution_count": null,
   "metadata": {},
   "outputs": [],
   "source": []
  },
  {
   "cell_type": "code",
   "execution_count": null,
   "metadata": {},
   "outputs": [],
   "source": []
  },
  {
   "cell_type": "code",
   "execution_count": null,
   "metadata": {},
   "outputs": [],
   "source": []
  }
 ],
 "metadata": {
  "kernelspec": {
   "display_name": "Python 3",
   "language": "python",
   "name": "python3"
  },
  "language_info": {
   "codemirror_mode": {
    "name": "ipython",
    "version": 3
   },
   "file_extension": ".py",
   "mimetype": "text/x-python",
   "name": "python",
   "nbconvert_exporter": "python",
   "pygments_lexer": "ipython3",
   "version": "3.7.4"
  }
 },
 "nbformat": 4,
 "nbformat_minor": 2
}
