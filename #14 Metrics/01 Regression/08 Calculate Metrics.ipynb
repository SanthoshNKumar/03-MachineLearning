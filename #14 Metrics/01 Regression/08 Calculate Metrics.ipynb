{
 "cells": [
  {
   "cell_type": "code",
   "execution_count": 2,
   "metadata": {},
   "outputs": [
    {
     "data": {
      "text/plain": [
       "0.0"
      ]
     },
     "execution_count": 2,
     "metadata": {},
     "output_type": "execute_result"
    }
   ],
   "source": [
    "# MSE:Mean Squared Error\n",
    "# Lower the Number is Good and 0 is Perfect Prediction\n",
    "\n",
    "import numpy as np\n",
    "from sklearn.metrics import mean_squared_error,r2_score\n",
    "\n",
    "actual = np.array([1,2,3,4,5,6,7,8,9,10])\n",
    "expected = np.array([1,2,3,4,5,6,7,8,9,10])\n",
    "\n",
    "mean_squared_error(actual,expected)"
   ]
  },
  {
   "cell_type": "code",
   "execution_count": 3,
   "metadata": {},
   "outputs": [
    {
     "name": "stdout",
     "output_type": "stream",
     "text": [
      "920.1111111111111\n",
      "10.11111111111111\n"
     ]
    }
   ],
   "source": [
    "# Mean Absolute Error : \n",
    "# The Mean Squared Error (or MSE) is much like the mean absolute error in that it provides a gross idea of the magnitude \n",
    "# of error.\n",
    "\n",
    "import numpy as np\n",
    "from sklearn.metrics import mean_squared_error,mean_absolute_error\n",
    "\n",
    "actual = np.array([1,2,3,4,5,6,7,8,100])\n",
    "expected = np.array([1,2,3,4,5,6,7,8,9])\n",
    "\n",
    "print(mean_squared_error(actual,expected))\n",
    "\n",
    "print(mean_absolute_error(actual,expected))"
   ]
  },
  {
   "cell_type": "code",
   "execution_count": 4,
   "metadata": {},
   "outputs": [
    {
     "name": "stdout",
     "output_type": "stream",
     "text": [
      "1.0\n"
     ]
    }
   ],
   "source": [
    "# R2 Score : \n",
    "# R-squared is always between 0 and 100%:\n",
    "# 0% indicates that the model explains none of the variability of the response data around its mean.\n",
    "# 100% indicates that the model explains all the variability of the response data around its mean\n",
    "\n",
    "\n",
    "import numpy as np\n",
    "from sklearn.metrics import r2_score\n",
    "\n",
    "actual = np.array([1,2,3,4,5,6,7,8,9,10])\n",
    "expected = np.array([1,2,3,4,5,6,7,8,9,10])\n",
    "\n",
    "print(r2_score(actual,expected))"
   ]
  },
  {
   "cell_type": "code",
   "execution_count": 7,
   "metadata": {},
   "outputs": [
    {
     "data": {
      "text/plain": [
       "0.03973012298459379"
      ]
     },
     "execution_count": 7,
     "metadata": {},
     "output_type": "execute_result"
    }
   ],
   "source": [
    "# MSLE\n",
    "\n",
    "from sklearn.metrics import mean_squared_log_error\n",
    "\n",
    "y_true = [3, 5, 2.5, 7]\n",
    "y_pred = [2.5, 5, 4, 8]\n",
    "\n",
    "mean_squared_log_error(y_true, y_pred)"
   ]
  },
  {
   "cell_type": "code",
   "execution_count": 8,
   "metadata": {},
   "outputs": [
    {
     "name": "stdout",
     "output_type": "stream",
     "text": [
      "0.37739999999999996\n"
     ]
    }
   ],
   "source": [
    "# Adjusted R2\n",
    "\n",
    "r2 = 0.717 # coeffient determination\n",
    "n = 12  # number of observation\n",
    "p = 6   # number of input varibales\n",
    "\n",
    "adjusted_R2 = 1- (((1-r2)*(n-1)) / (n-p-1))\n",
    "\n",
    "print(adjusted_R2)"
   ]
  },
  {
   "cell_type": "code",
   "execution_count": null,
   "metadata": {},
   "outputs": [],
   "source": []
  },
  {
   "cell_type": "code",
   "execution_count": 6,
   "metadata": {},
   "outputs": [
    {
     "name": "stdout",
     "output_type": "stream",
     "text": [
      "OLS :-R-Squared: 1.0 Mean Absolute Error: 1.0236256287043944e-14\n",
      "Ridge :-R-Squared: 0.9999999998559712 Mean Absolute Error: 0.0006000528046494669\n",
      "TSR :-R-Squared: 1.0 Mean Absolute Error: 1.3187704305787583e-13\n",
      "RANSA :-R-Squared: 1.0 Mean Absolute Error: 1.0236256287043944e-14\n",
      "ENet :-R-Squared: 0.999999189351611 Mean Absolute Error: 0.04497751124437554\n",
      "Huber :-R-Squared: 1.0 Mean Absolute Error: 1.0862986270921825e-10\n"
     ]
    }
   ],
   "source": [
    "import numpy as np\n",
    "import matplotlib.pyplot as plt\n",
    "\n",
    "# Define points\n",
    "num_points = 100\n",
    "\n",
    "# Define simple Function\n",
    "X = np.arange(num_points)\n",
    "y = 2 * X\n",
    "\n",
    "from sklearn.linear_model import LinearRegression,Ridge,TheilSenRegressor,RANSACRegressor,ElasticNet,HuberRegressor\n",
    "from sklearn.metrics import r2_score,mean_absolute_error\n",
    "\n",
    "named_estimators = [('OLS',LinearRegression()),\n",
    "                    ('Ridge',Ridge()),\n",
    "                    ('TSR',TheilSenRegressor()),\n",
    "                    ('RANSA',RANSACRegressor()),\n",
    "                    ('ENet',ElasticNet()),\n",
    "                    ('Huber',HuberRegressor())]\n",
    "\n",
    "for num_index,est in enumerate(named_estimators):\n",
    "    \n",
    "    y_pred = est[1].fit(X.reshape(-1,1),y).predict(X.reshape(-1,1))\n",
    "    \n",
    "    print(est[0],\":-R-Squared:\",r2_score(y_pred,y),\"Mean Absolute Error:\",mean_absolute_error(y_pred,y))"
   ]
  },
  {
   "cell_type": "code",
   "execution_count": null,
   "metadata": {},
   "outputs": [],
   "source": []
  }
 ],
 "metadata": {
  "kernelspec": {
   "display_name": "Python 3",
   "language": "python",
   "name": "python3"
  },
  "language_info": {
   "codemirror_mode": {
    "name": "ipython",
    "version": 3
   },
   "file_extension": ".py",
   "mimetype": "text/x-python",
   "name": "python",
   "nbconvert_exporter": "python",
   "pygments_lexer": "ipython3",
   "version": "3.7.4"
  }
 },
 "nbformat": 4,
 "nbformat_minor": 2
}
