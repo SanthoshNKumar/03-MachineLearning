{
 "cells": [
  {
   "cell_type": "code",
   "execution_count": 1,
   "metadata": {},
   "outputs": [
    {
     "name": "stdout",
     "output_type": "stream",
     "text": [
      "DecisionTreeClassifier(criterion='entropy')\n",
      "Decision tree score: 0.829\n"
     ]
    }
   ],
   "source": [
    "import numpy as np\n",
    "import multiprocessing\n",
    "from sklearn.datasets import load_digits\n",
    "from sklearn.tree import DecisionTreeClassifier\n",
    "from sklearn.model_selection import GridSearchCV\n",
    "\n",
    "digits = load_digits()\n",
    "\n",
    "# Define Param_grids\n",
    "param_grid = [{\n",
    "               'criterion': ['gini','entropy'],\n",
    "               'max_features' : ['auto','log2',None],\n",
    "               'min_samples_split' : [2,10,25,100,200],\n",
    "                'max_depth' : [5,10,15,None]\n",
    "             }]\n",
    "\n",
    "# Create and train a Grid Search\n",
    "gs = GridSearchCV(estimator=DecisionTreeClassifier(),param_grid=param_grid,\n",
    "                  scoring='accuracy',cv=10,n_jobs=multiprocessing.cpu_count())\n",
    "\n",
    "gs.fit(digits.data, digits.target)\n",
    "\n",
    "print(gs.best_estimator_)\n",
    "print('Decision tree score: %.3f' % gs.best_score_)"
   ]
  },
  {
   "cell_type": "code",
   "execution_count": null,
   "metadata": {},
   "outputs": [],
   "source": [
    "import numpy as np\n",
    "import pandas as pd\n",
    "import matplotlib.pyplot as plt\n",
    "from sklearn.tree import DecisionTreeClassifier\n",
    "from sklearn.model_selection import train_test_split\n",
    "from sklearn.metrics import accuracy_score\n",
    "from sklearn.model_selection import GridSearchCV\n",
    "\n",
    "# Read the data \n",
    "balance_data = pd.read_csv(\"balance-scale.data\",sep=',',header=None)\n",
    "\n",
    "# Data Slicing ; Obervations and Responce\n",
    "X = balance_data.iloc[:,1:5]\n",
    "Y = balance_data.iloc[:,0]\n",
    "\n",
    "# learn’s train_test_split() method.\n",
    "X_train,X_test,y_train,y_test = train_test_split(X,Y,test_size=0.3)\n",
    "\n",
    "# Instantiating the model\n",
    "model = DecisionTreeClassifier()\n",
    "\n",
    "criterion = ['gini','entropy']\n",
    "max_depth = [1,3,5,None]\n",
    "splitter = ['best','random']\n",
    "\n",
    "grid = GridSearchCV(estimator=model,cv=3,param_grid=dict(criterion = criterion,max_depth= max_depth,splitter = splitter))\n",
    "\n",
    "grid.fit(X_train,y_train)\n",
    "\n",
    "# Depending on the designated parameter for measuring the model,will print the best score thoughout the grid search\n",
    "print(grid.best_score_)\n",
    "\n",
    "# Will print out the best prameters used for the highest score of the model.\n",
    "print(grid.best_params_)"
   ]
  },
  {
   "cell_type": "code",
   "execution_count": 1,
   "metadata": {},
   "outputs": [
    {
     "name": "stdout",
     "output_type": "stream",
     "text": [
      "GridSearchCV(estimator=Ridge(),\n",
      "             param_grid={'alpha': array([1.e+00, 1.e-01, 1.e-02, 1.e-03, 1.e-04, 0.e+00])})\n",
      "0.48232313841634833\n",
      "0.0001\n"
     ]
    }
   ],
   "source": [
    "import numpy as np\n",
    "from sklearn.datasets import load_diabetes\n",
    "from sklearn.model_selection import GridSearchCV\n",
    "from sklearn.linear_model import Ridge\n",
    "\n",
    "dataset = load_diabetes()\n",
    "\n",
    "# prepare a range of alpha values to test\n",
    "alphas = np.array([1,0.1,0.01,0.001,0.0001,0])\n",
    "\n",
    "#Create Model\n",
    "model = Ridge()\n",
    "grid = GridSearchCV(estimator=model,param_grid=dict(alpha = alphas))\n",
    "\n",
    "grid.fit(dataset.data, dataset.target)\n",
    "print(grid)\n",
    "# summarize the results of the grid search\n",
    "print(grid.best_score_)\n",
    "print(grid.best_estimator_.alpha)"
   ]
  },
  {
   "cell_type": "code",
   "execution_count": null,
   "metadata": {},
   "outputs": [],
   "source": []
  }
 ],
 "metadata": {
  "kernelspec": {
   "display_name": "Python 3",
   "language": "python",
   "name": "python3"
  },
  "language_info": {
   "codemirror_mode": {
    "name": "ipython",
    "version": 3
   },
   "file_extension": ".py",
   "mimetype": "text/x-python",
   "name": "python",
   "nbconvert_exporter": "python",
   "pygments_lexer": "ipython3",
   "version": "3.7.4"
  }
 },
 "nbformat": 4,
 "nbformat_minor": 2
}
