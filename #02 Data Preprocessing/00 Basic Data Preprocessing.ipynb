{
 "cells": [
  {
   "cell_type": "markdown",
   "metadata": {},
   "source": [
    "### 01 Data scaling"
   ]
  },
  {
   "cell_type": "code",
   "execution_count": null,
   "metadata": {},
   "outputs": [],
   "source": [
    "01 Standardziation\n",
    "    - Mean 0 and Standard Deviation of 1\n",
    "\n",
    "02 MinMaxScaler\n",
    "    - rescale variables into the range [0,1]\n",
    "\n",
    "03 Normalization\n",
    "    - L1 Norm\n",
    "        - Calculated as the sum of the absolute values of the vector.\n",
    "    - L2 Norm\n",
    "        - Calculated as the square root of the sum of the squared vector values.\n",
    "\n",
    "04 Z_scores\n",
    "    - the process dataset such that the mean of all of the values is 0 and the standard deviation is 1"
   ]
  },
  {
   "cell_type": "markdown",
   "metadata": {},
   "source": [
    "### 02  Convert Categorical Varibles (Categorical Encoding)"
   ]
  },
  {
   "cell_type": "code",
   "execution_count": null,
   "metadata": {},
   "outputs": [],
   "source": [
    "# 01. Number Encoder\n",
    "        - label Encoding\n",
    "        - Ordinal Encoding\n",
    "        \n",
    "#02 Binarization\n",
    "    - (0,1)\n",
    "\n",
    "#03 Label Binarization\n",
    "\n",
    "#04 One Hot Encoding\n",
    "                \n",
    "# Difference between Label Enocder and Ordinal Encoder\n",
    "        - OrdinalEncoder is for 2D data with the shape (n_samples, n_features)\n",
    "        - OrdinalEncoder learns categories_\n",
    "        \n",
    "        - LabelEncoder is for 1D data with the shape (n_samples,))\n",
    "        - LabelEncoder learns classes_\n",
    "        \n",
    "# Difference between Label Binarization and One Hot Encoding\n",
    "        - One Hot Encoding is for 2D data with the shape (n_samples, n_features) \n",
    "        - OrdinalEncoder learns categories_\n",
    "    \n",
    "        - Label Binarization is for 1D data with the shape (n_samples,))\n",
    "        - Label Binarization learns classes_\n",
    "        \n",
    "** Note : 1D data = [1,2,3,4,5,6] (List) and 2D data = [[1,2],[3,4],[5,6]] (Matrix)"
   ]
  },
  {
   "cell_type": "code",
   "execution_count": null,
   "metadata": {},
   "outputs": [],
   "source": [
    "# Number Labeling"
   ]
  },
  {
   "attachments": {
    "01%20Labeling.png": {
     "image/png": "[encoded data removed]"
    }
   },
   "cell_type": "markdown",
   "metadata": {},
   "source": [
    "![01%20Labeling.png](attachment:01%20Labeling.png)"
   ]
  },
  {
   "cell_type": "code",
   "execution_count": 1,
   "metadata": {},
   "outputs": [],
   "source": [
    "# Ordinal Labeling"
   ]
  },
  {
   "attachments": {
    "02%20Oridinal%20labeling.png": {
     "image/png": "[encoded data removed]"
    }
   },
   "cell_type": "markdown",
   "metadata": {},
   "source": [
    "![02%20Oridinal%20labeling.png](attachment:02%20Oridinal%20labeling.png)"
   ]
  },
  {
   "cell_type": "code",
   "execution_count": null,
   "metadata": {},
   "outputs": [],
   "source": [
    "# Binarization"
   ]
  },
  {
   "attachments": {
    "03%20Binarization.png": {
     "image/png": "[encoded data removed]"
    }
   },
   "cell_type": "markdown",
   "metadata": {},
   "source": [
    "![03%20Binarization.png](attachment:03%20Binarization.png)"
   ]
  },
  {
   "cell_type": "code",
   "execution_count": null,
   "metadata": {},
   "outputs": [],
   "source": [
    "# label Binarization"
   ]
  },
  {
   "attachments": {
    "03%20LabelBinarization.png": {
     "image/png": "[encoded data removed]"
    }
   },
   "cell_type": "markdown",
   "metadata": {},
   "source": [
    "![03%20LabelBinarization.png](attachment:03%20LabelBinarization.png)"
   ]
  },
  {
   "cell_type": "code",
   "execution_count": null,
   "metadata": {},
   "outputs": [],
   "source": [
    "# One Hot Encoding"
   ]
  },
  {
   "attachments": {
    "04%20One%20Hot%20Encoding.png": {
     "image/png": "[encoded data removed]"
    }
   },
   "cell_type": "markdown",
   "metadata": {},
   "source": [
    "![04%20One%20Hot%20Encoding.png](attachment:04%20One%20Hot%20Encoding.png)"
   ]
  },
  {
   "cell_type": "code",
   "execution_count": null,
   "metadata": {},
   "outputs": [],
   "source": []
  },
  {
   "cell_type": "markdown",
   "metadata": {},
   "source": [
    "### 03 Create Dummy Dataset"
   ]
  },
  {
   "cell_type": "code",
   "execution_count": null,
   "metadata": {},
   "outputs": [],
   "source": [
    "# Different Types of Dummy data Creation\n",
    "\n",
    "    01 Make Blobs\n",
    "    02 Make Circles\n",
    "    03 Make Classification\n",
    "    04 Make Moons\n",
    "    05 Make Regression\n",
    "    06 Make Data points on 4 Quarants\n"
   ]
  },
  {
   "cell_type": "markdown",
   "metadata": {},
   "source": [
    "### 04 Outlier Detection"
   ]
  },
  {
   "cell_type": "code",
   "execution_count": null,
   "metadata": {},
   "outputs": [],
   "source": [
    "# Outlier Detection Different Techniques\n",
    "\n",
    "    01 Density And Boxplot\n",
    "    02 Hypothesis Testing_One_Sampled_T-test\n",
    "    03 Inter Quartile Range(IQR)\n",
    "    04 IsolationForest\n",
    "    05 K-Means Clustering for Outlier Detection\n",
    "    06 RANSAC (Random sample consensus)\n",
    "    07 Scatter Plot\n",
    "    08 Standard Deviation Method\n",
    "    09 Statistics_Gaussin_Extreme values\n",
    "    10 Statistics_Gaussin_Log Tails\n",
    "    11 Z-scores"
   ]
  },
  {
   "cell_type": "markdown",
   "metadata": {},
   "source": [
    "### 05 Get Good Gaussin Distribution\n"
   ]
  },
  {
   "cell_type": "code",
   "execution_count": null,
   "metadata": {},
   "outputs": [],
   "source": [
    "# Different Techniques to get the Gaussin Distribution\n",
    "\n",
    "    01 Add More Samples\n",
    "    02 Identify and Remove the Extreme Values in the data distribution\n",
    "    03 Handle Long Tiles (simple threshold values)"
   ]
  }
 ],
 "metadata": {
  "kernelspec": {
   "display_name": "Python 3",
   "language": "python",
   "name": "python3"
  },
  "language_info": {
   "codemirror_mode": {
    "name": "ipython",
    "version": 3
   },
   "file_extension": ".py",
   "mimetype": "text/x-python",
   "name": "python",
   "nbconvert_exporter": "python",
   "pygments_lexer": "ipython3",
   "version": "3.7.4"
  }
 },
 "nbformat": 4,
 "nbformat_minor": 2
}
