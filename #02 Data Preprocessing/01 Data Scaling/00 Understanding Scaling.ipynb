{
 "cells": [
  {
   "cell_type": "code",
   "execution_count": null,
   "metadata": {},
   "outputs": [],
   "source": [
    "'''\n",
    "Normalization is good to use when you know that the distribution of your data does not follow a Gaussian distribution. \n",
    "This can be useful in algorithms that do not assume any distribution of the data like K-Nearest Neighbors and Neural Networks.\n",
    "\n",
    "Standardization, on the other hand, can be helpful in cases where the data follows a Gaussian distribution. \n",
    "However, this does not have to be necessarily true. \n",
    "Also, unlike normalization, standardization does not have a bounding range. \n",
    "So, even if you have outliers in your data, they will not be affected by standardization.\n",
    "\n",
    "However, at the end of the day, the choice of using normalization or standardization will depend on your problem and the \n",
    "machine learning algorithm you are using.\n",
    "\n",
    "There is no hard and fast rule to tell you when to normalize or standardize your data.\n",
    "\n",
    "You can always start by fitting your model to raw, normalized and standardized data and compare the performance for best \n",
    "results."
   ]
  }
 ],
 "metadata": {
  "kernelspec": {
   "display_name": "Python 3",
   "language": "python",
   "name": "python3"
  },
  "language_info": {
   "codemirror_mode": {
    "name": "ipython",
    "version": 3
   },
   "file_extension": ".py",
   "mimetype": "text/x-python",
   "name": "python",
   "nbconvert_exporter": "python",
   "pygments_lexer": "ipython3",
   "version": "3.7.4"
  }
 },
 "nbformat": 4,
 "nbformat_minor": 2
}
