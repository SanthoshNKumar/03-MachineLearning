{
 "cells": [
  {
   "cell_type": "code",
   "execution_count": null,
   "metadata": {},
   "outputs": [],
   "source": [
    "# Nomralization : L1 and L2\n",
    "\n",
    "# L1 : The L1 norm that is calculated as the sum of the absolute values of the vector.\n",
    "# l2 : The L2 norm that is calculated as the square root of the sum of the squared vector values.\n",
    "# Max Norm : The max norm that is calculated as the maximum vector values."
   ]
  },
  {
   "cell_type": "code",
   "execution_count": 1,
   "metadata": {},
   "outputs": [],
   "source": [
    "# 01 : Understanding L1 and L2 normalization\n",
    "\n",
    "# 02 : Example using preprocessing normalize"
   ]
  },
  {
   "cell_type": "code",
   "execution_count": 2,
   "metadata": {},
   "outputs": [
    {
     "name": "stdout",
     "output_type": "stream",
     "text": [
      "[1. 2.]\n"
     ]
    }
   ],
   "source": [
    "# 01 : Understnading L1 and L2 Normalization\n",
    "\n",
    "import numpy as np\n",
    "from sklearn.preprocessing import Normalizer\n",
    "\n",
    "data = np.array([1.0, 2.0])\n",
    "print(data)"
   ]
  },
  {
   "cell_type": "code",
   "execution_count": 3,
   "metadata": {},
   "outputs": [
    {
     "name": "stdout",
     "output_type": "stream",
     "text": [
      "[[0.5 1. ]]\n"
     ]
    }
   ],
   "source": [
    "n_max = Normalizer(norm='max')\n",
    "nm = n_max.fit_transform(data.reshape(1, -1))\n",
    "print(nm)"
   ]
  },
  {
   "cell_type": "code",
   "execution_count": 4,
   "metadata": {},
   "outputs": [
    {
     "name": "stdout",
     "output_type": "stream",
     "text": [
      "[[0.33333333 0.66666667]]\n"
     ]
    }
   ],
   "source": [
    "# L1 normalization\n",
    "\n",
    "n_l1 = Normalizer(norm='l1')\n",
    "nl1 = n_l1.fit_transform(data.reshape(1, -1))\n",
    "print(nl1)\n",
    "\n",
    "# data = [1,2]  = 1 + 2 = 3\n",
    "#  1/3 = 0.33333 ; 2/3 = 0.666666"
   ]
  },
  {
   "cell_type": "code",
   "execution_count": 6,
   "metadata": {},
   "outputs": [
    {
     "name": "stdout",
     "output_type": "stream",
     "text": [
      "[[0.4472136  0.89442719]]\n"
     ]
    }
   ],
   "source": [
    "# L2 normalization\n",
    "\n",
    "n_l2 = Normalizer(norm='l2')\n",
    "nl2 = n_l2.fit_transform(data.reshape(1, -1))\n",
    "print(nl2)\n",
    "\n",
    "# data = [1,2] = 1*1 + 2*2  = 5 => sqrt(5) = 2.236\n",
    "# 1/2.236 = 0.4472; 3/2.236 = 0.8944 "
   ]
  },
  {
   "cell_type": "code",
   "execution_count": 7,
   "metadata": {},
   "outputs": [],
   "source": [
    "# 02 : Example"
   ]
  },
  {
   "cell_type": "code",
   "execution_count": 8,
   "metadata": {},
   "outputs": [
    {
     "name": "stdout",
     "output_type": "stream",
     "text": [
      "     0    1    2    3\n",
      "0  5.1  3.5  1.4  0.2\n",
      "1  4.9  3.0  1.4  0.2\n",
      "2  4.7  3.2  1.3  0.2\n",
      "3  4.6  3.1  1.5  0.2\n",
      "4  5.0  3.6  1.4  0.2\n"
     ]
    }
   ],
   "source": [
    "import numpy as np\n",
    "import pandas as pd\n",
    "import matplotlib.pyplot as plt\n",
    "from sklearn.preprocessing import normalize\n",
    "from sklearn.datasets import load_iris\n",
    "\n",
    "#vStandatdScaler : mean = 0 and variance = 1\n",
    "    \n",
    "df = load_iris()\n",
    "\n",
    "x = df.data\n",
    "y = df.target\n",
    "\n",
    "# Standardizing the features\n",
    "x_after = normalize(x, norm='l1',axis=0)\n",
    "\n",
    "print(pd.DataFrame(x).head()) # Before Standardziation"
   ]
  },
  {
   "cell_type": "code",
   "execution_count": 9,
   "metadata": {},
   "outputs": [
    {
     "name": "stdout",
     "output_type": "stream",
     "text": [
      "          0         1         2         3\n",
      "0  0.005819  0.007632  0.002484  0.001112\n",
      "1  0.005590  0.006542  0.002484  0.001112\n",
      "2  0.005362  0.006978  0.002306  0.001112\n",
      "3  0.005248  0.006760  0.002661  0.001112\n",
      "4  0.005705  0.007850  0.002484  0.001112\n"
     ]
    }
   ],
   "source": [
    "print(pd.DataFrame(x_after).head()) # After Standardziation"
   ]
  },
  {
   "cell_type": "code",
   "execution_count": 10,
   "metadata": {},
   "outputs": [
    {
     "data": {
      "text/plain": [
       "<matplotlib.axes._subplots.AxesSubplot at 0x2136dbdfd48>"
      ]
     },
     "execution_count": 10,
     "metadata": {},
     "output_type": "execute_result"
    },
    {
     "data": {
      "image/png": "[encoded data removed]",
      "text/plain": [
       "<Figure size 432x288 with 1 Axes>"
      ]
     },
     "metadata": {
      "needs_background": "light"
     },
     "output_type": "display_data"
    }
   ],
   "source": [
    "pd.DataFrame(x)[1].plot.hist(bins=12, alpha=0.5)"
   ]
  },
  {
   "cell_type": "code",
   "execution_count": 11,
   "metadata": {},
   "outputs": [
    {
     "data": {
      "text/plain": [
       "<matplotlib.axes._subplots.AxesSubplot at 0x21371134f48>"
      ]
     },
     "execution_count": 11,
     "metadata": {},
     "output_type": "execute_result"
    },
    {
     "data": {
      "image/png": "[encoded data removed]",
      "text/plain": [
       "<Figure size 432x288 with 1 Axes>"
      ]
     },
     "metadata": {
      "needs_background": "light"
     },
     "output_type": "display_data"
    }
   ],
   "source": [
    "pd.DataFrame(x_after)[1].plot.hist(bins=12, alpha=0.5)"
   ]
  }
 ],
 "metadata": {
  "kernelspec": {
   "display_name": "Python 3",
   "language": "python",
   "name": "python3"
  },
  "language_info": {
   "codemirror_mode": {
    "name": "ipython",
    "version": 3
   },
   "file_extension": ".py",
   "mimetype": "text/x-python",
   "name": "python",
   "nbconvert_exporter": "python",
   "pygments_lexer": "ipython3",
   "version": "3.7.4"
  }
 },
 "nbformat": 4,
 "nbformat_minor": 2
}
