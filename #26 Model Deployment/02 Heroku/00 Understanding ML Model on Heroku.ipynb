{
 "cells": [
  {
   "cell_type": "code",
   "execution_count": null,
   "metadata": {},
   "outputs": [],
   "source": [
    "'''\n",
    "Heroku CLI : \n",
    "    The Heroku Command Line Interface (CLI) makes it easy to create and manage your Heroku apps directly from the terminal. \n",
    "    It's an essential part of using Heroku.\n",
    "\n",
    "Prerequisite:\n",
    "    You must have installed Git in your system.\n",
    "    You must have installed Python in your system."
   ]
  },
  {
   "cell_type": "code",
   "execution_count": null,
   "metadata": {},
   "outputs": [],
   "source": [
    "'''\n",
    "Steps :\n",
    "    Step-1: Install Heroku CLI\n",
    "\n",
    "    Step-2: Create Python Virtual Environment\n",
    "\n",
    "    Step-3: Install Flask & Gunicorn\n",
    "\n",
    "    Step-4: Create an app folder and simple python app\n",
    "\n",
    "    Step-5: Create an entry point to the application, wsgi.py\n",
    "\n",
    "    Step-6: Run the application in your local system\n",
    "\n",
    "    Step-7: Create requirements.txt and Procfile file\n",
    "\n",
    "    Step-8: Create an app in Heroku\n",
    "\n",
    "    Step-9: Deploy your app to heroku\n",
    "\n",
    "    Step-10: Open your application on browser"
   ]
  },
  {
   "cell_type": "code",
   "execution_count": null,
   "metadata": {},
   "outputs": [],
   "source": [
    "'''\n",
    "A Virtual Environment or a \"venv\" is a Python module that creates a unique environment for each task or project\n",
    "    - python 3 -m venv codingx-python"
   ]
  },
  {
   "cell_type": "code",
   "execution_count": null,
   "metadata": {},
   "outputs": [],
   "source": [
    "'''\n",
    "Gunicorn\n",
    "    The Gunicorn \"Green Unicorn\" is a Python Web Server Gateway Interface HTTP server.\n",
    "    Gunicorn is a pure-Python HTTP server for WSGI applications."
   ]
  },
  {
   "cell_type": "code",
   "execution_count": null,
   "metadata": {},
   "outputs": [],
   "source": [
    "'''\n",
    "Procfile\n",
    "Procfile is a mechanism for declaring what commands are run by your application’s dynos on the Heroku platform."
   ]
  },
  {
   "cell_type": "code",
   "execution_count": null,
   "metadata": {},
   "outputs": [],
   "source": [
    "'''\n",
    "what Procfile Contiains:\n",
    "    web gunicorn application:app\n",
    "    (Heroku understand the main application) (filename:Object name)"
   ]
  },
  {
   "cell_type": "code",
   "execution_count": null,
   "metadata": {},
   "outputs": [],
   "source": [
    "'''\n",
    "requirements.txt\n",
    "\n",
    "To specify Python package dependencies on Heroku via pip, add a pip requirements file named requirements.txt to the \n",
    "root of your repository"
   ]
  }
 ],
 "metadata": {
  "kernelspec": {
   "display_name": "Python 3",
   "language": "python",
   "name": "python3"
  },
  "language_info": {
   "codemirror_mode": {
    "name": "ipython",
    "version": 3
   },
   "file_extension": ".py",
   "mimetype": "text/x-python",
   "name": "python",
   "nbconvert_exporter": "python",
   "pygments_lexer": "ipython3",
   "version": "3.7.4"
  }
 },
 "nbformat": 4,
 "nbformat_minor": 2
}
