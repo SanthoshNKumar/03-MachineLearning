{
 "cells": [
  {
   "cell_type": "code",
   "execution_count": null,
   "metadata": {},
   "outputs": [],
   "source": [
    "'''\n",
    "Cross Validation:\n",
    "\n",
    "    - Cross-validation is a method of splitting all your data into three parts: \n",
    "                                                                            1. training\n",
    "                                                                            2. testing\n",
    "                                                                            3. validation data.\n",
    "                                                                            \n",
    "      Data is split into k subsets, and the model has trained on k-1 of those datasets.\n",
    "      \n",
    "      The last subset is held for testing. This is done for each of the subsets. This is k-fold cross-validation. \n",
    "      Finally, the scores from all the k-folds are averaged to produce the final score.\n",
    "\n"
   ]
  },
  {
   "attachments": {
    "cv.GIF": {
     "image/gif": "[encoded data removed]"
    }
   },
   "cell_type": "markdown",
   "metadata": {},
   "source": [
    "![cv.GIF](attachment:cv.GIF)"
   ]
  },
  {
   "cell_type": "code",
   "execution_count": null,
   "metadata": {},
   "outputs": [],
   "source": [
    "'''\n",
    "List popular cross validation techniques\n",
    "   -  K fold\n",
    "   -  Stratified k fold\n",
    "   -  Leave one out\n",
    "   -  Bootstrapping\n",
    "   -  Random search cv\n",
    "   -  Grid search cv"
   ]
  },
  {
   "cell_type": "code",
   "execution_count": null,
   "metadata": {},
   "outputs": [],
   "source": [
    "'''\n",
    "How Stratified k fold Woks?\n",
    "\n",
    "    - Stratified kfold cross validation is typically useful when we have imbalanced data and where the data size is on the \n",
    "      small side.\n",
    "      \n",
    "    - When the data is large enough we can still use regular kfold cross validation as this will often preserve the class \n",
    "      ratios but this becomes less likely with fewer training examples.\n",
    "      \n",
    "      Ex : If we are building a model to classify images of cats and dogs and we have a data set that’s comprised of 75% cat \n",
    "           images and 25% dog images, using stratified kfold cross valuation will mean that each fold we create remains \n",
    "           close to this 75/25 ratio\n",
    "           \n",
    "           \n",
    "When to use Stratified k fold?\n",
    "    - We want to preserve the class ratio of our target\n",
    "    - We have relatively fewer training examples"
   ]
  },
  {
   "cell_type": "code",
   "execution_count": null,
   "metadata": {},
   "outputs": [],
   "source": [
    "'''\n",
    "Resampling"
   ]
  },
  {
   "cell_type": "code",
   "execution_count": null,
   "metadata": {},
   "outputs": [],
   "source": [
    "'''\n",
    "KFold"
   ]
  },
  {
   "cell_type": "code",
   "execution_count": null,
   "metadata": {},
   "outputs": [],
   "source": [
    "'''\n",
    "cross_val_score"
   ]
  },
  {
   "cell_type": "code",
   "execution_count": null,
   "metadata": {},
   "outputs": [],
   "source": []
  },
  {
   "cell_type": "code",
   "execution_count": 5,
   "metadata": {},
   "outputs": [],
   "source": [
    "import warnings\n",
    "warnings.filterwarnings('ignore')"
   ]
  },
  {
   "cell_type": "markdown",
   "metadata": {},
   "source": [
    "### KFold"
   ]
  },
  {
   "cell_type": "code",
   "execution_count": 4,
   "metadata": {},
   "outputs": [
    {
     "name": "stdout",
     "output_type": "stream",
     "text": [
      "Fold =  1\n",
      "Train Index : [2 3 4 5 6 7 8]\n",
      "Test Index: [0 1]\n",
      "**********************\n",
      "Fold =  2\n",
      "Train Index : [0 1 4 5 6 7 8]\n",
      "Test Index: [2 3]\n",
      "**********************\n",
      "Fold =  3\n",
      "Train Index : [0 1 2 3 6 7 8]\n",
      "Test Index: [4 5]\n",
      "**********************\n",
      "Fold =  4\n",
      "Train Index : [0 1 2 3 4 5 8]\n",
      "Test Index: [6 7]\n",
      "**********************\n",
      "Fold =  5\n",
      "Train Index : [0 1 2 3 4 5 6 7]\n",
      "Test Index: [8]\n",
      "**********************\n"
     ]
    }
   ],
   "source": [
    "'''\n",
    "How K FOld Works\n",
    "'''\n",
    "from sklearn.model_selection import KFold\n",
    "import numpy as np\n",
    "import pandas as pd\n",
    "\n",
    "# Get only the 25 Rows of Data\n",
    "df = pd.read_csv(\"housing.csv\").iloc[0:25,6:7]\n",
    "\n",
    "df1 = pd.DataFrame([1,2,3,4,5,6,7,8,9])\n",
    "\n",
    "cv = KFold(n_splits=5, random_state=42, shuffle=False)\n",
    "\n",
    "i=0\n",
    "\n",
    "for train_index, test_index in cv.split(df1):\n",
    "    i += 1\n",
    "    print(\"Fold = \",i)\n",
    "    print(\"Train Index :\",train_index)\n",
    "    print(\"Test Index:\",test_index)\n",
    "    print(\"**********************\")\n"
   ]
  },
  {
   "cell_type": "markdown",
   "metadata": {},
   "source": [
    "### cross_val_score"
   ]
  },
  {
   "cell_type": "code",
   "execution_count": 8,
   "metadata": {},
   "outputs": [
    {
     "name": "stdout",
     "output_type": "stream",
     "text": [
      "0.7842305458373329\n",
      "-37.28723086835311\n",
      "46.78955638802006\n"
     ]
    },
    {
     "data": {
      "text/plain": [
       "0.2025289900605652"
      ]
     },
     "execution_count": 8,
     "metadata": {},
     "output_type": "execute_result"
    }
   ],
   "source": [
    "import pandas as pd\n",
    "from sklearn.datasets import load_boston\n",
    "\n",
    "boston = load_boston()\n",
    "\n",
    "from sklearn.linear_model import LinearRegression\n",
    "from sklearn.model_selection import train_test_split\n",
    "\n",
    "X_train,X_test,y_train,y_test = train_test_split(boston.data,boston.target,test_size=0.1)\n",
    "\n",
    "lr = LinearRegression(normalize=True)\n",
    "lr.fit(X_train,y_train)\n",
    "\n",
    "print(lr.score(X_test,y_test))\n",
    "\n",
    "# Cross Validation\n",
    "from sklearn.model_selection import cross_val_score\n",
    "\n",
    "scores = cross_val_score(lr,boston.data,boston.target,cv=7,scoring='neg_mean_squared_error')\n",
    "\n",
    "print(scores.mean())\n",
    "print(scores.std())\n",
    "\n",
    "cross_val_score(lr,boston.data,boston.target,cv=10,scoring='r2').mean()"
   ]
  },
  {
   "cell_type": "code",
   "execution_count": null,
   "metadata": {},
   "outputs": [],
   "source": []
  }
 ],
 "metadata": {
  "kernelspec": {
   "display_name": "Python 3",
   "language": "python",
   "name": "python3"
  },
  "language_info": {
   "codemirror_mode": {
    "name": "ipython",
    "version": 3
   },
   "file_extension": ".py",
   "mimetype": "text/x-python",
   "name": "python",
   "nbconvert_exporter": "python",
   "pygments_lexer": "ipython3",
   "version": "3.7.4"
  }
 },
 "nbformat": 4,
 "nbformat_minor": 2
}
