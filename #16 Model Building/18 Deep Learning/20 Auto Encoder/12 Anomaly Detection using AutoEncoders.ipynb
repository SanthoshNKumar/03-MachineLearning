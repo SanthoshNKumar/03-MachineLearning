{
 "cells": [
  {
   "cell_type": "code",
   "execution_count": 36,
   "metadata": {},
   "outputs": [],
   "source": [
    "import seaborn as sns\n",
    "import pandas as pd\n",
    "import numpy as np\n",
    "import matplotlib.pyplot as plt\n",
    "import matplotlib.gridspec as gridspec\n",
    "\n",
    "import tensorflow as tf\n",
    "from tensorflow import keras\n",
    "from tensorflow.keras import optimizers\n",
    "from tensorflow.keras.models import Sequential, Model\n",
    "from tensorflow.keras.layers import Dense, Input, Dropout, Embedding, LSTM\n",
    "from tensorflow.keras.optimizers import RMSprop, Adam, Nadam\n",
    "from tensorflow.keras.preprocessing import sequence\n",
    "from tensorflow.keras.callbacks import TensorBoard\n",
    "import sklearn\n",
    "from sklearn.preprocessing import StandardScaler\n",
    "from sklearn.preprocessing import MinMaxScaler\n",
    "from sklearn.model_selection import train_test_split\n",
    "from sklearn.metrics import confusion_matrix, roc_auc_score, classification_report\n"
   ]
  },
  {
   "cell_type": "code",
   "execution_count": 37,
   "metadata": {},
   "outputs": [],
   "source": [
    "ctg = pd.read_csv('CTG.csv')"
   ]
  },
  {
   "cell_type": "code",
   "execution_count": 38,
   "metadata": {},
   "outputs": [
    {
     "data": {
      "text/plain": [
       "(2129, 23)"
      ]
     },
     "execution_count": 38,
     "metadata": {},
     "output_type": "execute_result"
    }
   ],
   "source": [
    "ctg.shape"
   ]
  },
  {
   "cell_type": "code",
   "execution_count": 39,
   "metadata": {},
   "outputs": [
    {
     "data": {
      "text/html": [
       "<div>\n",
       "<style scoped>\n",
       "    .dataframe tbody tr th:only-of-type {\n",
       "        vertical-align: middle;\n",
       "    }\n",
       "\n",
       "    .dataframe tbody tr th {\n",
       "        vertical-align: top;\n",
       "    }\n",
       "\n",
       "    .dataframe thead th {\n",
       "        text-align: right;\n",
       "    }\n",
       "</style>\n",
       "<table border=\"1\" class=\"dataframe\">\n",
       "  <thead>\n",
       "    <tr style=\"text-align: right;\">\n",
       "      <th></th>\n",
       "      <th>LB</th>\n",
       "      <th>AC</th>\n",
       "      <th>FM</th>\n",
       "      <th>UC</th>\n",
       "      <th>ASTV</th>\n",
       "      <th>MSTV</th>\n",
       "      <th>ALTV</th>\n",
       "      <th>MLTV</th>\n",
       "      <th>DL</th>\n",
       "      <th>DS</th>\n",
       "      <th>...</th>\n",
       "      <th>Max</th>\n",
       "      <th>Nmax</th>\n",
       "      <th>Nzeros</th>\n",
       "      <th>Mode</th>\n",
       "      <th>Mean</th>\n",
       "      <th>Median</th>\n",
       "      <th>Variance</th>\n",
       "      <th>Tendency</th>\n",
       "      <th>CLASS</th>\n",
       "      <th>NSP</th>\n",
       "    </tr>\n",
       "  </thead>\n",
       "  <tbody>\n",
       "    <tr>\n",
       "      <th>0</th>\n",
       "      <td>120.0</td>\n",
       "      <td>0.0</td>\n",
       "      <td>0.0</td>\n",
       "      <td>0.0</td>\n",
       "      <td>73.0</td>\n",
       "      <td>0.5</td>\n",
       "      <td>43.0</td>\n",
       "      <td>2.4</td>\n",
       "      <td>0.0</td>\n",
       "      <td>0.0</td>\n",
       "      <td>...</td>\n",
       "      <td>126.0</td>\n",
       "      <td>2.0</td>\n",
       "      <td>0.0</td>\n",
       "      <td>120.0</td>\n",
       "      <td>137.0</td>\n",
       "      <td>121.0</td>\n",
       "      <td>73.0</td>\n",
       "      <td>1.0</td>\n",
       "      <td>9.0</td>\n",
       "      <td>2.0</td>\n",
       "    </tr>\n",
       "    <tr>\n",
       "      <th>1</th>\n",
       "      <td>132.0</td>\n",
       "      <td>4.0</td>\n",
       "      <td>0.0</td>\n",
       "      <td>4.0</td>\n",
       "      <td>17.0</td>\n",
       "      <td>2.1</td>\n",
       "      <td>0.0</td>\n",
       "      <td>10.4</td>\n",
       "      <td>2.0</td>\n",
       "      <td>0.0</td>\n",
       "      <td>...</td>\n",
       "      <td>198.0</td>\n",
       "      <td>6.0</td>\n",
       "      <td>1.0</td>\n",
       "      <td>141.0</td>\n",
       "      <td>136.0</td>\n",
       "      <td>140.0</td>\n",
       "      <td>12.0</td>\n",
       "      <td>0.0</td>\n",
       "      <td>6.0</td>\n",
       "      <td>1.0</td>\n",
       "    </tr>\n",
       "    <tr>\n",
       "      <th>2</th>\n",
       "      <td>133.0</td>\n",
       "      <td>2.0</td>\n",
       "      <td>0.0</td>\n",
       "      <td>5.0</td>\n",
       "      <td>16.0</td>\n",
       "      <td>2.1</td>\n",
       "      <td>0.0</td>\n",
       "      <td>13.4</td>\n",
       "      <td>2.0</td>\n",
       "      <td>0.0</td>\n",
       "      <td>...</td>\n",
       "      <td>198.0</td>\n",
       "      <td>5.0</td>\n",
       "      <td>1.0</td>\n",
       "      <td>141.0</td>\n",
       "      <td>135.0</td>\n",
       "      <td>138.0</td>\n",
       "      <td>13.0</td>\n",
       "      <td>0.0</td>\n",
       "      <td>6.0</td>\n",
       "      <td>1.0</td>\n",
       "    </tr>\n",
       "    <tr>\n",
       "      <th>3</th>\n",
       "      <td>134.0</td>\n",
       "      <td>2.0</td>\n",
       "      <td>0.0</td>\n",
       "      <td>6.0</td>\n",
       "      <td>16.0</td>\n",
       "      <td>2.4</td>\n",
       "      <td>0.0</td>\n",
       "      <td>23.0</td>\n",
       "      <td>2.0</td>\n",
       "      <td>0.0</td>\n",
       "      <td>...</td>\n",
       "      <td>170.0</td>\n",
       "      <td>11.0</td>\n",
       "      <td>0.0</td>\n",
       "      <td>137.0</td>\n",
       "      <td>134.0</td>\n",
       "      <td>137.0</td>\n",
       "      <td>13.0</td>\n",
       "      <td>1.0</td>\n",
       "      <td>6.0</td>\n",
       "      <td>1.0</td>\n",
       "    </tr>\n",
       "    <tr>\n",
       "      <th>4</th>\n",
       "      <td>132.0</td>\n",
       "      <td>4.0</td>\n",
       "      <td>0.0</td>\n",
       "      <td>5.0</td>\n",
       "      <td>16.0</td>\n",
       "      <td>2.4</td>\n",
       "      <td>0.0</td>\n",
       "      <td>19.9</td>\n",
       "      <td>0.0</td>\n",
       "      <td>0.0</td>\n",
       "      <td>...</td>\n",
       "      <td>170.0</td>\n",
       "      <td>9.0</td>\n",
       "      <td>0.0</td>\n",
       "      <td>137.0</td>\n",
       "      <td>136.0</td>\n",
       "      <td>138.0</td>\n",
       "      <td>11.0</td>\n",
       "      <td>1.0</td>\n",
       "      <td>2.0</td>\n",
       "      <td>1.0</td>\n",
       "    </tr>\n",
       "  </tbody>\n",
       "</table>\n",
       "<p>5 rows × 23 columns</p>\n",
       "</div>"
      ],
      "text/plain": [
       "      LB   AC   FM   UC  ASTV  MSTV  ALTV  MLTV   DL   DS  ...    Max  Nmax  \\\n",
       "0  120.0  0.0  0.0  0.0  73.0   0.5  43.0   2.4  0.0  0.0  ...  126.0   2.0   \n",
       "1  132.0  4.0  0.0  4.0  17.0   2.1   0.0  10.4  2.0  0.0  ...  198.0   6.0   \n",
       "2  133.0  2.0  0.0  5.0  16.0   2.1   0.0  13.4  2.0  0.0  ...  198.0   5.0   \n",
       "3  134.0  2.0  0.0  6.0  16.0   2.4   0.0  23.0  2.0  0.0  ...  170.0  11.0   \n",
       "4  132.0  4.0  0.0  5.0  16.0   2.4   0.0  19.9  0.0  0.0  ...  170.0   9.0   \n",
       "\n",
       "   Nzeros   Mode   Mean  Median  Variance  Tendency  CLASS  NSP  \n",
       "0     0.0  120.0  137.0   121.0      73.0       1.0    9.0  2.0  \n",
       "1     1.0  141.0  136.0   140.0      12.0       0.0    6.0  1.0  \n",
       "2     1.0  141.0  135.0   138.0      13.0       0.0    6.0  1.0  \n",
       "3     0.0  137.0  134.0   137.0      13.0       1.0    6.0  1.0  \n",
       "4     0.0  137.0  136.0   138.0      11.0       1.0    2.0  1.0  \n",
       "\n",
       "[5 rows x 23 columns]"
      ]
     },
     "execution_count": 39,
     "metadata": {},
     "output_type": "execute_result"
    }
   ],
   "source": [
    "ctg.head()"
   ]
  },
  {
   "cell_type": "code",
   "execution_count": 40,
   "metadata": {},
   "outputs": [
    {
     "data": {
      "text/plain": [
       "Index(['LB', 'AC', 'FM', 'UC', 'ASTV', 'MSTV', 'ALTV', 'MLTV', 'DL', 'DS',\n",
       "       'DP', 'Width', 'Min', 'Max', 'Nmax', 'Nzeros', 'Mode', 'Mean', 'Median',\n",
       "       'Variance', 'Tendency', 'CLASS', 'NSP'],\n",
       "      dtype='object')"
      ]
     },
     "execution_count": 40,
     "metadata": {},
     "output_type": "execute_result"
    }
   ],
   "source": [
    "ctg.columns"
   ]
  },
  {
   "cell_type": "code",
   "execution_count": 41,
   "metadata": {},
   "outputs": [],
   "source": [
    "# Fill the missing values with Mode for the target variable: NPS\n",
    "ctg['NSP'].fillna(ctg['NSP'].mode()[0], inplace=True)"
   ]
  },
  {
   "cell_type": "code",
   "execution_count": 42,
   "metadata": {},
   "outputs": [
    {
     "data": {
      "text/plain": [
       "Text(0, 0.5, 'Frequency')"
      ]
     },
     "execution_count": 42,
     "metadata": {},
     "output_type": "execute_result"
    },
    {
     "data": {
      "image/png": "[encoded data removed]",
      "text/plain": [
       "<Figure size 432x288 with 1 Axes>"
      ]
     },
     "metadata": {
      "needs_background": "light"
     },
     "output_type": "display_data"
    }
   ],
   "source": [
    "# Get the data distribution for different values of target variable: ‘NSP’. \n",
    "\n",
    "count_classes = pd.value_counts(ctg['NSP'], sort = True)\n",
    "count_classes.plot(kind = 'bar', rot=0)\n",
    "plt.title(\"NSP Distribution\")\n",
    "plt.xlabel(\"NSP\")\n",
    "plt.ylabel(\"Frequency\")"
   ]
  },
  {
   "cell_type": "code",
   "execution_count": 43,
   "metadata": {},
   "outputs": [
    {
     "data": {
      "text/plain": [
       "(1831, 23)"
      ]
     },
     "execution_count": 43,
     "metadata": {},
     "output_type": "execute_result"
    }
   ],
   "source": [
    "# Here, we are considering NSP=1 as Inliers and NSP=3 as Outliers\n",
    "\n",
    "# Discard all the datapoints having NSP=2, as this is not of our interest.\n",
    "ctg=ctg.dropna()\n",
    "ctg=ctg.drop(ctg[ctg['NSP']==2].index)\n",
    "ctg.shape"
   ]
  },
  {
   "cell_type": "code",
   "execution_count": 44,
   "metadata": {},
   "outputs": [
    {
     "data": {
      "text/plain": [
       "1.0    1655\n",
       "3.0     176\n",
       "Name: NSP, dtype: int64"
      ]
     },
     "execution_count": 44,
     "metadata": {},
     "output_type": "execute_result"
    }
   ],
   "source": [
    "pd.value_counts(ctg['NSP'])"
   ]
  },
  {
   "cell_type": "code",
   "execution_count": 45,
   "metadata": {},
   "outputs": [],
   "source": [
    "# Split the train, test data.\n",
    "from sklearn.model_selection import train_test_split\n",
    "train_x, test_x = train_test_split(ctg, test_size=0.3, random_state=42)\n",
    "\n",
    "train_x = train_x[train_x.NSP == 1] #where normal transactions\n",
    "train_x = train_x.drop(['NSP'], axis=1) #drop the class column\n",
    "\n",
    "test_y = test_x['NSP'] #save the class column for the test set\n",
    "test_x = test_x.drop(['NSP'], axis=1) #drop the class column\n",
    "\n",
    "train_x = train_x.values #transform to ndarray\n",
    "test_x = test_x.values"
   ]
  },
  {
   "cell_type": "code",
   "execution_count": 46,
   "metadata": {},
   "outputs": [
    {
     "data": {
      "text/plain": [
       "(1155, 22)"
      ]
     },
     "execution_count": 46,
     "metadata": {},
     "output_type": "execute_result"
    }
   ],
   "source": [
    "train_x.shape"
   ]
  },
  {
   "cell_type": "code",
   "execution_count": 47,
   "metadata": {},
   "outputs": [
    {
     "data": {
      "text/plain": [
       "(550, 22)"
      ]
     },
     "execution_count": 47,
     "metadata": {},
     "output_type": "execute_result"
    }
   ],
   "source": [
    "test_x.shape"
   ]
  },
  {
   "cell_type": "code",
   "execution_count": 48,
   "metadata": {},
   "outputs": [
    {
     "name": "stdout",
     "output_type": "stream",
     "text": [
      "Model: \"model_2\"\n",
      "_________________________________________________________________\n",
      "Layer (type)                 Output Shape              Param #   \n",
      "=================================================================\n",
      "input_3 (InputLayer)         [(None, 22)]              0         \n",
      "_________________________________________________________________\n",
      "dense_4 (Dense)              (None, 12)                276       \n",
      "_________________________________________________________________\n",
      "dense_5 (Dense)              (None, 22)                286       \n",
      "=================================================================\n",
      "Total params: 562\n",
      "Trainable params: 562\n",
      "Non-trainable params: 0\n",
      "_________________________________________________________________\n"
     ]
    }
   ],
   "source": [
    "encoding_dim=12  # code Layer will have (None, 12)  \n",
    "\n",
    "# Define input dim = 39\n",
    "input_dim=train_x.shape[1]\n",
    "\n",
    "inputArray=Input(shape=(input_dim,))\n",
    "\n",
    "# Define Encoder\n",
    "encoded=Dense(encoding_dim, activation='tanh')(inputArray)  \n",
    "   \n",
    "# Define Decoder\n",
    "decoded=Dense(input_dim, activation='softmax')(encoded)\n",
    "\n",
    "# Define Auto encoder\n",
    "autoencoder=Model(inputArray, decoded)\n",
    "\n",
    "autoencoder.summary()"
   ]
  },
  {
   "cell_type": "code",
   "execution_count": 49,
   "metadata": {},
   "outputs": [],
   "source": [
    "'''\n",
    "Compile Model with below configurations\n",
    "\n",
    "optimizer=ADAM, loss=binary-crossentropy and metrics=accuracy\n",
    "batch_size=32 and epochs=20.\n",
    "'''\n",
    "# configurations of model\n",
    "\n",
    "batch_size =32\n",
    "epochs=20\n",
    "autoencoder.compile(loss='binary_crossentropy', metrics=['accuracy'], optimizer='ADAM')\n"
   ]
  },
  {
   "cell_type": "code",
   "execution_count": 50,
   "metadata": {},
   "outputs": [
    {
     "data": {
      "text/plain": [
       "(1155, 22)"
      ]
     },
     "execution_count": 50,
     "metadata": {},
     "output_type": "execute_result"
    }
   ],
   "source": [
    "\n",
    "train_x.shape\n",
    "\n",
    "# 1155/32 = 36"
   ]
  },
  {
   "cell_type": "code",
   "execution_count": 51,
   "metadata": {},
   "outputs": [
    {
     "data": {
      "text/plain": [
       "array([[121.,   2.,   0., ...,  16.,   0.,   2.],\n",
       "       [133.,   1.,   0., ...,  26.,   1.,   7.],\n",
       "       [130.,   8.,   0., ...,   2.,   0.,   2.],\n",
       "       ...,\n",
       "       [132.,   0.,   0., ...,  15.,   1.,   3.],\n",
       "       [122.,   1.,   0., ...,   8.,   0.,   3.],\n",
       "       [121.,   0.,   0., ...,  21.,   1.,   7.]])"
      ]
     },
     "execution_count": 51,
     "metadata": {},
     "output_type": "execute_result"
    }
   ],
   "source": [
    "train_x"
   ]
  },
  {
   "cell_type": "code",
   "execution_count": 52,
   "metadata": {},
   "outputs": [
    {
     "name": "stdout",
     "output_type": "stream",
     "text": [
      "Epoch 1/20\n",
      "37/37 [==============================] - 1s 7ms/step - loss: -29.2960 - accuracy: 0.0857 - val_loss: -42.4072 - val_accuracy: 0.3498\n",
      "Epoch 2/20\n",
      "37/37 [==============================] - 0s 4ms/step - loss: -52.3672 - accuracy: 0.7558 - val_loss: -63.5235 - val_accuracy: 0.0130\n",
      "Epoch 3/20\n",
      "37/37 [==============================] - 0s 3ms/step - loss: -73.6469 - accuracy: 0.0805 - val_loss: -84.8700 - val_accuracy: 8.6580e-04\n",
      "Epoch 4/20\n",
      "37/37 [==============================] - 0s 3ms/step - loss: -94.8989 - accuracy: 8.6580e-04 - val_loss: -106.0194 - val_accuracy: 8.6580e-04\n",
      "Epoch 5/20\n",
      "37/37 [==============================] - 0s 3ms/step - loss: -115.9788 - accuracy: 8.6580e-04 - val_loss: -127.0202 - val_accuracy: 8.6580e-04\n",
      "Epoch 6/20\n",
      "37/37 [==============================] - 0s 3ms/step - loss: -136.9648 - accuracy: 8.6580e-04 - val_loss: -147.9458 - val_accuracy: 8.6580e-04\n",
      "Epoch 7/20\n",
      "37/37 [==============================] - 0s 4ms/step - loss: -157.8152 - accuracy: 0.0000e+00 - val_loss: -168.7659 - val_accuracy: 0.0000e+00\n",
      "Epoch 8/20\n",
      "37/37 [==============================] - 0s 3ms/step - loss: -178.6645 - accuracy: 0.0000e+00 - val_loss: -189.5987 - val_accuracy: 0.0000e+00\n",
      "Epoch 9/20\n",
      "37/37 [==============================] - 0s 3ms/step - loss: -199.4329 - accuracy: 0.0000e+00 - val_loss: -210.3489 - val_accuracy: 0.0000e+00\n",
      "Epoch 10/20\n",
      "37/37 [==============================] - 0s 3ms/step - loss: -220.1650 - accuracy: 0.0000e+00 - val_loss: -231.0866 - val_accuracy: 0.0000e+00\n",
      "Epoch 11/20\n",
      "37/37 [==============================] - 0s 3ms/step - loss: -240.8953 - accuracy: 0.0000e+00 - val_loss: -251.7788 - val_accuracy: 0.0000e+00\n",
      "Epoch 12/20\n",
      "37/37 [==============================] - 0s 5ms/step - loss: -261.5907 - accuracy: 0.0000e+00 - val_loss: -272.4934 - val_accuracy: 0.0000e+00\n",
      "Epoch 13/20\n",
      "37/37 [==============================] - 0s 5ms/step - loss: -282.3035 - accuracy: 0.0000e+00 - val_loss: -293.1675 - val_accuracy: 0.0000e+00\n",
      "Epoch 14/20\n",
      "37/37 [==============================] - 0s 5ms/step - loss: -302.9871 - accuracy: 0.0000e+00 - val_loss: -313.8999 - val_accuracy: 0.0000e+00\n",
      "Epoch 15/20\n",
      "37/37 [==============================] - 0s 3ms/step - loss: -323.7234 - accuracy: 0.0000e+00 - val_loss: -334.5736 - val_accuracy: 0.0000e+00\n",
      "Epoch 16/20\n",
      "37/37 [==============================] - 0s 3ms/step - loss: -344.4108 - accuracy: 0.0000e+00 - val_loss: -355.3005 - val_accuracy: 0.0000e+00\n",
      "Epoch 17/20\n",
      "37/37 [==============================] - 0s 3ms/step - loss: -365.0927 - accuracy: 0.0000e+00 - val_loss: -375.9911 - val_accuracy: 0.0000e+00\n",
      "Epoch 18/20\n",
      "37/37 [==============================] - 0s 3ms/step - loss: -385.7829 - accuracy: 0.0000e+00 - val_loss: -396.7340 - val_accuracy: 0.0000e+00\n",
      "Epoch 19/20\n",
      "37/37 [==============================] - 0s 3ms/step - loss: -406.5552 - accuracy: 0.0000e+00 - val_loss: -417.4384 - val_accuracy: 0.0000e+00\n",
      "Epoch 20/20\n",
      "37/37 [==============================] - 0s 3ms/step - loss: -427.2484 - accuracy: 0.0000e+00 - val_loss: -438.1170 - val_accuracy: 0.0000e+00\n"
     ]
    }
   ],
   "source": [
    "history = autoencoder.fit(train_x,train_x,epochs=20,batch_size=32,\n",
    "                          validation_data=(train_x, train_x))"
   ]
  },
  {
   "cell_type": "code",
   "execution_count": 53,
   "metadata": {},
   "outputs": [
    {
     "data": {
      "text/html": [
       "<div>\n",
       "<style scoped>\n",
       "    .dataframe tbody tr th:only-of-type {\n",
       "        vertical-align: middle;\n",
       "    }\n",
       "\n",
       "    .dataframe tbody tr th {\n",
       "        vertical-align: top;\n",
       "    }\n",
       "\n",
       "    .dataframe thead th {\n",
       "        text-align: right;\n",
       "    }\n",
       "</style>\n",
       "<table border=\"1\" class=\"dataframe\">\n",
       "  <thead>\n",
       "    <tr style=\"text-align: right;\">\n",
       "      <th></th>\n",
       "      <th>Reconstruction_error</th>\n",
       "      <th>True_class</th>\n",
       "    </tr>\n",
       "  </thead>\n",
       "  <tbody>\n",
       "    <tr>\n",
       "      <th>count</th>\n",
       "      <td>550.000000</td>\n",
       "      <td>550.000000</td>\n",
       "    </tr>\n",
       "    <tr>\n",
       "      <th>mean</th>\n",
       "      <td>5565.206092</td>\n",
       "      <td>1.181818</td>\n",
       "    </tr>\n",
       "    <tr>\n",
       "      <th>std</th>\n",
       "      <td>1291.334436</td>\n",
       "      <td>0.575483</td>\n",
       "    </tr>\n",
       "    <tr>\n",
       "      <th>min</th>\n",
       "      <td>3480.057332</td>\n",
       "      <td>1.000000</td>\n",
       "    </tr>\n",
       "    <tr>\n",
       "      <th>25%</th>\n",
       "      <td>4800.461860</td>\n",
       "      <td>1.000000</td>\n",
       "    </tr>\n",
       "    <tr>\n",
       "      <th>50%</th>\n",
       "      <td>5481.469339</td>\n",
       "      <td>1.000000</td>\n",
       "    </tr>\n",
       "    <tr>\n",
       "      <th>75%</th>\n",
       "      <td>6113.224566</td>\n",
       "      <td>1.000000</td>\n",
       "    </tr>\n",
       "    <tr>\n",
       "      <th>max</th>\n",
       "      <td>19917.744556</td>\n",
       "      <td>3.000000</td>\n",
       "    </tr>\n",
       "  </tbody>\n",
       "</table>\n",
       "</div>"
      ],
      "text/plain": [
       "       Reconstruction_error  True_class\n",
       "count            550.000000  550.000000\n",
       "mean            5565.206092    1.181818\n",
       "std             1291.334436    0.575483\n",
       "min             3480.057332    1.000000\n",
       "25%             4800.461860    1.000000\n",
       "50%             5481.469339    1.000000\n",
       "75%             6113.224566    1.000000\n",
       "max            19917.744556    3.000000"
      ]
     },
     "execution_count": 53,
     "metadata": {},
     "output_type": "execute_result"
    }
   ],
   "source": [
    "# Reconstruction Error and True Class\n",
    "\n",
    "test_x_predictions = autoencoder.predict(test_x)\n",
    "mse = np.mean(np.power(test_x - test_x_predictions, 2), axis=1)\n",
    "error_df = pd.DataFrame({'Reconstruction_error': mse,\n",
    "'True_class': test_y})\n",
    "error_df.describe()"
   ]
  },
  {
   "cell_type": "code",
   "execution_count": 54,
   "metadata": {},
   "outputs": [
    {
     "data": {
      "image/png": "[encoded data removed]",
      "text/plain": [
       "<Figure size 864x864 with 2 Axes>"
      ]
     },
     "metadata": {
      "needs_background": "light"
     },
     "output_type": "display_data"
    }
   ],
   "source": [
    "# Plotting the Confusion Matrix\n",
    "\n",
    "from sklearn.metrics import confusion_matrix\n",
    "import seaborn as sns\n",
    "LABELS = [\"class1\",\"class3\"]\n",
    "threshold_fixed = 4000\n",
    "pred_y = [1.0 if e > threshold_fixed else 3.0 for e in error_df.Reconstruction_error.values]\n",
    "conf_matrix = confusion_matrix(error_df.True_class, pred_y)\n",
    "\n",
    "plt.figure(figsize=(12, 12))\n",
    "sns.heatmap(conf_matrix, xticklabels=LABELS, yticklabels=LABELS, annot=True, fmt=\"d\");\n",
    "plt.title(\"Confusion matrix\")\n",
    "plt.ylabel('True class')\n",
    "plt.xlabel('Predicted class')\n",
    "plt.show()"
   ]
  },
  {
   "cell_type": "code",
   "execution_count": 55,
   "metadata": {},
   "outputs": [
    {
     "name": "stdout",
     "output_type": "stream",
     "text": [
      "              precision    recall  f1-score   support\n",
      "\n",
      "         1.0       0.92      0.98      0.95       500\n",
      "         3.0       0.41      0.14      0.21        50\n",
      "\n",
      "    accuracy                           0.90       550\n",
      "   macro avg       0.67      0.56      0.58       550\n",
      "weighted avg       0.87      0.90      0.88       550\n",
      "\n"
     ]
    }
   ],
   "source": [
    "print(classification_report(test_y,pred_y))"
   ]
  },
  {
   "cell_type": "code",
   "execution_count": null,
   "metadata": {},
   "outputs": [],
   "source": []
  }
 ],
 "metadata": {
  "kernelspec": {
   "display_name": "Python 3",
   "language": "python",
   "name": "python3"
  },
  "language_info": {
   "codemirror_mode": {
    "name": "ipython",
    "version": 3
   },
   "file_extension": ".py",
   "mimetype": "text/x-python",
   "name": "python",
   "nbconvert_exporter": "python",
   "pygments_lexer": "ipython3",
   "version": "3.6.8"
  }
 },
 "nbformat": 4,
 "nbformat_minor": 2
}
