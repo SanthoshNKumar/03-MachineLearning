{
 "cells": [
  {
   "cell_type": "code",
   "execution_count": null,
   "metadata": {},
   "outputs": [],
   "source": [
    "'''\n",
    "How Auto Encoder works\n",
    "      \n",
    "The Autoencoder accepts high-dimensional input data, compress it down to the latent-space representation in the bottleneck \n",
    "hidden layer.\n",
    "the Decoder takes the latent representation of the data as an input to reconstruct the original input data\n",
    "\n",
    "Autoencoder consists of an Encoder and a Decoder.\n",
    "    Encoder network: \n",
    "        - Accepts high-dimensional input data and translates it to latent low-dimensional data. \n",
    "          The input size to an Encoder network is larger than its output size.\n",
    "\n",
    "    Decoder network: \n",
    "        - The Decoder network receives the input from the Encoder coder’s output. \n",
    "          Decoder’s objective is to reconstruct the input data. \n",
    "          The output size of a Decoder network is larger than its input size.\n"
   ]
  },
  {
   "cell_type": "code",
   "execution_count": null,
   "metadata": {},
   "outputs": [],
   "source": [
    "'''\n",
    "\n",
    "How Anomaly detection using Autoencoders\n",
    "        - During the training, input only normal transactions (good data) to the Encoder. \n",
    "          The bottleneck layer will learn the latent representation of the normal input data.\n",
    "          \n",
    "        - The Decoder will use the bottleneck layers output to reconstruct the normal transactions of the original input data.\n",
    "        \n",
    "        - A fraudulent transaction will be different from a normal transaction. \n",
    "          The Autoencoder will have trouble reconstructing the fraudulent transaction, and hence the reconstruction error \n",
    "          will be high.\n",
    "          \n",
    "        - You can flag a new transaction is fraudulent based on a specified threshold value for the reconstruction error."
   ]
  },
  {
   "cell_type": "code",
   "execution_count": null,
   "metadata": {},
   "outputs": [],
   "source": [
    "'''\n",
    "Use Error to find the Anomaly\n",
    "    - We will detect anomalies by determining how well our model can reconstruct the input data.\n",
    "    \n",
    "    - Find MAE loss on training samples.\n",
    "    \n",
    "    - Find max MAE loss value. \n",
    "      This is the worst our model has performed trying to reconstruct a sample. We will make this the threshold for \n",
    "      anomaly detection.\n",
    "    \n",
    "    - If the reconstruction loss for a sample is greater than this threshold value then we can infer that the model is \n",
    "      seeing a pattern that it isn't familiar with. We will label this sample as an anomaly.\n",
    "      \n",
    "    - Autoencoders tries to minimize the reconstruction error as part of its training. \n",
    "      Anomalies are detected by checking the magnitude of the reconstruction loss."
   ]
  },
  {
   "cell_type": "code",
   "execution_count": null,
   "metadata": {},
   "outputs": [],
   "source": []
  }
 ],
 "metadata": {
  "kernelspec": {
   "display_name": "Python 3",
   "language": "python",
   "name": "python3"
  },
  "language_info": {
   "codemirror_mode": {
    "name": "ipython",
    "version": 3
   },
   "file_extension": ".py",
   "mimetype": "text/x-python",
   "name": "python",
   "nbconvert_exporter": "python",
   "pygments_lexer": "ipython3",
   "version": "3.6.8"
  }
 },
 "nbformat": 4,
 "nbformat_minor": 2
}
