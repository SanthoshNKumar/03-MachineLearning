{
 "cells": [
  {
   "cell_type": "code",
   "execution_count": null,
   "metadata": {},
   "outputs": [],
   "source": [
    "# min_samples_split represents the minimum number of samples required to split an internal node. \n",
    "# This can vary between considering at least one sample at each node to considering all of the samples at each node. \n",
    "# When we increase this parameter, the tree becomes more constrained as it has to consider more samples at each node.\n",
    "# Here we will vary the parameter from 10% to 100% of the samples\n",
    "\n",
    "# We can clearly see that when we consider 100% of the samples at each node, the model cannot learn enough about the data. \n",
    "# This is an underfitting case."
   ]
  },
  {
   "cell_type": "code",
   "execution_count": 21,
   "metadata": {},
   "outputs": [],
   "source": [
    "import numpy as np\n",
    "import pandas as pd\n",
    "from sklearn.model_selection import train_test_split\n",
    "import matplotlib.pyplot as plt\n",
    "from sklearn.metrics import roc_curve,auc\n",
    "from sklearn.tree import DecisionTreeClassifier"
   ]
  },
  {
   "cell_type": "code",
   "execution_count": 22,
   "metadata": {},
   "outputs": [],
   "source": [
    "train = pd.read_csv(\"Titanic_PreProdata.csv\")"
   ]
  },
  {
   "cell_type": "code",
   "execution_count": 23,
   "metadata": {},
   "outputs": [],
   "source": [
    "y = train.pop(\"Survived\")\n",
    "X = train\n",
    "\n",
    "x_train, x_test, y_train, y_test = train_test_split(X,y, test_size=0.25)\n",
    "\n",
    "min_samples_splits = [0.1,0.2,0.3,0.4,0.5,0.6,0.8,0.9]"
   ]
  },
  {
   "cell_type": "code",
   "execution_count": 26,
   "metadata": {},
   "outputs": [
    {
     "data": {
      "text/plain": [
       "Text(0, 0.5, 'AUC Accuracy')"
      ]
     },
     "execution_count": 26,
     "metadata": {},
     "output_type": "execute_result"
    },
    {
     "data": {
      "image/png": "[encoded data removed]",
      "text/plain": [
       "<Figure size 432x288 with 1 Axes>"
      ]
     },
     "metadata": {
      "needs_background": "light"
     },
     "output_type": "display_data"
    }
   ],
   "source": [
    "AUCaccuracy = []\n",
    "for i in min_samples_splits:\n",
    "    dt = DecisionTreeClassifier(min_samples_split=i)\n",
    "    dt.fit(x_train, y_train)\n",
    "    \n",
    "    train_pred = dt.predict(x_train)\n",
    "    false_positive_rate, true_positive_rate, thresholds = roc_curve(y_train, train_pred)\n",
    "    roc_auc = auc(false_positive_rate, true_positive_rate)\n",
    "    \n",
    "    AUCaccuracy.append(roc_auc)\n",
    "    \n",
    "plt.plot(min_samples_splits,AUCaccuracy)\n",
    "plt.xlabel(\"Min_Samples_Split\")\n",
    "plt.ylabel(\"AUC Accuracy\")"
   ]
  },
  {
   "cell_type": "code",
   "execution_count": null,
   "metadata": {},
   "outputs": [],
   "source": []
  }
 ],
 "metadata": {
  "kernelspec": {
   "display_name": "Python 3",
   "language": "python",
   "name": "python3"
  },
  "language_info": {
   "codemirror_mode": {
    "name": "ipython",
    "version": 3
   },
   "file_extension": ".py",
   "mimetype": "text/x-python",
   "name": "python",
   "nbconvert_exporter": "python",
   "pygments_lexer": "ipython3",
   "version": "3.7.4"
  }
 },
 "nbformat": 4,
 "nbformat_minor": 2
}
