{
 "cells": [
  {
   "cell_type": "code",
   "execution_count": null,
   "metadata": {},
   "outputs": [],
   "source": []
  },
  {
   "cell_type": "code",
   "execution_count": null,
   "metadata": {},
   "outputs": [],
   "source": []
  },
  {
   "cell_type": "code",
   "execution_count": null,
   "metadata": {},
   "outputs": [],
   "source": [
    "# max_depth :\n",
    "# how deep the tree can be. The deeper the tree,\n",
    "# the more splits it has and it captures more information about the data. \n",
    "# We fit a decision tree with depths ranging from 1 to 32 and plot the training and test auc scores."
   ]
  },
  {
   "cell_type": "code",
   "execution_count": null,
   "metadata": {},
   "outputs": [],
   "source": [
    "# min_samples_split:\n",
    "# represents the minimum number of samples required to split an internal node. \n",
    "# This can vary between considering at least one sample at each node to considering all of the samples at each node. \n",
    "# When we increase this parameter, the tree becomes more constrained as it has to consider more samples at each node.\n",
    "# Here we will vary the parameter from 10% to 100% of the samples\n",
    "\n",
    "# We can clearly see that when we consider 100% of the samples at each node, the model cannot learn enough about the data. \n",
    "# This is an underfitting case."
   ]
  },
  {
   "cell_type": "code",
   "execution_count": null,
   "metadata": {},
   "outputs": [],
   "source": []
  }
 ],
 "metadata": {
  "kernelspec": {
   "display_name": "Python 3",
   "language": "python",
   "name": "python3"
  },
  "language_info": {
   "codemirror_mode": {
    "name": "ipython",
    "version": 3
   },
   "file_extension": ".py",
   "mimetype": "text/x-python",
   "name": "python",
   "nbconvert_exporter": "python",
   "pygments_lexer": "ipython3",
   "version": "3.7.4"
  }
 },
 "nbformat": 4,
 "nbformat_minor": 2
}
