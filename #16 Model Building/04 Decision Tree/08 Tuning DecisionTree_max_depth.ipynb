{
 "cells": [
  {
   "cell_type": "code",
   "execution_count": 16,
   "metadata": {},
   "outputs": [],
   "source": [
    "# max_depth : The first parameter to tune is max_depth. \n",
    "# This indicates how deep the tree can be. The deeper the tree,\n",
    "# the more splits it has and it captures more information about the data. \n",
    "# We fit a decision tree with depths ranging from 1 to 32 and plot the training and test auc scores.\n",
    "\n",
    "import numpy as np\n",
    "import pandas as pd\n",
    "from sklearn.model_selection import train_test_split\n",
    "import matplotlib.pyplot as plt\n",
    "from sklearn.metrics import auc\n",
    "from sklearn.metrics import roc_curve"
   ]
  },
  {
   "cell_type": "code",
   "execution_count": 17,
   "metadata": {},
   "outputs": [],
   "source": [
    "train = pd.read_csv(\"Titanic_PreProdata.csv\")\n",
    "\n",
    "y = train.pop(\"Survived\")\n",
    "X = train\n",
    "\n",
    "x_train, x_test, y_train, y_test = train_test_split(X,y, test_size=0.25)"
   ]
  },
  {
   "cell_type": "code",
   "execution_count": 20,
   "metadata": {},
   "outputs": [
    {
     "data": {
      "image/png": "[encoded data removed]",
      "text/plain": [
       "<Figure size 432x288 with 1 Axes>"
      ]
     },
     "metadata": {
      "needs_background": "light"
     },
     "output_type": "display_data"
    }
   ],
   "source": [
    "from sklearn.tree import DecisionTreeClassifier\n",
    "\n",
    "max_depths = np.linspace(1, 32, 32, endpoint=True)\n",
    "\n",
    "AUCaccuracy = []\n",
    "for i in max_depths:\n",
    "    dt = DecisionTreeClassifier(max_depth= i)\n",
    "    dt.fit(x_train, y_train)\n",
    "    \n",
    "    train_pred = dt.predict(x_train)\n",
    "    \n",
    "    # TP_rate and FP_rate\n",
    "    false_positive_rate, true_positive_rate, thresholds = roc_curve(y_train, train_pred)\n",
    "    \n",
    "    # get AUC from TF_rate and FP_rate\n",
    "    roc_auc = auc(false_positive_rate, true_positive_rate)\n",
    "    \n",
    "    AUCaccuracy.append(roc_auc)\n",
    "    \n",
    "plt.plot(max_depths,AUCaccuracy,label = 'Trainig')\n",
    "plt.xlabel(\"Max_Depth\")\n",
    "plt.ylabel(\"AUC Accuracy\")\n",
    "plt.legend(\"\")\n",
    "plt.show()"
   ]
  },
  {
   "cell_type": "code",
   "execution_count": 19,
   "metadata": {},
   "outputs": [
    {
     "data": {
      "text/plain": [
       "[0.7617946301029085,\n",
       " 0.7357128280874965,\n",
       " 0.7887267144120419,\n",
       " 0.7864090878171552,\n",
       " 0.8086962014245872,\n",
       " 0.8355019580786536,\n",
       " 0.8686969788255414,\n",
       " 0.8822140379177315,\n",
       " 0.904399117649917,\n",
       " 0.9198256678360072,\n",
       " 0.9271186605381558,\n",
       " 0.9469618198956339,\n",
       " 0.9612174098943707,\n",
       " 0.9632920986910511,\n",
       " 0.9706871252684462,\n",
       " 0.9739327742524804,\n",
       " 0.976007463049161,\n",
       " 0.976007463049161,\n",
       " 0.976007463049161,\n",
       " 0.976007463049161,\n",
       " 0.976007463049161,\n",
       " 0.976007463049161,\n",
       " 0.976007463049161,\n",
       " 0.976007463049161,\n",
       " 0.976007463049161,\n",
       " 0.976007463049161,\n",
       " 0.976007463049161,\n",
       " 0.976007463049161,\n",
       " 0.976007463049161,\n",
       " 0.976007463049161,\n",
       " 0.976007463049161,\n",
       " 0.976007463049161]"
      ]
     },
     "execution_count": 19,
     "metadata": {},
     "output_type": "execute_result"
    }
   ],
   "source": [
    "AUCaccuracy"
   ]
  },
  {
   "cell_type": "code",
   "execution_count": null,
   "metadata": {},
   "outputs": [],
   "source": []
  }
 ],
 "metadata": {
  "kernelspec": {
   "display_name": "Python 3",
   "language": "python",
   "name": "python3"
  },
  "language_info": {
   "codemirror_mode": {
    "name": "ipython",
    "version": 3
   },
   "file_extension": ".py",
   "mimetype": "text/x-python",
   "name": "python",
   "nbconvert_exporter": "python",
   "pygments_lexer": "ipython3",
   "version": "3.7.4"
  }
 },
 "nbformat": 4,
 "nbformat_minor": 2
}
