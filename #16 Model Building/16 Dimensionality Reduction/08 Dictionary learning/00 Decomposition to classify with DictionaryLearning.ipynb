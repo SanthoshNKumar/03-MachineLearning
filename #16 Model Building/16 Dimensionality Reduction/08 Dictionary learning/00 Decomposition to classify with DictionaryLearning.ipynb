{
 "cells": [
  {
   "cell_type": "code",
   "execution_count": 43,
   "metadata": {},
   "outputs": [],
   "source": [
    "from sklearn.datasets import load_iris\n",
    "\n",
    "iris = load_iris()\n",
    "iris_X = iris.data   # 4 Features\n",
    "y= iris.target"
   ]
  },
  {
   "cell_type": "code",
   "execution_count": 44,
   "metadata": {},
   "outputs": [],
   "source": [
    "X_train = iris_X[::2]\n",
    "X_test = iris_X[1::2]\n",
    "y_train = y[::2]\n",
    "y_test = y[1::2]\n"
   ]
  },
  {
   "cell_type": "code",
   "execution_count": 45,
   "metadata": {},
   "outputs": [
    {
     "data": {
      "text/plain": [
       "array([[0.        , 6.344753  , 0.        ],\n",
       "       [0.        , 5.83576099, 0.        ],\n",
       "       [0.        , 6.32037564, 0.        ],\n",
       "       [0.        , 5.89324204, 0.        ],\n",
       "       [0.        , 5.4522191 , 0.        ]])"
      ]
     },
     "execution_count": 45,
     "metadata": {},
     "output_type": "execute_result"
    }
   ],
   "source": [
    "from sklearn.decomposition import DictionaryLearning\n",
    "dl = DictionaryLearning(3)\n",
    "\n",
    "transformed = dl.fit_transform(X_train)\n",
    "\n",
    "transformed[:5]"
   ]
  },
  {
   "cell_type": "code",
   "execution_count": 46,
   "metadata": {},
   "outputs": [],
   "source": [
    "test_transform = dl.transform(X_test)"
   ]
  },
  {
   "cell_type": "code",
   "execution_count": 47,
   "metadata": {},
   "outputs": [
    {
     "data": {
      "text/plain": [
       "array([[0.        , 5.90728699, 0.        ],\n",
       "       [0.        , 5.74586584, 0.        ],\n",
       "       [0.        , 6.8820241 , 0.        ],\n",
       "       [0.        , 6.23208656, 0.        ],\n",
       "       [0.        , 5.98203152, 0.        ]])"
      ]
     },
     "execution_count": 47,
     "metadata": {},
     "output_type": "execute_result"
    }
   ],
   "source": [
    "test_transform[:5]"
   ]
  },
  {
   "cell_type": "code",
   "execution_count": null,
   "metadata": {},
   "outputs": [],
   "source": []
  }
 ],
 "metadata": {
  "kernelspec": {
   "display_name": "Python 3",
   "language": "python",
   "name": "python3"
  },
  "language_info": {
   "codemirror_mode": {
    "name": "ipython",
    "version": 3
   },
   "file_extension": ".py",
   "mimetype": "text/x-python",
   "name": "python",
   "nbconvert_exporter": "python",
   "pygments_lexer": "ipython3",
   "version": "3.7.4"
  }
 },
 "nbformat": 4,
 "nbformat_minor": 2
}
