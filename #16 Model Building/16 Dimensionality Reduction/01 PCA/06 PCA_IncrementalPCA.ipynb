{
 "cells": [
  {
   "cell_type": "code",
   "execution_count": 10,
   "metadata": {},
   "outputs": [],
   "source": [
    "# Incremental principal component analysis (IPCA) is typically used as a \n",
    "# replacement for principal component analysis (PCA) when the dataset to be \n",
    "# decomposed is too large to fit in memory. IPCA builds a low-rank approximation \n",
    "# for the input data using an amount of memory which is independent of the number of input data samples. \n",
    "# It is still dependent on the input data features, but changing the batch size allows for control of memory usage.\n",
    "\n",
    "from sklearn.datasets import load_iris\n",
    "from sklearn.decomposition import IncrementalPCA\n",
    "\n",
    "iris = load_iris()\n",
    "X = iris.data\n",
    "y = iris.target\n",
    "\n",
    "ipca = IncrementalPCA(n_components = 2,batch_size=10)\n",
    "X_ipca = ipca.fit_transform(X)\n"
   ]
  }
 ],
 "metadata": {
  "kernelspec": {
   "display_name": "Python 3",
   "language": "python",
   "name": "python3"
  },
  "language_info": {
   "codemirror_mode": {
    "name": "ipython",
    "version": 3
   },
   "file_extension": ".py",
   "mimetype": "text/x-python",
   "name": "python",
   "nbconvert_exporter": "python",
   "pygments_lexer": "ipython3",
   "version": "3.7.4"
  }
 },
 "nbformat": 4,
 "nbformat_minor": 2
}
