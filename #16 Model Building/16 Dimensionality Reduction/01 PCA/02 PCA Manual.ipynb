{
 "cells": [
  {
   "cell_type": "markdown",
   "metadata": {},
   "source": [
    "### Example 01"
   ]
  },
  {
   "cell_type": "code",
   "execution_count": 5,
   "metadata": {},
   "outputs": [],
   "source": [
    "import numpy as np\n",
    " \n",
    "def PCA(X , num_components):\n",
    "     \n",
    "    #Step-1 : Subtract the mean of each variable\n",
    "    X_meaned = X - np.mean(X , axis = 0)\n",
    "     \n",
    "    #Step-2 : Calculate the Covariance Matrix\n",
    "    cov_mat = np.cov(X_meaned , rowvar = False)\n",
    "     \n",
    "    #Step-3 : Compute the Eigenvalues and Eigenvectors\n",
    "    eigen_values , eigen_vectors = np.linalg.eigh(cov_mat)\n",
    "     \n",
    "    #Step-4 : Sort Eigenvalues in descending order\n",
    "    sorted_index = np.argsort(eigen_values)[::-1]\n",
    "    sorted_eigenvalue = eigen_values[sorted_index]\n",
    "    sorted_eigenvectors = eigen_vectors[:,sorted_index]\n",
    "     \n",
    "    #Step-5 : Select a subset from the rearranged Eigenvalue matrix\n",
    "    eigenvector_subset = sorted_eigenvectors[:,0:num_components]\n",
    "     \n",
    "    #Step-6 : Transform the data\n",
    "    X_reduced = np.dot(eigenvector_subset.transpose() , X_meaned.transpose() ).transpose()\n",
    "     \n",
    "    return X_reduced"
   ]
  },
  {
   "cell_type": "code",
   "execution_count": 10,
   "metadata": {},
   "outputs": [
    {
     "name": "stdout",
     "output_type": "stream",
     "text": [
      "Before PCA\n",
      "[[38 12 17 22 28]\n",
      " [41 27 47 12 48]\n",
      " [34 31 17 19 40]\n",
      " [32 16 11 36 11]\n",
      " [47 31 17 21 27]\n",
      " [30 11 45 32 41]\n",
      " [26 28 43 39 39]\n",
      " [46 30 14 40 21]\n",
      " [37 22 25 16 13]\n",
      " [18 21 42 17 27]\n",
      " [13 30 11 37 48]\n",
      " [15 17 16 23 44]\n",
      " [24 25 36 44 46]\n",
      " [14 22 43 32 16]\n",
      " [10 10 42 28 38]\n",
      " [42 20 29 15 43]\n",
      " [18 18 49 36 31]\n",
      " [39 28 37 18 49]\n",
      " [48 16 32 40 44]\n",
      " [19 26 30 20 24]]\n",
      "After PCA\n"
     ]
    },
    {
     "data": {
      "text/plain": [
       "array([[-15.70069531,   0.88599797],\n",
       "       [  9.51186531, -24.51073057],\n",
       "       [-11.91727355,  -8.64167521],\n",
       "       [-22.34294987,  20.887929  ],\n",
       "       [-23.387173  ,  -6.80877599],\n",
       "       [ 15.29427141,  -4.74361613],\n",
       "       [ 13.70109406,  -0.96516717],\n",
       "       [-25.33169602,   3.92765067],\n",
       "       [-16.50570725,   7.93156814],\n",
       "       [ 11.63883959,   7.48670468],\n",
       "       [ -0.44166147,   4.56841171],\n",
       "       [  1.09250623,   3.34346475],\n",
       "       [ 12.94922767,  -1.87053187],\n",
       "       [ 11.8222371 ,  21.63519916],\n",
       "       [ 22.36693476,   9.12827222],\n",
       "       [ -5.10310942, -17.07516904],\n",
       "       [ 20.52610225,   9.27299051],\n",
       "       [  3.91954624, -20.97106542],\n",
       "       [ -2.79124406, -14.43220403],\n",
       "       [  0.69888533,  10.95074661]])"
      ]
     },
     "execution_count": 10,
     "metadata": {},
     "output_type": "execute_result"
    }
   ],
   "source": [
    "#Generate a dummy dataset.\n",
    "X = np.random.randint(10,50,100).reshape(20,5) \n",
    "\n",
    "print(\"Before PCA\")\n",
    "print(X)\n",
    "\n",
    "print(\"After PCA\")\n",
    "PCA(X,num_components=2)"
   ]
  },
  {
   "cell_type": "code",
   "execution_count": null,
   "metadata": {},
   "outputs": [],
   "source": []
  },
  {
   "cell_type": "code",
   "execution_count": 4,
   "metadata": {},
   "outputs": [
    {
     "name": "stdout",
     "output_type": "stream",
     "text": [
      "[[-2.82842712  0.        ]\n",
      " [ 0.          0.        ]\n",
      " [ 2.82842712  0.        ]]\n"
     ]
    },
    {
     "data": {
      "text/plain": [
       "array([[-2.82842712],\n",
       "       [ 0.        ],\n",
       "       [ 2.82842712]])"
      ]
     },
     "execution_count": 4,
     "metadata": {},
     "output_type": "execute_result"
    }
   ],
   "source": [
    "import numpy as np\n",
    "\n",
    "# Manualy capculate PCA using Numpy\n",
    "#project our 3×2 matrix onto a 3×1 matrix with little loss\n",
    "\n",
    "# Define a mtrix\n",
    "A = np.array([[1,2],[3,4],[5,6]])\n",
    "\n",
    "import numpy as np\n",
    "\n",
    "#project our 3×2 matrix onto a 3×1 matrix with little loss\n",
    "\n",
    "# Define a mtrix\n",
    "A = np.array([[1,2],[3,4],[5,6]])\n",
    "\n",
    "# Calculate mean of Each Column\n",
    "M = np.mean(A.T,axis =1)\n",
    "\n",
    "# Center columns by subtracting column means\n",
    "C = A - M\n",
    "\n",
    "# calculate covariance matrix of centered matrix\n",
    "V = np.cov(C.T)\n",
    "\n",
    "# eigendecomposition of covariance matrix\n",
    "values, vectors = np.linalg.eig(V)\n",
    "p = vectors.T.dot(C.T)\n",
    "print(p.T)\n",
    "\n",
    "# Using SCIKIT\n",
    "from sklearn.decomposition import PCA\n",
    "pca = PCA(1)\n",
    "pca.fit(A)  \n",
    "B = pca.transform(A)\n",
    "B\n",
    "\n"
   ]
  },
  {
   "cell_type": "code",
   "execution_count": null,
   "metadata": {},
   "outputs": [],
   "source": []
  }
 ],
 "metadata": {
  "kernelspec": {
   "display_name": "Python 3",
   "language": "python",
   "name": "python3"
  },
  "language_info": {
   "codemirror_mode": {
    "name": "ipython",
    "version": 3
   },
   "file_extension": ".py",
   "mimetype": "text/x-python",
   "name": "python",
   "nbconvert_exporter": "python",
   "pygments_lexer": "ipython3",
   "version": "3.7.4"
  }
 },
 "nbformat": 4,
 "nbformat_minor": 2
}
