{
 "cells": [
  {
   "cell_type": "code",
   "execution_count": null,
   "metadata": {},
   "outputs": [],
   "source": [
    "'''\n",
    "Factor\n",
    "    - A factor is a latent variable which describes the association among the number of observed variables. \n",
    "      The maximum number of factors are equal to a number of observed variables. Every factor explains a certain variance \n",
    "      in observed variables.\n",
    "      The factors with the lowest amount of variance were dropped."
   ]
  },
  {
   "cell_type": "code",
   "execution_count": null,
   "metadata": {},
   "outputs": [],
   "source": [
    "'''\n",
    "Factor Analysis\n",
    "    - The main objective of Factor Analysis is not to reduce the dimensionality of the data. \n",
    "    \n",
    "    - This algorithm creates factors from the observed variables to represent the common variance i.e. variance due to \n",
    "      correlation among the observed variables.\n",
    "    \n",
    "      Factor Analysis is a useful approach to find latent variables which are not directly measured in a single variable but \n",
    "      rather inferred from other variables in the dataset. These latent variables are called factors."
   ]
  },
  {
   "cell_type": "code",
   "execution_count": null,
   "metadata": {},
   "outputs": [],
   "source": [
    "'''\n",
    "    - Factor Analysis (FA) is an exploratory data analysis method used to search influential underlying factors or latent \n",
    "      variables from a set of observed variables.\n",
    "    \n",
    "    - It helps in data interpretations by reducing the number of variables. It extracts maximum common variance from all \n",
    "      variables and puts them into a common score.\n",
    "    \n",
    "    - The factor analysis technique extracts the maximum common variance from all the variables and puts them into a common \n",
    "      score"
   ]
  },
  {
   "cell_type": "code",
   "execution_count": null,
   "metadata": {},
   "outputs": [],
   "source": [
    "'''\n",
    "  - Factor analysis is a method for investigating whether a number of variables of interest X1, X2,……., Xl, are linearly \n",
    "    related to a smaller number of unobservable factors F1, F2,..……, Fk."
   ]
  },
  {
   "cell_type": "code",
   "execution_count": null,
   "metadata": {},
   "outputs": [],
   "source": [
    "'''\n",
    "How does factor analysis work?\n",
    "    - The primary objective of factor analysis is to reduce the number of observed variables and find unobservable variables. \n",
    "      These unobserved variables help the market researcher to conclude the survey.\n",
    "    \n",
    "This conversion of the observed variables to unobserved variables can be achieved in two steps:\n",
    "    - Factor Extraction: \n",
    "    - Factor Rotation: "
   ]
  },
  {
   "cell_type": "code",
   "execution_count": null,
   "metadata": {},
   "outputs": [],
   "source": [
    "'''\n",
    "Types of factor analysis:\n",
    "    - Exploratory factor analysis (EFA) :\n",
    "    - Confirmatory factor analysis (CFA) :\n",
    "    - Multiple Factor Analysis :\n",
    "    - Generalized Procrustes Analysis (GPA) :\n"
   ]
  },
  {
   "cell_type": "code",
   "execution_count": null,
   "metadata": {},
   "outputs": [],
   "source": []
  },
  {
   "cell_type": "code",
   "execution_count": 16,
   "metadata": {},
   "outputs": [
    {
     "data": {
      "text/html": [
       "<div>\n",
       "<style scoped>\n",
       "    .dataframe tbody tr th:only-of-type {\n",
       "        vertical-align: middle;\n",
       "    }\n",
       "\n",
       "    .dataframe tbody tr th {\n",
       "        vertical-align: top;\n",
       "    }\n",
       "\n",
       "    .dataframe thead th {\n",
       "        text-align: right;\n",
       "    }\n",
       "</style>\n",
       "<table border=\"1\" class=\"dataframe\">\n",
       "  <thead>\n",
       "    <tr style=\"text-align: right;\">\n",
       "      <th></th>\n",
       "      <th>0</th>\n",
       "    </tr>\n",
       "  </thead>\n",
       "  <tbody>\n",
       "    <tr>\n",
       "      <th>0</th>\n",
       "      <td>5.134580</td>\n",
       "    </tr>\n",
       "    <tr>\n",
       "      <th>1</th>\n",
       "      <td>2.753375</td>\n",
       "    </tr>\n",
       "    <tr>\n",
       "      <th>2</th>\n",
       "      <td>2.148142</td>\n",
       "    </tr>\n",
       "    <tr>\n",
       "      <th>3</th>\n",
       "      <td>1.852506</td>\n",
       "    </tr>\n",
       "    <tr>\n",
       "      <th>4</th>\n",
       "      <td>1.548463</td>\n",
       "    </tr>\n",
       "    <tr>\n",
       "      <th>5</th>\n",
       "      <td>1.110662</td>\n",
       "    </tr>\n",
       "    <tr>\n",
       "      <th>6</th>\n",
       "      <td>0.980677</td>\n",
       "    </tr>\n",
       "    <tr>\n",
       "      <th>7</th>\n",
       "      <td>0.824309</td>\n",
       "    </tr>\n",
       "    <tr>\n",
       "      <th>8</th>\n",
       "      <td>0.795162</td>\n",
       "    </tr>\n",
       "    <tr>\n",
       "      <th>9</th>\n",
       "      <td>0.718290</td>\n",
       "    </tr>\n",
       "    <tr>\n",
       "      <th>10</th>\n",
       "      <td>0.686026</td>\n",
       "    </tr>\n",
       "    <tr>\n",
       "      <th>11</th>\n",
       "      <td>0.676149</td>\n",
       "    </tr>\n",
       "    <tr>\n",
       "      <th>12</th>\n",
       "      <td>0.651776</td>\n",
       "    </tr>\n",
       "    <tr>\n",
       "      <th>13</th>\n",
       "      <td>0.622974</td>\n",
       "    </tr>\n",
       "    <tr>\n",
       "      <th>14</th>\n",
       "      <td>0.596231</td>\n",
       "    </tr>\n",
       "    <tr>\n",
       "      <th>15</th>\n",
       "      <td>0.562446</td>\n",
       "    </tr>\n",
       "    <tr>\n",
       "      <th>16</th>\n",
       "      <td>0.543299</td>\n",
       "    </tr>\n",
       "    <tr>\n",
       "      <th>17</th>\n",
       "      <td>0.514340</td>\n",
       "    </tr>\n",
       "    <tr>\n",
       "      <th>18</th>\n",
       "      <td>0.494372</td>\n",
       "    </tr>\n",
       "    <tr>\n",
       "      <th>19</th>\n",
       "      <td>0.482639</td>\n",
       "    </tr>\n",
       "    <tr>\n",
       "      <th>20</th>\n",
       "      <td>0.448655</td>\n",
       "    </tr>\n",
       "    <tr>\n",
       "      <th>21</th>\n",
       "      <td>0.422806</td>\n",
       "    </tr>\n",
       "    <tr>\n",
       "      <th>22</th>\n",
       "      <td>0.400285</td>\n",
       "    </tr>\n",
       "    <tr>\n",
       "      <th>23</th>\n",
       "      <td>0.387738</td>\n",
       "    </tr>\n",
       "    <tr>\n",
       "      <th>24</th>\n",
       "      <td>0.381837</td>\n",
       "    </tr>\n",
       "    <tr>\n",
       "      <th>25</th>\n",
       "      <td>0.262263</td>\n",
       "    </tr>\n",
       "  </tbody>\n",
       "</table>\n",
       "</div>"
      ],
      "text/plain": [
       "           0\n",
       "0   5.134580\n",
       "1   2.753375\n",
       "2   2.148142\n",
       "3   1.852506\n",
       "4   1.548463\n",
       "5   1.110662\n",
       "6   0.980677\n",
       "7   0.824309\n",
       "8   0.795162\n",
       "9   0.718290\n",
       "10  0.686026\n",
       "11  0.676149\n",
       "12  0.651776\n",
       "13  0.622974\n",
       "14  0.596231\n",
       "15  0.562446\n",
       "16  0.543299\n",
       "17  0.514340\n",
       "18  0.494372\n",
       "19  0.482639\n",
       "20  0.448655\n",
       "21  0.422806\n",
       "22  0.400285\n",
       "23  0.387738\n",
       "24  0.381837\n",
       "25  0.262263"
      ]
     },
     "execution_count": 16,
     "metadata": {},
     "output_type": "execute_result"
    }
   ],
   "source": [
    "import pandas as pd\n",
    "from sklearn.datasets import load_iris\n",
    "from factor_analyzer import FactorAnalyzer\n",
    "import matplotlib.pyplot as plt\n",
    "\n",
    "df= pd.read_csv(\"bfi.csv\")\n",
    "\n",
    "df.head()\n",
    "\n",
    "# Dropping unnecessary columns\n",
    "df.drop(['gender', 'education', 'age'],axis=1,inplace=True)\n",
    "\n",
    "# Dropping missing values rows\n",
    "df.dropna(inplace=True)\n",
    "\n",
    "df.head()\n",
    "\n",
    "# Before you perform factor analysis, you need to evaluate the “factorability” of our dataset. \n",
    "# Factorability means \"can we found the factors in the dataset?\". There are two methods to check the factorability or \n",
    "# sampling adequacy:\n",
    "# - Bartlett’s Test - Kaiser-Meyer-Olkin Test\n",
    "\n",
    "# Choosing the Number of Factors\n",
    "# Create factor analysis object and perform factor analysis\n",
    "\n",
    "fa = FactorAnalyzer()\n",
    "fa.fit(df, 25)\n",
    "\n",
    "# Check Eigenvalues\n",
    "ev, v = fa.get_eigenvalues()\n",
    "ev\n",
    "\n",
    "import pandas as pd\n",
    "pd.DataFrame(ev)\n"
   ]
  },
  {
   "cell_type": "code",
   "execution_count": 17,
   "metadata": {},
   "outputs": [
    {
     "data": {
      "image/png": "[encoded data removed]",
      "text/plain": [
       "<Figure size 432x288 with 1 Axes>"
      ]
     },
     "metadata": {
      "needs_background": "light"
     },
     "output_type": "display_data"
    }
   ],
   "source": [
    "# Here, you can see only for 6-factors eigenvalues are greater than one. It means we need to choose only 6 factors \n",
    "# (or unobserved variables).\n",
    "\n",
    "# Create scree plot using matplotlib\n",
    "plt.scatter(range(1,df.shape[1]+1),ev)\n",
    "plt.plot(range(1,df.shape[1]+1),ev)\n",
    "plt.title('Scree Plot')\n",
    "plt.xlabel('Factors')\n",
    "plt.ylabel('Eigenvalue')\n",
    "plt.grid()\n",
    "plt.show()\n",
    "\n",
    "# Here, you can see only for 6-factors eigenvalues are greater than one. It means we need to choose only 6 \n",
    "# factors (or unobserved variables)"
   ]
  },
  {
   "cell_type": "code",
   "execution_count": 26,
   "metadata": {},
   "outputs": [
    {
     "data": {
      "text/plain": [
       "array([[-0.05960934, -0.01601316,  0.04276285],\n",
       "       [-0.22784875,  0.09997989, -0.00832484],\n",
       "       [ 0.53638325,  0.01117998,  0.12820555],\n",
       "       [ 0.63265503, -0.0126458 ,  0.10214864],\n",
       "       [ 0.40152121, -0.09928207,  0.14015862],\n",
       "       [ 0.63953327, -0.1390389 ,  0.09277602],\n",
       "       [ 0.08817428,  0.02767786,  0.59321239],\n",
       "       [ 0.09428496,  0.08771919,  0.61450423],\n",
       "       [ 0.08085105, -0.04402605,  0.47636113],\n",
       "       [-0.06743231,  0.2369583 , -0.62172553],\n",
       "       [-0.14882021,  0.30575982, -0.48086368],\n",
       "       [-0.51222473,  0.06276498,  0.00447786],\n",
       "       [-0.5812613 ,  0.26569815, -0.11689063],\n",
       "       [ 0.60766697,  0.02986066,  0.18602289],\n",
       "       [ 0.67904503, -0.15935443,  0.05000443],\n",
       "       [ 0.46642442,  0.03121694,  0.36394735],\n",
       "       [-0.05597244,  0.74336775, -0.10827887],\n",
       "       [-0.07284218,  0.7405521 , -0.06045931],\n",
       "       [-0.03797263,  0.74229002, -0.09153376],\n",
       "       [-0.23725456,  0.60885593, -0.1487111 ],\n",
       "       [-0.06188283,  0.51361576, -0.12675745],\n",
       "       [ 0.2481042 ,  0.0429863 ,  0.3111074 ],\n",
       "       [ 0.00698144,  0.11028093, -0.29092206],\n",
       "       [ 0.36315596,  0.07021256,  0.30642343],\n",
       "       [-0.00881227,  0.25896557,  0.12188119],\n",
       "       [-0.06428469,  0.0195186 , -0.27550132]])"
      ]
     },
     "execution_count": 26,
     "metadata": {},
     "output_type": "execute_result"
    }
   ],
   "source": [
    "# Create factor analysis object and perform factor analysis\n",
    "fa = FactorAnalyzer(rotation=\"varimax\")\n",
    "fa.fit(df, 5)\n",
    "\n",
    "fa.loadings_"
   ]
  },
  {
   "cell_type": "code",
   "execution_count": 2,
   "metadata": {},
   "outputs": [
    {
     "data": {
      "text/plain": [
       "<matplotlib.collections.PathCollection at 0x1cb7b708308>"
      ]
     },
     "execution_count": 2,
     "metadata": {},
     "output_type": "execute_result"
    },
    {
     "data": {
      "image/png": "[encoded data removed]",
      "text/plain": [
       "<Figure size 432x288 with 1 Axes>"
      ]
     },
     "metadata": {
      "needs_background": "light"
     },
     "output_type": "display_data"
    }
   ],
   "source": [
    "from sklearn.datasets import load_iris\n",
    "from sklearn.decomposition import FactorAnalysis\n",
    "import matplotlib.pyplot as plt\n",
    "\n",
    "iris = load_iris()\n",
    "iris_X = iris.data # 4 Features\n",
    "y = iris.target\n",
    "\n",
    "fa = FactorAnalysis(n_components=2)\n",
    "iris_two_dim = fa.fit_transform(iris_X)\n",
    "\n",
    "iris_two_dim[:2]\n",
    "\n",
    "plt.scatter(iris_two_dim[:,0],iris_two_dim[:,1],c=y)"
   ]
  }
 ],
 "metadata": {
  "kernelspec": {
   "display_name": "Python 3",
   "language": "python",
   "name": "python3"
  },
  "language_info": {
   "codemirror_mode": {
    "name": "ipython",
    "version": 3
   },
   "file_extension": ".py",
   "mimetype": "text/x-python",
   "name": "python",
   "nbconvert_exporter": "python",
   "pygments_lexer": "ipython3",
   "version": "3.7.4"
  }
 },
 "nbformat": 4,
 "nbformat_minor": 2
}
