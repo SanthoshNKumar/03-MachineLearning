{
 "cells": [
  {
   "cell_type": "code",
   "execution_count": null,
   "metadata": {},
   "outputs": [],
   "source": [
    "'''\n",
    "How do we know how many Clusrters?"
   ]
  },
  {
   "cell_type": "code",
   "execution_count": null,
   "metadata": {},
   "outputs": [],
   "source": [
    "'''\n",
    "1. Elbow Method\n",
    "    - The Elbow Method is one of the most popular methods to determine this optimal value of k.\n",
    "    \n",
    "How Elbow Method Works\n",
    "    - Finding the diameter of the clusering, it is somethng largest possible distance between two points of same group.\n",
    "      Basically it tells how big each group is."
   ]
  },
  {
   "cell_type": "code",
   "execution_count": null,
   "metadata": {},
   "outputs": [],
   "source": [
    "'''\n",
    "Distortion: It is calculated as the average of the squared distances from the cluster centers of the respective clusters. \n",
    "            Typically, the Euclidean distance metric is used.\n",
    "            \n",
    "Inertia: It is the sum of squared distances of samples to their closest cluster center.\n"
   ]
  },
  {
   "cell_type": "code",
   "execution_count": 1,
   "metadata": {},
   "outputs": [],
   "source": [
    "\n",
    "from sklearn.cluster import KMeans\n",
    "from sklearn import metrics\n",
    "from scipy.spatial.distance import cdist\n",
    "import numpy as np\n",
    "import matplotlib.pyplot as plt"
   ]
  },
  {
   "cell_type": "code",
   "execution_count": 2,
   "metadata": {},
   "outputs": [
    {
     "data": {
      "image/png": "[encoded data removed]",
      "text/plain": [
       "<Figure size 432x288 with 1 Axes>"
      ]
     },
     "metadata": {
      "needs_background": "light"
     },
     "output_type": "display_data"
    }
   ],
   "source": [
    "# Creating the data\n",
    "x1 = np.array([3, 1, 1, 2, 1, 6, 6, 6, 5, 6, 7, 8, 9, 8, 9, 9, 8])\n",
    "x2 = np.array([5, 4, 5, 6, 5, 8, 6, 7, 6, 7, 1, 2, 1, 2, 3, 2, 3])\n",
    "X = np.array(list(zip(x1, x2))).reshape(len(x1), 2)\n",
    " \n",
    "# Visualizing the data\n",
    "plt.plot()\n",
    "plt.xlim([0, 10])\n",
    "plt.ylim([0, 10])\n",
    "plt.title('Dataset')\n",
    "plt.scatter(x1, x2)\n",
    "plt.show()"
   ]
  },
  {
   "cell_type": "code",
   "execution_count": null,
   "metadata": {},
   "outputs": [],
   "source": [
    "'''\n",
    "\n",
    "1. Calculate Cluster Center Center for K value\n",
    "2. find the 'distortions' # Average distance between 'Cluster Center' for the data points\n",
    "3. find the 'inertias'\n"
   ]
  },
  {
   "cell_type": "code",
   "execution_count": 95,
   "metadata": {},
   "outputs": [],
   "source": [
    "distortions = []\n",
    "inertias = []\n",
    "mapping1 = {}\n",
    "mapping2 = {}\n",
    "K = range(1, 10) # Cluster"
   ]
  },
  {
   "cell_type": "code",
   "execution_count": 108,
   "metadata": {},
   "outputs": [
    {
     "data": {
      "text/plain": [
       "array([[2.68276571],\n",
       "       [4.59765248],\n",
       "       [4.64221639],\n",
       "       [3.97309289],\n",
       "       [4.64221639],\n",
       "       [3.728688  ],\n",
       "       [1.75487458],\n",
       "       [2.73703297],\n",
       "       [1.80445431],\n",
       "       [2.73703297],\n",
       "       [3.58389323],\n",
       "       [3.32860102],\n",
       "       [4.74250456],\n",
       "       [3.32860102],\n",
       "       [3.64895586],\n",
       "       [4.11133971],\n",
       "       [2.73703297]])"
      ]
     },
     "execution_count": 108,
     "metadata": {},
     "output_type": "execute_result"
    }
   ],
   "source": [
    "# Building and fitting the model\n",
    "kmeanModel = KMeans(n_clusters=1).fit(X)\n",
    "\n",
    "kmeanModel.fit(X)\n",
    "\n",
    "cdist(X, kmeanModel.cluster_centers_,'euclidean')"
   ]
  },
  {
   "cell_type": "code",
   "execution_count": 96,
   "metadata": {},
   "outputs": [],
   "source": [
    "for k in K:\n",
    "    \n",
    "    # Building and fitting the model\n",
    "    kmeanModel = KMeans(n_clusters=k).fit(X)\n",
    "    \n",
    "    kmeanModel.fit(X)\n",
    " \n",
    "    distortions.append(sum(np.min(cdist(X, kmeanModel.cluster_centers_,'euclidean'), axis=1)) / X.shape[0])\n",
    "    \n",
    "    inertias.append(kmeanModel.inertia_)\n",
    " \n",
    "    mapping1[k] = sum(np.min(cdist(X, kmeanModel.cluster_centers_,'euclidean'), axis=1)) / X.shape[0]\n",
    "    mapping2[k] = kmeanModel.inertia_"
   ]
  },
  {
   "cell_type": "code",
   "execution_count": 112,
   "metadata": {},
   "outputs": [
    {
     "data": {
      "text/plain": [
       "[3.4577032384495707,\n",
       " 1.7687413573405673,\n",
       " 0.8819889697423957,\n",
       " 0.7587138847606585,\n",
       " 0.6627384240083372,\n",
       " 0.5920126825722446,\n",
       " 0.4897638645704274,\n",
       " 0.4442520441076937,\n",
       " 0.3576988370023389]"
      ]
     },
     "execution_count": 112,
     "metadata": {},
     "output_type": "execute_result"
    }
   ],
   "source": [
    "distortions"
   ]
  },
  {
   "cell_type": "code",
   "execution_count": 98,
   "metadata": {},
   "outputs": [
    {
     "data": {
      "text/plain": [
       "[217.64705882352948,\n",
       " 68.42857142857142,\n",
       " 16.228571428571428,\n",
       " 12.695238095238095,\n",
       " 10.016666666666667,\n",
       " 7.5166666666666675,\n",
       " 5.916666666666667,\n",
       " 4.166666666666667,\n",
       " 3.333333333333333]"
      ]
     },
     "execution_count": 98,
     "metadata": {},
     "output_type": "execute_result"
    }
   ],
   "source": [
    "inertias"
   ]
  },
  {
   "cell_type": "code",
   "execution_count": 99,
   "metadata": {},
   "outputs": [
    {
     "data": {
      "text/plain": [
       "{1: 3.4577032384495707,\n",
       " 2: 1.7687413573405673,\n",
       " 3: 0.8819889697423957,\n",
       " 4: 0.7587138847606585,\n",
       " 5: 0.6627384240083372,\n",
       " 6: 0.5920126825722446,\n",
       " 7: 0.4897638645704274,\n",
       " 8: 0.4442520441076937,\n",
       " 9: 0.3576988370023389}"
      ]
     },
     "execution_count": 99,
     "metadata": {},
     "output_type": "execute_result"
    }
   ],
   "source": [
    "mapping1"
   ]
  },
  {
   "cell_type": "code",
   "execution_count": 100,
   "metadata": {},
   "outputs": [
    {
     "data": {
      "text/plain": [
       "{1: 217.64705882352948,\n",
       " 2: 68.42857142857142,\n",
       " 3: 16.228571428571428,\n",
       " 4: 12.695238095238095,\n",
       " 5: 10.016666666666667,\n",
       " 6: 7.5166666666666675,\n",
       " 7: 5.916666666666667,\n",
       " 8: 4.166666666666667,\n",
       " 9: 3.333333333333333}"
      ]
     },
     "execution_count": 100,
     "metadata": {},
     "output_type": "execute_result"
    }
   ],
   "source": [
    "mapping2"
   ]
  },
  {
   "cell_type": "code",
   "execution_count": 101,
   "metadata": {},
   "outputs": [
    {
     "name": "stdout",
     "output_type": "stream",
     "text": [
      "1 : 3.4577032384495707\n",
      "2 : 1.7687413573405673\n",
      "3 : 0.8819889697423957\n",
      "4 : 0.7587138847606585\n",
      "5 : 0.6627384240083372\n",
      "6 : 0.5920126825722446\n",
      "7 : 0.4897638645704274\n",
      "8 : 0.4442520441076937\n",
      "9 : 0.3576988370023389\n"
     ]
    }
   ],
   "source": [
    "for key, val in mapping1.items():\n",
    "    print(f'{key} : {val}')"
   ]
  },
  {
   "cell_type": "code",
   "execution_count": 102,
   "metadata": {},
   "outputs": [
    {
     "data": {
      "image/png": "[encoded data removed]",
      "text/plain": [
       "<Figure size 432x288 with 1 Axes>"
      ]
     },
     "metadata": {
      "needs_background": "light"
     },
     "output_type": "display_data"
    }
   ],
   "source": [
    "\n",
    "plt.plot(K, distortions, 'bx-')\n",
    "plt.xlabel('Values of K')\n",
    "plt.ylabel('Distortion')\n",
    "plt.title('The Elbow Method using Distortion')\n",
    "plt.show()"
   ]
  },
  {
   "cell_type": "code",
   "execution_count": 104,
   "metadata": {},
   "outputs": [
    {
     "name": "stdout",
     "output_type": "stream",
     "text": [
      "1 : 217.64705882352948\n",
      "2 : 68.42857142857142\n",
      "3 : 16.228571428571428\n",
      "4 : 12.695238095238095\n",
      "5 : 10.016666666666667\n",
      "6 : 7.5166666666666675\n",
      "7 : 5.916666666666667\n",
      "8 : 4.166666666666667\n",
      "9 : 3.333333333333333\n"
     ]
    }
   ],
   "source": [
    "for key, val in mapping2.items():\n",
    "    print(f'{key} : {val}')"
   ]
  },
  {
   "cell_type": "code",
   "execution_count": 105,
   "metadata": {},
   "outputs": [
    {
     "data": {
      "image/png": "[encoded data removed]",
      "text/plain": [
       "<Figure size 432x288 with 1 Axes>"
      ]
     },
     "metadata": {
      "needs_background": "light"
     },
     "output_type": "display_data"
    }
   ],
   "source": [
    "plt.plot(K, inertias, 'bx-')\n",
    "plt.xlabel('Values of K')\n",
    "plt.ylabel('Inertia')\n",
    "plt.title('The Elbow Method using Inertia')\n",
    "plt.show()"
   ]
  },
  {
   "cell_type": "code",
   "execution_count": null,
   "metadata": {},
   "outputs": [],
   "source": []
  }
 ],
 "metadata": {
  "kernelspec": {
   "display_name": "Python 3",
   "language": "python",
   "name": "python3"
  },
  "language_info": {
   "codemirror_mode": {
    "name": "ipython",
    "version": 3
   },
   "file_extension": ".py",
   "mimetype": "text/x-python",
   "name": "python",
   "nbconvert_exporter": "python",
   "pygments_lexer": "ipython3",
   "version": "3.7.4"
  }
 },
 "nbformat": 4,
 "nbformat_minor": 2
}
