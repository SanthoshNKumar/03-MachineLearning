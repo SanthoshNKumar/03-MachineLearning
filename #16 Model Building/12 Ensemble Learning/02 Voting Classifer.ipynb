{
 "cells": [
  {
   "cell_type": "code",
   "execution_count": null,
   "metadata": {},
   "outputs": [],
   "source": [
    "'''\n",
    "Max Voting:\n",
    "    - A voting ensemble works by combining the predictions from multiple models. It can be used for classification or \n",
    "      regression.\n",
    "    - In the case of regression, this involves calculating the average of the predictions from the models\n",
    "    - In the case of classification, the predictions for each label are summed and the label with the majority vote is \n",
    "      predicted.\n",
    "      \n",
    "      Regression Voting Ensemble: Predictions are the average of contributing models.\n",
    "      \n",
    "      Classification Voting Ensemble: Predictions are the majority vote of contributing models.\n",
    "      \n",
    "There are two approaches to the majority vote prediction for classification; they are hard voting and soft voting.\n",
    "    1. Hard Voting(majority voting)). Predict the class with the largest sum of votes from models\n",
    "        \n",
    "        Ex: Suppose three classifiers predicted the output class(A, A, B), so here the majority predicted A as output.\n",
    "            Hence A will be the final prediction.\n",
    "        \n",
    "    2. Soft Voting. Predict the class with the largest summed probability from models.\n",
    "            \n",
    "            Ex: The prediction probability for class A = (0.30, 0.47, 0.53) and B = (0.20, 0.32, 0.40).So the average for \n",
    "                class A is 0.4333 and B is 0.3067, the winner is clearly class A because it had the highest probability \n",
    "                averaged by each classifier."
   ]
  },
  {
   "cell_type": "code",
   "execution_count": null,
   "metadata": {},
   "outputs": [],
   "source": []
  },
  {
   "cell_type": "markdown",
   "metadata": {},
   "source": [
    "### Voting Ensemble Scikit-Learn API"
   ]
  },
  {
   "cell_type": "code",
   "execution_count": null,
   "metadata": {},
   "outputs": [],
   "source": []
  },
  {
   "cell_type": "markdown",
   "metadata": {},
   "source": [
    "### Hard Voting Classifer"
   ]
  },
  {
   "cell_type": "code",
   "execution_count": 2,
   "metadata": {},
   "outputs": [
    {
     "name": "stdout",
     "output_type": "stream",
     "text": [
      ">knn1 0.873 (0.030)\n",
      ">knn3 0.889 (0.038)\n",
      ">knn5 0.895 (0.031)\n",
      ">knn7 0.899 (0.035)\n",
      ">knn9 0.900 (0.033)\n",
      ">hard_voting 0.902 (0.034)\n"
     ]
    },
    {
     "data": {
      "image/png": "[encoded data removed]",
      "text/plain": [
       "<Figure size 432x288 with 1 Axes>"
      ]
     },
     "metadata": {
      "needs_background": "light"
     },
     "output_type": "display_data"
    }
   ],
   "source": [
    "# compare hard voting to standalone classifiers\n",
    "from numpy import mean\n",
    "from numpy import std\n",
    "from sklearn.datasets import make_classification\n",
    "from sklearn.model_selection import cross_val_score\n",
    "from sklearn.model_selection import RepeatedStratifiedKFold\n",
    "from sklearn.neighbors import KNeighborsClassifier\n",
    "from sklearn.ensemble import VotingClassifier\n",
    "from matplotlib import pyplot\n",
    "\n",
    "# get the dataset\n",
    "def get_dataset():\n",
    "    X, y = make_classification(n_samples=1000, n_features=20, n_informative=15, n_redundant=5, random_state=2)\n",
    "    return X, y\n",
    "\n",
    "# get a voting ensemble of models\n",
    "def get_voting():\n",
    "    # define the base models\n",
    "    models = list()\n",
    "    models.append(('knn1', KNeighborsClassifier(n_neighbors=1)))\n",
    "    models.append(('knn3', KNeighborsClassifier(n_neighbors=3)))\n",
    "    models.append(('knn5', KNeighborsClassifier(n_neighbors=5)))\n",
    "    models.append(('knn7', KNeighborsClassifier(n_neighbors=7)))\n",
    "    models.append(('knn9', KNeighborsClassifier(n_neighbors=9)))\n",
    "    # define the voting ensemble\n",
    "    ensemble = VotingClassifier(estimators=models, voting='hard')\n",
    "    return ensemble\n",
    "\n",
    "# get a list of models to evaluate\n",
    "def get_models():\n",
    "    models = dict()\n",
    "    models['knn1'] = KNeighborsClassifier(n_neighbors=1)\n",
    "    models['knn3'] = KNeighborsClassifier(n_neighbors=3)\n",
    "    models['knn5'] = KNeighborsClassifier(n_neighbors=5)\n",
    "    models['knn7'] = KNeighborsClassifier(n_neighbors=7)\n",
    "    models['knn9'] = KNeighborsClassifier(n_neighbors=9)\n",
    "    models['hard_voting'] = get_voting()\n",
    "    return models\n",
    "\n",
    "# evaluate a give model using cross-validation\n",
    "def evaluate_model(model, X, y):\n",
    "    cv = RepeatedStratifiedKFold(n_splits=10, n_repeats=3, random_state=1)\n",
    "    scores = cross_val_score(model, X, y, scoring='accuracy', cv=cv, n_jobs=-1, error_score='raise')\n",
    "    return scores\n",
    "\n",
    "# define dataset\n",
    "X, y = get_dataset()\n",
    "\n",
    "# get the models to evaluate\n",
    "models = get_models()\n",
    "\n",
    "# evaluate the models and store results\n",
    "results, names = list(), list()\n",
    "\n",
    "for name, model in models.items():\n",
    "    scores = evaluate_model(model, X, y)\n",
    "    results.append(scores)\n",
    "    names.append(name)\n",
    "    print('>%s %.3f (%.3f)' % (name, mean(scores), std(scores)))\n",
    "\n",
    "# plot model performance for comparison\n",
    "pyplot.boxplot(results, labels=names, showmeans=True)\n",
    "pyplot.show()"
   ]
  },
  {
   "cell_type": "code",
   "execution_count": null,
   "metadata": {},
   "outputs": [],
   "source": []
  },
  {
   "cell_type": "markdown",
   "metadata": {},
   "source": [
    "###  Binary classification using Hard Voting"
   ]
  },
  {
   "cell_type": "code",
   "execution_count": 3,
   "metadata": {},
   "outputs": [
    {
     "name": "stdout",
     "output_type": "stream",
     "text": [
      "Predicted Class: 1\n"
     ]
    }
   ],
   "source": [
    "# make a prediction with a hard voting ensemble\n",
    "from sklearn.datasets import make_classification\n",
    "from sklearn.ensemble import VotingClassifier\n",
    "from sklearn.neighbors import KNeighborsClassifier\n",
    "\n",
    "# define dataset\n",
    "X, y = make_classification(n_samples=1000, n_features=20, n_informative=15, n_redundant=5, random_state=2)\n",
    "\n",
    "# define the base models\n",
    "models = list()\n",
    "models.append(('knn1', KNeighborsClassifier(n_neighbors=1)))\n",
    "models.append(('knn3', KNeighborsClassifier(n_neighbors=3)))\n",
    "models.append(('knn5', KNeighborsClassifier(n_neighbors=5)))\n",
    "models.append(('knn7', KNeighborsClassifier(n_neighbors=7)))\n",
    "models.append(('knn9', KNeighborsClassifier(n_neighbors=9)))\n",
    "\n",
    "# define the hard voting ensemble\n",
    "ensemble = VotingClassifier(estimators=models, voting='hard')\n",
    "\n",
    "# fit the model on all available data\n",
    "ensemble.fit(X, y)\n",
    "\n",
    "# make a prediction for one example\n",
    "data = [[5.88891819,2.64867662,-0.42728226,-1.24988856,-0.00822,-3.57895574,2.87938412,-1.55614691,-0.38168784,\n",
    "         7.50285659,-1.16710354,-5.02492712,-0.46196105,-0.64539455,-1.71297469,0.25987852,-0.193401,-5.52022952,\n",
    "         0.0364453,-1.960039]]\n",
    "\n",
    "yhat = ensemble.predict(data)\n",
    "print('Predicted Class: %d' % (yhat))"
   ]
  },
  {
   "cell_type": "code",
   "execution_count": null,
   "metadata": {},
   "outputs": [],
   "source": []
  },
  {
   "cell_type": "markdown",
   "metadata": {},
   "source": [
    "### Soft Voting  Classifier"
   ]
  },
  {
   "cell_type": "code",
   "execution_count": 4,
   "metadata": {},
   "outputs": [
    {
     "name": "stdout",
     "output_type": "stream",
     "text": [
      ">svm1 0.855 (0.035)\n",
      ">svm2 0.859 (0.034)\n",
      ">svm3 0.890 (0.035)\n",
      ">svm4 0.808 (0.037)\n",
      ">svm5 0.850 (0.037)\n",
      ">soft_voting 0.923 (0.028)\n"
     ]
    },
    {
     "data": {
      "image/png": "[encoded data removed]",
      "text/plain": [
       "<Figure size 432x288 with 1 Axes>"
      ]
     },
     "metadata": {
      "needs_background": "light"
     },
     "output_type": "display_data"
    }
   ],
   "source": [
    "# compare soft voting ensemble to standalone classifiers\n",
    "from numpy import mean\n",
    "from numpy import std\n",
    "from sklearn.datasets import make_classification\n",
    "from sklearn.model_selection import cross_val_score\n",
    "from sklearn.model_selection import RepeatedStratifiedKFold\n",
    "from sklearn.svm import SVC\n",
    "from sklearn.ensemble import VotingClassifier\n",
    "from matplotlib import pyplot\n",
    "\n",
    "# get the dataset\n",
    "def get_dataset():\n",
    "    X, y = make_classification(n_samples=1000, n_features=20, n_informative=15, n_redundant=5, random_state=2)\n",
    "    return X, y\n",
    "\n",
    "# get a voting ensemble of models\n",
    "def get_voting():\n",
    "    # define the base models\n",
    "    models = list()\n",
    "    models.append(('svm1', SVC(probability=True, kernel='poly', degree=1)))\n",
    "    models.append(('svm2', SVC(probability=True, kernel='poly', degree=2)))\n",
    "    models.append(('svm3', SVC(probability=True, kernel='poly', degree=3)))\n",
    "    models.append(('svm4', SVC(probability=True, kernel='poly', degree=4)))\n",
    "    models.append(('svm5', SVC(probability=True, kernel='poly', degree=5)))\n",
    "    # define the voting ensemble\n",
    "    ensemble = VotingClassifier(estimators=models, voting='soft')\n",
    "    return ensemble\n",
    "\n",
    "# get a list of models to evaluate\n",
    "def get_models():\n",
    "    models = dict()\n",
    "    models['svm1'] = SVC(probability=True, kernel='poly', degree=1)\n",
    "    models['svm2'] = SVC(probability=True, kernel='poly', degree=2)\n",
    "    models['svm3'] = SVC(probability=True, kernel='poly', degree=3)\n",
    "    models['svm4'] = SVC(probability=True, kernel='poly', degree=4)\n",
    "    models['svm5'] = SVC(probability=True, kernel='poly', degree=5)\n",
    "    models['soft_voting'] = get_voting()\n",
    "    return models\n",
    "\n",
    "# evaluate a give model using cross-validation\n",
    "def evaluate_model(model, X, y):\n",
    "    cv = RepeatedStratifiedKFold(n_splits=10, n_repeats=3, random_state=1)\n",
    "    scores = cross_val_score(model, X, y, scoring='accuracy', cv=cv, n_jobs=-1, error_score='raise')\n",
    "    return scores\n",
    "\n",
    "# define dataset\n",
    "X, y = get_dataset()\n",
    "# get the models to evaluate\n",
    "\n",
    "models = get_models()\n",
    "\n",
    "# evaluate the models and store results\n",
    "results, names = list(), list()\n",
    "for name, model in models.items():\n",
    "    scores = evaluate_model(model, X, y)\n",
    "    results.append(scores)\n",
    "    names.append(name)\n",
    "    print('>%s %.3f (%.3f)' % (name, mean(scores), std(scores)))\n",
    "\n",
    "    # plot model performance for comparison\n",
    "pyplot.boxplot(results, labels=names, showmeans=True)\n",
    "pyplot.show()"
   ]
  },
  {
   "cell_type": "code",
   "execution_count": null,
   "metadata": {},
   "outputs": [],
   "source": [
    "# If we choose a soft voting ensemble as our final model, we can fit and use it to make predictions on new data just like any \n",
    "# other model."
   ]
  },
  {
   "cell_type": "markdown",
   "metadata": {},
   "source": [
    "### Binary Classifciation  using Soft Voting"
   ]
  },
  {
   "cell_type": "code",
   "execution_count": 5,
   "metadata": {},
   "outputs": [
    {
     "name": "stdout",
     "output_type": "stream",
     "text": [
      "Predicted Class: 1\n"
     ]
    }
   ],
   "source": [
    "# make a prediction with a soft voting ensemble\n",
    "from sklearn.datasets import make_classification\n",
    "from sklearn.ensemble import VotingClassifier\n",
    "from sklearn.svm import SVC\n",
    "\n",
    "# define dataset\n",
    "X, y = make_classification(n_samples=1000, n_features=20, n_informative=15, n_redundant=5, random_state=2)\n",
    "\n",
    "# define the base models\n",
    "models = list()\n",
    "models.append(('svm1', SVC(probability=True, kernel='poly', degree=1)))\n",
    "models.append(('svm2', SVC(probability=True, kernel='poly', degree=2)))\n",
    "models.append(('svm3', SVC(probability=True, kernel='poly', degree=3)))\n",
    "models.append(('svm4', SVC(probability=True, kernel='poly', degree=4)))\n",
    "models.append(('svm5', SVC(probability=True, kernel='poly', degree=5)))\n",
    "\n",
    "# define the soft voting ensemble\n",
    "ensemble = VotingClassifier(estimators=models, voting='soft')\n",
    "\n",
    "# fit the model on all available data\n",
    "ensemble.fit(X, y)\n",
    "# make a prediction for one example\n",
    "data = [[5.88891819,2.64867662,-0.42728226,-1.24988856,-0.00822,-3.57895574,2.87938412,-1.55614691,-0.38168784,\n",
    "         7.50285659,-1.16710354,-5.02492712,-0.46196105,-0.64539455,-1.71297469,0.25987852,-0.193401,-5.52022952,\n",
    "         0.0364453,-1.960039]]\n",
    "\n",
    "yhat = ensemble.predict(data)\n",
    "print('Predicted Class: %d' % (yhat))"
   ]
  },
  {
   "cell_type": "code",
   "execution_count": null,
   "metadata": {},
   "outputs": [],
   "source": []
  }
 ],
 "metadata": {
  "kernelspec": {
   "display_name": "Python 3",
   "language": "python",
   "name": "python3"
  },
  "language_info": {
   "codemirror_mode": {
    "name": "ipython",
    "version": 3
   },
   "file_extension": ".py",
   "mimetype": "text/x-python",
   "name": "python",
   "nbconvert_exporter": "python",
   "pygments_lexer": "ipython3",
   "version": "3.7.4"
  }
 },
 "nbformat": 4,
 "nbformat_minor": 2
}
