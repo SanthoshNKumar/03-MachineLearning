{
 "cells": [
  {
   "cell_type": "code",
   "execution_count": null,
   "metadata": {},
   "outputs": [],
   "source": [
    "'''\n",
    "Bagging classifier:\n",
    "\n",
    "A Bagging classifier is an ensemble meta-estimator that fits base classifiers each on random subsets of the original dataset \n",
    "and then aggregate their individual predictions (either by voting or by averaging) to form a final prediction. \n",
    "\n",
    "Bagging reduces overfitting (variance) by averaging or voting, however, this leads to an increase in bias, which is compensated \n",
    "by the reduction in variance though."
   ]
  },
  {
   "cell_type": "code",
   "execution_count": null,
   "metadata": {},
   "outputs": [],
   "source": [
    "'''\n",
    "How Bagginer Classifer Works\n",
    "\n",
    "    - Bagging resamples the original training dataset with replacement, some instance(or data) may be present multiple times \n",
    "      while others are left out.\n",
    "    \n",
    "    Original training dataset: 1, 2, 3, 4, 5, 6, 7, 8, 9, 10\n",
    "\n",
    "    Resampled training set 1: 2, 3, 3, 5, 6, 1, 8, 10, 9, 1\n",
    "    Resampled training set 2: 1, 1, 5, 6, 3, 8, 9, 10, 2, 7\n",
    "    Resampled training set 3: 1, 5, 8, 9, 2, 10, 9, 7, 5, 4\n",
    "    \n",
    "\n",
    "    Classifier generation:\n",
    "\n",
    "    Let N be the size of the training set.\n",
    "    for each of t iterations:\n",
    "        sample N instances with replacement from the original training set.\n",
    "        apply the learning algorithm to the sample.\n",
    "        store the resulting classifier.\n",
    "\n",
    "    Classification:\n",
    "    for each of the t classifiers:\n",
    "        predict class of instance using classifier.\n",
    "    return class that was predicted most often."
   ]
  },
  {
   "cell_type": "code",
   "execution_count": null,
   "metadata": {},
   "outputs": [],
   "source": []
  },
  {
   "cell_type": "code",
   "execution_count": 5,
   "metadata": {},
   "outputs": [],
   "source": [
    "import warnings\n",
    "warnings.filterwarnings('ignore')"
   ]
  },
  {
   "cell_type": "code",
   "execution_count": 7,
   "metadata": {},
   "outputs": [
    {
     "name": "stdout",
     "output_type": "stream",
     "text": [
      "accuracy : 0.765625\n",
      "\n"
     ]
    }
   ],
   "source": [
    "import numpy as np\n",
    "import pandas as pd\n",
    "from sklearn.tree import DecisionTreeClassifier\n",
    "from sklearn.ensemble import BaggingClassifier\n",
    "from sklearn import model_selection\n",
    "\n",
    "names = ['preg', 'plas', 'pres', 'skin', 'test', 'mass', 'pedi', 'age', 'class']\n",
    "data = pd.read_csv(\"pima-indians-diabetes.csv\",names= names)\n",
    "array = data.values\n",
    "X = array[:,0:8]\n",
    "Y = array[:,8]\n",
    "\n",
    "seed = 8\n",
    "kfold = model_selection.KFold(n_splits = 3,random_state = seed)\n",
    "  \n",
    "# initialize the base classifier\n",
    "base_cls = DecisionTreeClassifier()\n",
    "  \n",
    "# no. of base classifier\n",
    "num_trees = 500\n",
    "  \n",
    "# bagging classifier\n",
    "model = BaggingClassifier(base_estimator = base_cls,n_estimators = num_trees,random_state = seed)\n",
    "  \n",
    "results = model_selection.cross_val_score(model, X, Y, cv = kfold)\n",
    "print(\"accuracy :\",results.mean())"
   ]
  },
  {
   "cell_type": "code",
   "execution_count": null,
   "metadata": {},
   "outputs": [],
   "source": []
  }
 ],
 "metadata": {
  "kernelspec": {
   "display_name": "Python 3",
   "language": "python",
   "name": "python3"
  },
  "language_info": {
   "codemirror_mode": {
    "name": "ipython",
    "version": 3
   },
   "file_extension": ".py",
   "mimetype": "text/x-python",
   "name": "python",
   "nbconvert_exporter": "python",
   "pygments_lexer": "ipython3",
   "version": "3.7.4"
  }
 },
 "nbformat": 4,
 "nbformat_minor": 2
}
