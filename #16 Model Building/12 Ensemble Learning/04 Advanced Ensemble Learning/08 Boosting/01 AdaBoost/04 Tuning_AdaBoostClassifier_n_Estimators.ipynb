{
 "cells": [
  {
   "cell_type": "code",
   "execution_count": 1,
   "metadata": {
    "scrolled": true
   },
   "outputs": [],
   "source": [
    "import numpy as np\n",
    "import matplotlib.pyplot as plt\n",
    "from sklearn.datasets import load_digits\n",
    "from sklearn.ensemble import AdaBoostClassifier\n",
    "from sklearn.model_selection import cross_val_score"
   ]
  },
  {
   "cell_type": "code",
   "execution_count": 2,
   "metadata": {
    "scrolled": true
   },
   "outputs": [],
   "source": [
    "digits = load_digits()\n",
    "\n",
    "nb_classification =100\n",
    "\n",
    "ab_accuracy = []"
   ]
  },
  {
   "cell_type": "code",
   "execution_count": 3,
   "metadata": {
    "scrolled": true
   },
   "outputs": [],
   "source": [
    "for i in range(1,nb_classification):\n",
    "    a = cross_val_score(AdaBoostClassifier(n_estimators=i),digits.data,digits.target,scoring='accuracy',cv=10).mean()\n",
    "    ab_accuracy.append(a)"
   ]
  },
  {
   "cell_type": "code",
   "execution_count": 4,
   "metadata": {
    "scrolled": false
   },
   "outputs": [
    {
     "data": {
      "image/png": "[encoded data removed]",
      "text/plain": [
       "<Figure size 360x360 with 1 Axes>"
      ]
     },
     "metadata": {
      "needs_background": "light"
     },
     "output_type": "display_data"
    },
    {
     "data": {
      "text/plain": [
       "[0.19752562440719945,\n",
       " 0.2748050194654413,\n",
       " 0.2697672547404238,\n",
       " 0.2697672547404238,\n",
       " 0.2697672547404238,\n",
       " 0.27032591395830086,\n",
       " 0.2697672547404238,\n",
       " 0.27032591395830086,\n",
       " 0.27032591395830086,\n",
       " 0.27032591395830086,\n",
       " 0.2703354365586056,\n",
       " 0.27032591395830086,\n",
       " 0.27032591395830086,\n",
       " 0.2697672547404238,\n",
       " 0.27032591395830086,\n",
       " 0.27032591395830086,\n",
       " 0.2697672547404238,\n",
       " 0.27032591395830086,\n",
       " 0.2697672547404238,\n",
       " 0.2697672547404238,\n",
       " 0.27032591395830086,\n",
       " 0.27032591395830086,\n",
       " 0.2703354365586056,\n",
       " 0.27032591395830086,\n",
       " 0.27089409577648266,\n",
       " 0.27032591395830086,\n",
       " 0.27089409577648266,\n",
       " 0.27032591395830086,\n",
       " 0.2697672547404238,\n",
       " 0.27032591395830086,\n",
       " 0.2697672547404238,\n",
       " 0.27032591395830086,\n",
       " 0.27032591395830086,\n",
       " 0.27032591395830086,\n",
       " 0.27089409577648266,\n",
       " 0.2697672547404238,\n",
       " 0.27032591395830086,\n",
       " 0.27032591395830086,\n",
       " 0.2703354365586056,\n",
       " 0.27032591395830086,\n",
       " 0.2697672547404238,\n",
       " 0.2697672547404238,\n",
       " 0.27032591395830086,\n",
       " 0.27032591395830086,\n",
       " 0.2697672547404238,\n",
       " 0.27032591395830086,\n",
       " 0.27089409577648266,\n",
       " 0.2697672547404238,\n",
       " 0.27032591395830086,\n",
       " 0.27032591395830086,\n",
       " 0.27032591395830086,\n",
       " 0.27032591395830086,\n",
       " 0.27032591395830086,\n",
       " 0.27032591395830086,\n",
       " 0.27032591395830086,\n",
       " 0.27032591395830086,\n",
       " 0.27089409577648266,\n",
       " 0.27032591395830086,\n",
       " 0.27089409577648266,\n",
       " 0.27032591395830086,\n",
       " 0.27032591395830086,\n",
       " 0.2697672547404238,\n",
       " 0.27032591395830086,\n",
       " 0.2697672547404238,\n",
       " 0.27089409577648266,\n",
       " 0.27032591395830086,\n",
       " 0.2703354365586056,\n",
       " 0.27032591395830086,\n",
       " 0.27032591395830086,\n",
       " 0.27032591395830086,\n",
       " 0.2697672547404238,\n",
       " 0.27032591395830086,\n",
       " 0.2703354365586056,\n",
       " 0.27032591395830086,\n",
       " 0.27032591395830086,\n",
       " 0.27032591395830086,\n",
       " 0.27032591395830086,\n",
       " 0.27032591395830086,\n",
       " 0.27032591395830086,\n",
       " 0.27032591395830086,\n",
       " 0.27089409577648266,\n",
       " 0.27032591395830086,\n",
       " 0.27032591395830086,\n",
       " 0.2697672547404238,\n",
       " 0.27032591395830086,\n",
       " 0.2697672547404238,\n",
       " 0.27089409577648266,\n",
       " 0.27032591395830086,\n",
       " 0.2697672547404238,\n",
       " 0.27032591395830086,\n",
       " 0.27032591395830086,\n",
       " 0.27032591395830086,\n",
       " 0.27032591395830086,\n",
       " 0.27032591395830086,\n",
       " 0.27032591395830086,\n",
       " 0.27032591395830086,\n",
       " 0.2697672547404238,\n",
       " 0.27032591395830086,\n",
       " 0.2697672547404238]"
      ]
     },
     "execution_count": 4,
     "metadata": {},
     "output_type": "execute_result"
    }
   ],
   "source": [
    " # Show results\n",
    "plt.figure(figsize=(5, 5))\n",
    "plt.xlabel('Number of trees')\n",
    "plt.ylabel('Accuracy')\n",
    "plt.grid(True)\n",
    "plt.plot(ab_accuracy)\n",
    "plt.show()\n",
    "\n",
    "ab_accuracy"
   ]
  },
  {
   "cell_type": "code",
   "execution_count": null,
   "metadata": {
    "scrolled": true
   },
   "outputs": [],
   "source": []
  }
 ],
 "metadata": {
  "kernelspec": {
   "display_name": "Python 3",
   "language": "python",
   "name": "python3"
  },
  "language_info": {
   "codemirror_mode": {
    "name": "ipython",
    "version": 3
   },
   "file_extension": ".py",
   "mimetype": "text/x-python",
   "name": "python",
   "nbconvert_exporter": "python",
   "pygments_lexer": "ipython3",
   "version": "3.7.4"
  }
 },
 "nbformat": 4,
 "nbformat_minor": 2
}
