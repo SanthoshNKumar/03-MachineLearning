{
 "cells": [
  {
   "cell_type": "code",
   "execution_count": null,
   "metadata": {},
   "outputs": [],
   "source": [
    "'''\n",
    "Model averaging is an approach to ensemble learning where each ensemble member contributes an equal amount to the final \n",
    "prediction.\n",
    "\n",
    "Regression : The ensemble prediction is calculated as the average of the member predictions.\n",
    "\n",
    "Classification : The prediction is calculated as the mode of the member predictions. "
   ]
  },
  {
   "cell_type": "code",
   "execution_count": 23,
   "metadata": {},
   "outputs": [],
   "source": [
    "import warnings\n",
    "warnings.filterwarnings('ignore')"
   ]
  },
  {
   "cell_type": "code",
   "execution_count": 24,
   "metadata": {},
   "outputs": [],
   "source": [
    "# compare hard voting to standalone classifiers\n",
    "from sklearn.datasets import make_classification\n",
    "from sklearn.model_selection import train_test_split\n",
    "import pandas as pd\n",
    "\n",
    "# get the dataset\n",
    "X, y = make_classification(n_samples=1000, n_features=20, n_informative=15, n_redundant=5, random_state=2)\n",
    "\n",
    "X_train,X_test,y_train,y_test = train_test_split(X,y,test_size=0.25)"
   ]
  },
  {
   "cell_type": "code",
   "execution_count": 25,
   "metadata": {},
   "outputs": [],
   "source": [
    "#load libraries\n",
    "import pandas as pd\n",
    "import numpy as np\n",
    "#from statistics import *\n",
    "\n",
    "import os\n",
    "from sklearn.ensemble import RandomForestClassifier\n",
    "from sklearn.tree import DecisionTreeClassifier\n",
    "from sklearn.neighbors import KNeighborsClassifier\n",
    "from sklearn.neural_network import MLPClassifier\n",
    "from xgboost import XGBClassifier\n",
    "\n",
    "##### Decision Tree\n",
    "DecisionTree = DecisionTreeClassifier()\n",
    "DecisionTree.fit(X_train, y_train)\n",
    "DecisionTree_pred = DecisionTree.predict(X_test)\n",
    "\n",
    "#make submission table\n",
    "DecisionTreePrediction = pd.DataFrame({'QuoteNumber':'df', 'QuoteConversion_Flag':DecisionTree_pred})\n",
    "\n",
    "#save file\n",
    "DecisionTreePrediction.to_csv('DecisionTree1.csv', index = False)\n",
    "\n",
    "##### KNN\n",
    "KNN = KNeighborsClassifier(n_neighbors=2)\n",
    "KNN.fit(X_train, y_train)\n",
    "KNN_pred = KNN.predict(X_test)\n",
    "#make submission table\n",
    "KNNPrediction = pd.DataFrame({'QuoteNumber':'df', 'QuoteConversion_Flag':KNN_pred})\n",
    "#save file\n",
    "KNNPrediction.to_csv('KNN1.csv', index = False)\n",
    "\n",
    "##### MLPC\n",
    "MLPC = MLPClassifier(random_state=1, max_iter=300)\n",
    "MLPC.fit(X_train, y_train)\n",
    "MLPC_pred = MLPC.predict(X_test)\n",
    "#make submission table\n",
    "MLPCPrediction = pd.DataFrame(\n",
    "  {'QuoteNumber':'df', 'QuoteConversion_Flag':MLPC_pred})\n",
    "#save file\n",
    "MLPCPrediction.to_csv('MLPC1.csv', \n",
    "                      index=False)\n",
    "\n",
    "##### Random Forest\n",
    "RandomForest = RandomForestClassifier()\n",
    "RandomForest.fit(X_train, y_train)\n",
    "RandomForest_pred = RandomForest.predict(X_test)\n",
    "#make submission table\n",
    "RandomForestPrediction = pd.DataFrame({'QuoteNumber':'df', 'QuoteConversion_Flag':RandomForest_pred})\n",
    "#save file\n",
    "RandomForestPrediction.to_csv('RandomForest1.csv', index=False)\n",
    "\n",
    "##### XGB Classifier\n",
    "XGB = XGBClassifier()\n",
    "XGB.fit(X_train, y_train)\n",
    "XGB_pred = XGB.predict(X_test)\n",
    "#make submission table\n",
    "XGBPrediction = pd.DataFrame({'QuoteNumber':'df', 'QuoteConversion_Flag':XGB_pred})\n",
    "#save file\n",
    "XGBPrediction.to_csv('XGB1.csv', index=False)"
   ]
  },
  {
   "cell_type": "code",
   "execution_count": 26,
   "metadata": {},
   "outputs": [],
   "source": [
    "##### AVERAGE\n",
    "average_pred = (XGB_pred + KNN_pred + MLPC_pred + RandomForest_pred + DecisionTree_pred)/5\n",
    "\n",
    "#make submission table\n",
    "FiveModelAveragePrediction = pd.DataFrame({'QuoteNumber':'df', 'QuoteConversion_Flag':average_pred})\n",
    "\n",
    "FiveModelAveragePrediction.to_csv('FiveModelAveragePrediction1.csv',index=False)\n",
    "\n",
    "##### WEIGHTED AVERAGE\n",
    "weighted_average = (0.3*XGB_pred +\n",
    "                    0.2*DecisionTree_pred +\n",
    "                    0.2*RandomForest_pred +\n",
    "                    0.15*MLPC_pred +\n",
    "                    0.15*KNN_pred)\n",
    "\n",
    "#make submission table\n",
    "WeightedAveragePrediction = pd.DataFrame({'QuoteNumber':'df', 'QuoteConversion_Flag':weighted_average})\n",
    "\n",
    "WeightedAveragePrediction.to_csv('WeightedAveragePrediction1.csv',index=False)"
   ]
  },
  {
   "cell_type": "code",
   "execution_count": null,
   "metadata": {},
   "outputs": [],
   "source": []
  }
 ],
 "metadata": {
  "kernelspec": {
   "display_name": "Python 3",
   "language": "python",
   "name": "python3"
  },
  "language_info": {
   "codemirror_mode": {
    "name": "ipython",
    "version": 3
   },
   "file_extension": ".py",
   "mimetype": "text/x-python",
   "name": "python",
   "nbconvert_exporter": "python",
   "pygments_lexer": "ipython3",
   "version": "3.7.4"
  }
 },
 "nbformat": 4,
 "nbformat_minor": 2
}
