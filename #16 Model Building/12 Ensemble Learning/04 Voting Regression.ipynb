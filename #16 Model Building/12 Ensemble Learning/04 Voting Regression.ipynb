{
 "cells": [
  {
   "cell_type": "code",
   "execution_count": null,
   "metadata": {},
   "outputs": [],
   "source": [
    "'''\n",
    "Max Voting:()\n",
    "    - In the case of regression, this involves calculating the average of the predictions from the models"
   ]
  },
  {
   "cell_type": "markdown",
   "metadata": {},
   "source": [
    "### Voting Regression"
   ]
  },
  {
   "cell_type": "code",
   "execution_count": 3,
   "metadata": {},
   "outputs": [
    {
     "name": "stdout",
     "output_type": "stream",
     "text": [
      ">cart1 -161.519 (11.414)\n",
      ">cart2 -152.596 (11.271)\n",
      ">cart3 -142.378 (10.900)\n",
      ">cart4 -140.086 (12.469)\n",
      ">cart5 -137.286 (12.142)\n",
      ">voting -136.354 (11.264)\n"
     ]
    },
    {
     "data": {
      "image/png": "[encoded data removed]",
      "text/plain": [
       "<Figure size 432x288 with 1 Axes>"
      ]
     },
     "metadata": {
      "needs_background": "light"
     },
     "output_type": "display_data"
    }
   ],
   "source": [
    "# compare voting ensemble to each standalone models for regression\n",
    "from numpy import mean\n",
    "from numpy import std\n",
    "from sklearn.datasets import make_regression\n",
    "from sklearn.model_selection import cross_val_score\n",
    "from sklearn.model_selection import RepeatedKFold\n",
    "from sklearn.tree import DecisionTreeRegressor\n",
    "from sklearn.ensemble import VotingRegressor\n",
    "from matplotlib import pyplot\n",
    "\n",
    "# get the dataset\n",
    "def get_dataset():\n",
    "    X, y = make_regression(n_samples=1000, n_features=20, n_informative=15, noise=0.1, random_state=1)\n",
    "    return X, y\n",
    "\n",
    "# get a voting ensemble of models\n",
    "def get_voting():\n",
    "    # define the base models\n",
    "    models = list()\n",
    "    models.append(('cart1', DecisionTreeRegressor(max_depth=1)))\n",
    "    models.append(('cart2', DecisionTreeRegressor(max_depth=2)))\n",
    "    models.append(('cart3', DecisionTreeRegressor(max_depth=3)))\n",
    "    models.append(('cart4', DecisionTreeRegressor(max_depth=4)))\n",
    "    models.append(('cart5', DecisionTreeRegressor(max_depth=5)))\n",
    "    \n",
    "    # define the voting ensemble\n",
    "    ensemble = VotingRegressor(estimators=models)\n",
    "    return ensemble\n",
    "\n",
    "# get a list of models to evaluate\n",
    "def get_models():\n",
    "    models = dict()\n",
    "    models['cart1'] = DecisionTreeRegressor(max_depth=1)\n",
    "    models['cart2'] = DecisionTreeRegressor(max_depth=2)\n",
    "    models['cart3'] = DecisionTreeRegressor(max_depth=3)\n",
    "    models['cart4'] = DecisionTreeRegressor(max_depth=4)\n",
    "    models['cart5'] = DecisionTreeRegressor(max_depth=5)\n",
    "    models['voting'] = get_voting()\n",
    "    return models\n",
    "\n",
    "# evaluate a give model using cross-validation\n",
    "def evaluate_model(model, X, y):\n",
    "    cv = RepeatedKFold(n_splits=10, n_repeats=3, random_state=1)\n",
    "    scores = cross_val_score(model, X, y, scoring='neg_mean_absolute_error', cv=cv, n_jobs=-1, error_score='raise')\n",
    "    return scores\n",
    "\n",
    "# define dataset\n",
    "X, y = get_dataset()\n",
    "# get the models to evaluate\n",
    "models = get_models()\n",
    "# evaluate the models and store results\n",
    "results, names = list(), list()\n",
    "for name, model in models.items():\n",
    "    scores = evaluate_model(model, X, y)\n",
    "    results.append(scores)\n",
    "    names.append(name)\n",
    "    print('>%s %.3f (%.3f)' % (name, mean(scores), std(scores)))\n",
    "# plot model performance for comparison\n",
    "pyplot.boxplot(results, labels=names, showmeans=True)\n",
    "pyplot.show()"
   ]
  },
  {
   "cell_type": "code",
   "execution_count": null,
   "metadata": {},
   "outputs": [],
   "source": []
  },
  {
   "cell_type": "markdown",
   "metadata": {},
   "source": [
    "### Example for Voting Regression"
   ]
  },
  {
   "cell_type": "code",
   "execution_count": 4,
   "metadata": {},
   "outputs": [
    {
     "name": "stdout",
     "output_type": "stream",
     "text": [
      "Predicted Value: 141.319\n"
     ]
    }
   ],
   "source": [
    "# make a prediction with a voting ensemble\n",
    "from sklearn.datasets import make_regression\n",
    "from sklearn.tree import DecisionTreeRegressor\n",
    "from sklearn.ensemble import VotingRegressor\n",
    "\n",
    "# define dataset\n",
    "X, y = make_regression(n_samples=1000, n_features=20, n_informative=15, noise=0.1, random_state=1)\n",
    "\n",
    "# define the base models\n",
    "models = list()\n",
    "models.append(('cart1', DecisionTreeRegressor(max_depth=1)))\n",
    "models.append(('cart2', DecisionTreeRegressor(max_depth=2)))\n",
    "models.append(('cart3', DecisionTreeRegressor(max_depth=3)))\n",
    "models.append(('cart4', DecisionTreeRegressor(max_depth=4)))\n",
    "models.append(('cart5', DecisionTreeRegressor(max_depth=5)))\n",
    "\n",
    "# define the voting ensemble\n",
    "ensemble = VotingRegressor(estimators=models)\n",
    "\n",
    "# fit the model on all available data\n",
    "ensemble.fit(X, y)\n",
    "\n",
    "# make a prediction for one example\n",
    "data = [[0.59332206,-0.56637507,1.34808718,-0.57054047,-0.72480487,1.05648449,0.77744852,0.07361796,\n",
    "         0.88398267,2.02843157,1.01902732,0.11227799,0.94218853,0.26741783,0.91458143,-0.72759572,\n",
    "         1.08842814,-0.61450942,-0.69387293,1.69169009]]\n",
    "\n",
    "yhat = ensemble.predict(data)\n",
    "print('Predicted Value: %.3f' % (yhat))"
   ]
  },
  {
   "cell_type": "code",
   "execution_count": null,
   "metadata": {},
   "outputs": [],
   "source": []
  }
 ],
 "metadata": {
  "kernelspec": {
   "display_name": "Python 3",
   "language": "python",
   "name": "python3"
  },
  "language_info": {
   "codemirror_mode": {
    "name": "ipython",
    "version": 3
   },
   "file_extension": ".py",
   "mimetype": "text/x-python",
   "name": "python",
   "nbconvert_exporter": "python",
   "pygments_lexer": "ipython3",
   "version": "3.7.4"
  }
 },
 "nbformat": 4,
 "nbformat_minor": 2
}
