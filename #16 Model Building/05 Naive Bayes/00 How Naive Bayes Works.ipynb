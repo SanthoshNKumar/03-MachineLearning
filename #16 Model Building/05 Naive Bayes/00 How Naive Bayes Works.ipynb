{
 "cells": [
  {
   "cell_type": "code",
   "execution_count": null,
   "metadata": {},
   "outputs": [],
   "source": [
    "'''\n",
    "Naive Bayes:\n",
    "    - The classifier is called ‘naive’ because it makes assumptions that may or may not turn out to be correct\n",
    "    \n",
    "    - The algorithm assumes that the presence of one feature of a class is not related to the presence of any other \n",
    "      feature (absolute independence of features), given the class variable.\n",
    "      \n",
    "    - Ex: For instance, a fruit may be considered to be a cherry if it is red in color and round in shape, \n",
    "          regardless of other features. This assumption may or may not be right (as an apple also matches the description)."
   ]
  }
 ],
 "metadata": {
  "kernelspec": {
   "display_name": "Python 3",
   "language": "python",
   "name": "python3"
  },
  "language_info": {
   "codemirror_mode": {
    "name": "ipython",
    "version": 3
   },
   "file_extension": ".py",
   "mimetype": "text/x-python",
   "name": "python",
   "nbconvert_exporter": "python",
   "pygments_lexer": "ipython3",
   "version": "3.7.4"
  }
 },
 "nbformat": 4,
 "nbformat_minor": 2
}
