{
 "cells": [
  {
   "cell_type": "markdown",
   "metadata": {},
   "source": [
    "## Compute KNN Manually Using Euclidean Distance"
   ]
  },
  {
   "cell_type": "code",
   "execution_count": 1,
   "metadata": {},
   "outputs": [],
   "source": [
    "import numpy as np\n",
    "import pandas as pd\n",
    "import math"
   ]
  },
  {
   "cell_type": "code",
   "execution_count": 6,
   "metadata": {},
   "outputs": [
    {
     "name": "stdout",
     "output_type": "stream",
     "text": [
      "[[ 1.  12.   0. ]\n",
      " [ 2.   5.   0. ]\n",
      " [ 3.   6.   0. ]\n",
      " [ 3.  10.   0. ]\n",
      " [ 3.5  8.   0. ]\n",
      " [ 2.  11.   0. ]\n",
      " [ 2.   9.   0. ]\n",
      " [ 1.   7.   0. ]\n",
      " [ 5.   3.   1. ]\n",
      " [ 3.   2.   1. ]\n",
      " [ 1.5  9.   1. ]\n",
      " [ 7.   2.   1. ]\n",
      " [ 6.   1.   1. ]\n",
      " [ 3.8  1.   1. ]\n",
      " [ 5.6  4.   1. ]\n",
      " [ 4.   2.   1. ]\n",
      " [ 2.   5.   1. ]]\n",
      "1\n",
      "0\n"
     ]
    }
   ],
   "source": [
    "dataset = np.array(\n",
    "                    [[1,12,0],[2,5,0],[3,6,0],\n",
    "                     [3,10,0],[3.5,8,0],[2,11,0],\n",
    "                     [2,9,0],[1,7,0],[5,3,1],\n",
    "                     [3,2,1],[1.5,9,1],[7,2,1],\n",
    "                     [6,1,1],[3.8,1,1],[5.6,4,1],\n",
    "                     [4,2,1],[2,5,1]])\n",
    "\n",
    "print(dataset)\n",
    "\n",
    "def classifyAPoint(data,points,k):\n",
    "    distance = []\n",
    "    \n",
    "    firstValue = points[0]\n",
    "    secondvalue = points[1]\n",
    "    \n",
    "    len(data)\n",
    "    for i in range(len(data)):\n",
    "        X1 = data[i][0]\n",
    "        \n",
    "        X2 = data[i][1]\n",
    "        classs = data[i][2]\n",
    "\n",
    "        # Find Euclidian Distance\n",
    "        euclidean_distance = np.sqrt(np.square(X1 - firstValue)  + np.square(X2 - secondvalue))\n",
    "        distance.append((euclidean_distance,classs))\n",
    "\n",
    "    distance = sorted(distance)[:k]\n",
    "    \n",
    "    fClass0 =0\n",
    "    fclass1 = 0\n",
    "\n",
    "    for c in distance:\n",
    "        if c[1] == 0:\n",
    "            fClass0 += 1\n",
    "        else:\n",
    "            fclass1 += 1\n",
    "\n",
    "    print(\"1\") if fclass1>fClass0 else print(\"0\")\n",
    "    \n",
    "# Classify the Datapoints 3.8 and 1 with K =3\n",
    "classifyAPoint(dataset,[3.8,1],3)\n",
    "\n",
    "# Classify the Datapoints 3.8 and 1 with K =3\n",
    "classifyAPoint(dataset,[2.5,7],3)"
   ]
  },
  {
   "cell_type": "markdown",
   "metadata": {},
   "source": [
    "### Example 02"
   ]
  },
  {
   "cell_type": "code",
   "execution_count": 7,
   "metadata": {},
   "outputs": [
    {
     "name": "stdout",
     "output_type": "stream",
     "text": [
      "output: = 44.0\n"
     ]
    }
   ],
   "source": [
    "import numpy as np\n",
    "import pandas as pd\n",
    "\n",
    "data = np.array([[5,45,77],[5.11,26,47],[5.6,30,55],\n",
    "                 [5.9,34,59],[4.8,40,72],[5.8,36,60],\n",
    "                 [5.3,19,40],[5.8,28,60],[5.5,23,45],[5.6,32,58]])\n",
    "\n",
    "pd.DataFrame(data,columns=[\"Height\",\"Age\",\"Weight\"])\n",
    "\n",
    "def classifyAPoint(data,height,weight,k):\n",
    "    distance = []\n",
    "    \n",
    "    firstValue = height\n",
    "    secondvalue = weight\n",
    "    \n",
    "    len(data)\n",
    "    for i in range(len(data)):\n",
    "        X1 = data[i][0]\n",
    "        X2 = data[i][1]\n",
    "        labels = data[i][2]\n",
    "        \n",
    "        # Find Euclidian Distance\n",
    "        euclidean_distance = np.sqrt(np.square(X1 - firstValue)  + np.square(X2 - secondvalue))\n",
    "        distance.append((euclidean_distance,labels))\n",
    "        \n",
    "    distance = sorted(distance)[:k]\n",
    "    \n",
    "    sum = 0\n",
    "    \n",
    "    # Take the Agerage of the Labels\n",
    "    for i in range(len(distance)):\n",
    "        sum += distance[i][1]\n",
    "    \n",
    "    # get the Average value\n",
    "    print(\"output: =\",np.divide(sum,k))\n",
    "    \n",
    "classifyAPoint(data,5.50,23,3)"
   ]
  },
  {
   "cell_type": "code",
   "execution_count": null,
   "metadata": {},
   "outputs": [],
   "source": []
  }
 ],
 "metadata": {
  "kernelspec": {
   "display_name": "Python 3",
   "language": "python",
   "name": "python3"
  },
  "language_info": {
   "codemirror_mode": {
    "name": "ipython",
    "version": 3
   },
   "file_extension": ".py",
   "mimetype": "text/x-python",
   "name": "python",
   "nbconvert_exporter": "python",
   "pygments_lexer": "ipython3",
   "version": "3.7.4"
  }
 },
 "nbformat": 4,
 "nbformat_minor": 2
}
