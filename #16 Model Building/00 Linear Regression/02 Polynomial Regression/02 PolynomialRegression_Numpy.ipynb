{
 "cells": [
  {
   "cell_type": "code",
   "execution_count": 7,
   "metadata": {},
   "outputs": [
    {
     "data": {
      "image/png": "[encoded data removed]",
      "text/plain": [
       "<Figure size 432x288 with 1 Axes>"
      ]
     },
     "metadata": {
      "needs_background": "light"
     },
     "output_type": "display_data"
    },
    {
     "name": "stdout",
     "output_type": "stream",
     "text": [
      "Error: 438.0737452632604\n"
     ]
    }
   ],
   "source": [
    "# Import required libraries:\n",
    "import numpy as np\n",
    "import matplotlib.pyplot as plt\n",
    "\n",
    "# Generate datapoints:\n",
    "x = np.arange(-5,5,0.1)\n",
    "y_noise = 20 * np.random.normal(size = len(x))\n",
    "y = 1*(x**3) + 1*(x**2) + 1*x + 3+y_noise\n",
    "plt.scatter(x,y)\n",
    "\n",
    "# Make polynomial data:\n",
    "x1 = x\n",
    "x2 = np.power(x1,2)\n",
    "x3 = np.power(x1,3)\n",
    "n = len(x1)\n",
    "\n",
    "# Reshaping data:\n",
    "x1_new = np.reshape(x1,(n,1))\n",
    "x2_new = np.reshape(x2,(n,1))\n",
    "x3_new = np.reshape(x3,(n,1))\n",
    "\n",
    "# First column of matrix X:\n",
    "x_bias = np.ones((n,1))\n",
    "\n",
    "# Form the complete x matrix:\n",
    "x_new = np.append(x_bias,x1_new,axis=1)\n",
    "x_new = np.append(x_new,x2_new,axis=1)\n",
    "x_new = np.append(x_new,x3_new,axis=1)\n",
    "\n",
    "# Finding transpose:\n",
    "x_new_transpose = np.transpose(x_new)\n",
    "\n",
    "# Finding dot product of original and transposed matrix :\n",
    "x_new_transpose_dot_x_new = x_new_transpose.dot(x_new)\n",
    "\n",
    "# Finding Inverse:\n",
    "temp_1 = np.linalg.inv(x_new_transpose_dot_x_new)# Finding the dot product of transposed x and y :\n",
    "temp_2 = x_new_transpose.dot(y)\n",
    "\n",
    "# Finding coefficients:\n",
    "theta = temp_1.dot(temp_2)\n",
    "theta\n",
    "\n",
    "# Store coefficient values in different variables:\n",
    "beta_0 = theta[0]\n",
    "beta_1 = theta[1]\n",
    "beta_2 = theta[2]\n",
    "beta_3 = theta[3]\n",
    "\n",
    "# Plot the polynomial curve:\n",
    "plt.scatter(x,y)\n",
    "plt.plot(x,beta_0 + beta_1*x1 + beta_2*x2 + beta_3*x3,c=\"blue\",label=\"Fit Line\")\n",
    "plt.legend();plt.xlabel(\"x\");plt.ylabel(\"y\")\n",
    "plt.show()\n",
    "\n",
    "# Prediction function:\n",
    "def prediction(x1,x2,x3,beta_0,beta_1,beta_2,beta_3):\n",
    "  y_pred = beta_0 + beta_1*x1 + beta_2*x2 + beta_3*x3\n",
    "  return y_pred\n",
    " \n",
    "# Making predictions:\n",
    "pred = prediction(x1,x2,x3,beta_0,beta_1,beta_2,beta_3)\n",
    " \n",
    "# Calculate accuracy of model:\n",
    "def err(y_pred,y):\n",
    "  var = (y - y_pred)\n",
    "  var = var*var\n",
    "  n = len(var)\n",
    "  MSE = var.sum()\n",
    "  MSE = MSE/n\n",
    " \n",
    "  return MSE\n",
    " \n",
    "# Calculating the error:\n",
    "error = err(pred,y)\n",
    "print(\"Error:\",error)"
   ]
  },
  {
   "cell_type": "code",
   "execution_count": null,
   "metadata": {},
   "outputs": [],
   "source": []
  }
 ],
 "metadata": {
  "kernelspec": {
   "display_name": "Python 3",
   "language": "python",
   "name": "python3"
  },
  "language_info": {
   "codemirror_mode": {
    "name": "ipython",
    "version": 3
   },
   "file_extension": ".py",
   "mimetype": "text/x-python",
   "name": "python",
   "nbconvert_exporter": "python",
   "pygments_lexer": "ipython3",
   "version": "3.7.4"
  }
 },
 "nbformat": 4,
 "nbformat_minor": 2
}
