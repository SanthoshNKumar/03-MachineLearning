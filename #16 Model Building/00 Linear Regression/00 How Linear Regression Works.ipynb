{
 "cells": [
  {
   "cell_type": "code",
   "execution_count": null,
   "metadata": {},
   "outputs": [],
   "source": [
    "'''\n",
    "Linear Function can be defined as a Mathematical function on a 2D plane as,  Y =Mx +C,\n",
    "\n",
    "Y = dependent variable\n",
    "X = Independent Variable\n",
    "C = Intercept\n",
    "M = slope\n",
    "\n",
    "At any given value of X, one can compute the value of Y, using the equation of Line. \n",
    "\n",
    "This relation between Y and X, with a degree of the polynomial as 1 is called Linear Regression."
   ]
  },
  {
   "cell_type": "code",
   "execution_count": null,
   "metadata": {},
   "outputs": [],
   "source": [
    "'''\n",
    "In Predictive Modeling, LR is represented as Y = Bo + B1x1 + B2x2\n",
    "\n",
    "The value of B1 and B2 determines the strength of the correlation between features and the dependent variable."
   ]
  }
 ],
 "metadata": {
  "kernelspec": {
   "display_name": "Python 3",
   "language": "python",
   "name": "python3"
  },
  "language_info": {
   "codemirror_mode": {
    "name": "ipython",
    "version": 3
   },
   "file_extension": ".py",
   "mimetype": "text/x-python",
   "name": "python",
   "nbconvert_exporter": "python",
   "pygments_lexer": "ipython3",
   "version": "3.7.4"
  }
 },
 "nbformat": 4,
 "nbformat_minor": 2
}
