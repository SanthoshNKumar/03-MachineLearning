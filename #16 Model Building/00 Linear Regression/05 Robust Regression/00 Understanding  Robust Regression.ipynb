{
 "cells": [
  {
   "cell_type": "code",
   "execution_count": null,
   "metadata": {},
   "outputs": [],
   "source": [
    "'''\n",
    "Need of Robust Regression\n",
    "    - Linear regression fits a line or hyperplane that describes the linear relationship between inputs and the \n",
    "      target numeric value.If the data contains outlier values, the line can become biased, resulting in worse predictive \n",
    "      performance.\n",
    "      \n",
    "    - Robust regression refers to a suite of algorithms that are robust in the presence of outliers in training data.\n",
    "\n",
    "*** Note: Linear regression assumes that the data is normally distributed.A specific problem with the probability distribution \n",
    "          of variables when using linear regression is outliers.\n",
    "          \n",
    "          A dataset may have outliers on either the input variables or the target variable, and both can cause problems for a \n",
    "          linear regression algorithm."
   ]
  },
  {
   "cell_type": "code",
   "execution_count": null,
   "metadata": {},
   "outputs": [],
   "source": [
    "'''\n",
    "Some of Robust Regression Algorithms\n",
    "    - Huber Regression\n",
    "    - RANSAC (Random Sample Consensus) Regression\n",
    "    - Theil Sen Regression\n",
    "    - "
   ]
  },
  {
   "cell_type": "code",
   "execution_count": null,
   "metadata": {},
   "outputs": [],
   "source": [
    "'''\n",
    "\n",
    "How Huber Regressor Works\n",
    "\n",
    "Note : \n",
    "    - Here Change in the loss function of the Linear Regression\n",
    "    - Huber loss is a balanced compromise between these two types (MSE and MAE)\n",
    "\n",
    "Huber :(MSE + MAE) based on delta value we chosse either MSE or MAE\n",
    "\n",
    "This function is quadratic(MSE) for small values of a and linear(MAE) for large values, \n",
    "\n",
    "\n",
    "loss = 0.5 * (y - f(x))^2                         if |y - f(x)| <= d\n",
    "\n",
    "loss = 0.5 * d^2 + d * (|y - f(x)| - d)           if |y - f(x)| > d\n",
    "\n",
    "where \n",
    "d is delta (Epsilon value)\n",
    "\n",
    "(y — f(x)) = residuals"
   ]
  },
  {
   "cell_type": "code",
   "execution_count": null,
   "metadata": {},
   "outputs": [],
   "source": [
    "'''\n",
    "How RANSAC(Random Sample Consensus) Works\n",
    "    - Step 1: Randomly select a number of samples to be inliers and fit a model (Linear Regression)\n",
    "    - Step 2: Use the model fitted in the previous step to test all other data points and mark those points as inliers that \n",
    "              fall within a user-given tolerance. Points that are outside the user-given tolerance treated as Outliers.\n",
    "    - Step 3: Refit the model using all inlier points.\n",
    "    - Step 4: Estimate the error of the fitted model versus the inliers.\n",
    "    - Step 5: Terminate the algorithm if the performance meets a certain desired value or if a fixed number of iterations \n",
    "              were reached; else go back to step1."
   ]
  },
  {
   "cell_type": "code",
   "execution_count": null,
   "metadata": {},
   "outputs": [],
   "source": [
    "'''\n",
    "How TheilSen Regressor\n",
    "    - TheilSen regression involves fitting multiple regression models on subsets of the training data and combining the \n",
    "      coefficients together in the end."
   ]
  },
  {
   "cell_type": "code",
   "execution_count": 38,
   "metadata": {},
   "outputs": [
    {
     "name": "stdout",
     "output_type": "stream",
     "text": [
      "(100, 1) (100,)\n"
     ]
    },
    {
     "data": {
      "image/png": "[encoded data removed]",
      "text/plain": [
       "<Figure size 432x288 with 1 Axes>"
      ]
     },
     "metadata": {
      "needs_background": "light"
     },
     "output_type": "display_data"
    }
   ],
   "source": [
    "from random import random\n",
    "from random import randint\n",
    "from random import seed\n",
    "from numpy import absolute\n",
    "from numpy import mean\n",
    "from sklearn.datasets import make_regression\n",
    "from sklearn.linear_model import LinearRegression\n",
    "from sklearn.model_selection import cross_val_score\n",
    "from sklearn.model_selection import RepeatedKFold\n",
    "from matplotlib import pyplot\n",
    "from numpy import std\n",
    "from numpy import arange\n",
    " \n",
    "# prepare the dataset (Includes Outliers)\n",
    "def get_dataset():\n",
    "    X, y = make_regression(n_samples=100, n_features=1, tail_strength=0.9, effective_rank=1, n_informative=1, noise=3, \\\n",
    "                           bias=50, random_state=1)\n",
    "    # add some artificial outliers\n",
    "    seed(1)\n",
    "    for i in range(10):\n",
    "        factor = randint(2, 4)\n",
    "        if random() > 0.5:\n",
    "            X[i] += factor * X.std()\n",
    "        else:\n",
    "            X[i] -= factor * X.std()\n",
    "    return X, y\n",
    "\n",
    "# load dataset\n",
    "X, y = get_dataset()\n",
    "# summarize shape\n",
    "print(X.shape, y.shape)\n",
    "# scatter plot of input vs output\n",
    "pyplot.scatter(X, y)\n",
    "pyplot.show()"
   ]
  },
  {
   "cell_type": "markdown",
   "metadata": {},
   "source": [
    "### 01 Lets Try Linear Regression (not robust)"
   ]
  },
  {
   "cell_type": "code",
   "execution_count": 58,
   "metadata": {},
   "outputs": [
    {
     "data": {
      "image/png": "[encoded data removed]",
      "text/plain": [
       "<Figure size 432x288 with 1 Axes>"
      ]
     },
     "metadata": {
      "needs_background": "light"
     },
     "output_type": "display_data"
    },
    {
     "name": "stdout",
     "output_type": "stream",
     "text": [
      "Mean MAE:5.260342552122636 (1.1486679656152239)\n"
     ]
    }
   ],
   "source": [
    "# load dataset\n",
    "X, y = get_dataset()\n",
    "\n",
    "# define the model\n",
    "model = LinearRegression()\n",
    "\n",
    "# fut the model on all data\n",
    "model.fit(X, y)\n",
    "\n",
    "y_pred = model.predict(X)\n",
    "\n",
    "# plot the dataset\n",
    "pyplot.scatter(X, y)\n",
    "pyplot.plot(X,y_pred,c=\"r\",label='Fit Line')\n",
    "pyplot.legend()\n",
    "pyplot.show()\n",
    "\n",
    "# define model evaluation method\n",
    "cv = RepeatedKFold(n_splits=10, n_repeats=3, random_state=1)\n",
    "\n",
    "# evaluate model\n",
    "results = cross_val_score(model, X, y, scoring='neg_mean_absolute_error', cv=cv, n_jobs=-1)\n",
    "\n",
    "print(\"Mean MAE:{0} ({1})\".format(absolute(mean(results)),absolute(std(results))))\n",
    "\n",
    "# We can see that linear regression achieves a MAE of about 5.2 on this dataset, providing an upper-bound in error."
   ]
  },
  {
   "cell_type": "markdown",
   "metadata": {},
   "source": [
    "### 02 Huber Regressor (Robust)"
   ]
  },
  {
   "cell_type": "code",
   "execution_count": 59,
   "metadata": {},
   "outputs": [
    {
     "data": {
      "image/png": "[encoded data removed]",
      "text/plain": [
       "<Figure size 432x288 with 1 Axes>"
      ]
     },
     "metadata": {
      "needs_background": "light"
     },
     "output_type": "display_data"
    },
    {
     "name": "stdout",
     "output_type": "stream",
     "text": [
      "Mean MAE:4.434727563180386 (1.8678183729099374)\n"
     ]
    }
   ],
   "source": [
    "from sklearn.linear_model import HuberRegressor\n",
    "\n",
    "# load dataset\n",
    "X, y = get_dataset()\n",
    "\n",
    "# define the model\n",
    "model = HuberRegressor()\n",
    "\n",
    "# fut the model on all data\n",
    "model.fit(X, y)\n",
    "\n",
    "y_pred = model.predict(X)\n",
    "\n",
    "# plot the dataset\n",
    "pyplot.scatter(X, y)\n",
    "pyplot.plot(X,y_pred,c=\"r\",label='Fit Line')\n",
    "pyplot.legend()\n",
    "pyplot.show()\n",
    "\n",
    "# define model evaluation method\n",
    "cv = RepeatedKFold(n_splits=10, n_repeats=3, random_state=1)\n",
    "\n",
    "# evaluate model\n",
    "results = cross_val_score(model, X, y, scoring='neg_mean_absolute_error', cv=cv, n_jobs=-1)\n",
    "\n",
    "print(\"Mean MAE:{0} ({1})\".format(absolute(mean(results)),absolute(std(results))))\n",
    "\n",
    "# We can see that Huber regression achieves a MAE of about 4.4 on this dataset, providing an upper-bound in error."
   ]
  },
  {
   "cell_type": "code",
   "execution_count": null,
   "metadata": {},
   "outputs": [],
   "source": []
  },
  {
   "cell_type": "markdown",
   "metadata": {},
   "source": [
    "### 03 RANSAC (Random Sample Consensus) Regression"
   ]
  },
  {
   "cell_type": "code",
   "execution_count": 60,
   "metadata": {},
   "outputs": [
    {
     "data": {
      "image/png": "[encoded data removed]",
      "text/plain": [
       "<Figure size 432x288 with 1 Axes>"
      ]
     },
     "metadata": {
      "needs_background": "light"
     },
     "output_type": "display_data"
    },
    {
     "name": "stdout",
     "output_type": "stream",
     "text": [
      "Mean MAE:4.434436967524124 (2.232717156039595)\n"
     ]
    }
   ],
   "source": [
    "from sklearn.linear_model import RANSACRegressor\n",
    "\n",
    "# load dataset\n",
    "X, y = get_dataset()\n",
    "\n",
    "# define the model\n",
    "model = RANSACRegressor()\n",
    "\n",
    "# fut the model on all data\n",
    "model.fit(X, y)\n",
    "\n",
    "y_pred = model.predict(X)\n",
    "\n",
    "# plot the dataset\n",
    "pyplot.scatter(X, y)\n",
    "pyplot.plot(X,y_pred,c=\"r\",label='Fit Line')\n",
    "pyplot.legend()\n",
    "pyplot.show()\n",
    "\n",
    "# define model evaluation method\n",
    "cv = RepeatedKFold(n_splits=10, n_repeats=3, random_state=1)\n",
    "\n",
    "# evaluate model\n",
    "results = cross_val_score(model, X, y, scoring='neg_mean_absolute_error', cv=cv, n_jobs=-1)\n",
    "\n",
    "print(\"Mean MAE:{0} ({1})\".format(absolute(mean(results)),absolute(std(results))))\n",
    "\n",
    "# We can see that RANSAC regression achieves a MAE of about 4.4 on this dataset, providing an upper-bound in error."
   ]
  },
  {
   "cell_type": "code",
   "execution_count": null,
   "metadata": {},
   "outputs": [],
   "source": []
  },
  {
   "cell_type": "markdown",
   "metadata": {},
   "source": [
    "### 04 Theil Sen Regression"
   ]
  },
  {
   "cell_type": "code",
   "execution_count": 61,
   "metadata": {},
   "outputs": [
    {
     "data": {
      "image/png": "[encoded data removed]",
      "text/plain": [
       "<Figure size 432x288 with 1 Axes>"
      ]
     },
     "metadata": {
      "needs_background": "light"
     },
     "output_type": "display_data"
    },
    {
     "name": "stdout",
     "output_type": "stream",
     "text": [
      "Mean MAE:4.371390239937131 (1.9609733695261808)\n"
     ]
    }
   ],
   "source": [
    "from sklearn.linear_model import TheilSenRegressor\n",
    "\n",
    "# load dataset\n",
    "X, y = get_dataset()\n",
    "\n",
    "# define the model\n",
    "model = TheilSenRegressor()\n",
    "\n",
    "# fut the model on all data\n",
    "model.fit(X, y)\n",
    "\n",
    "y_pred = model.predict(X)\n",
    "\n",
    "# plot the dataset\n",
    "pyplot.scatter(X, y)\n",
    "pyplot.plot(X,y_pred,c=\"r\",label='Fit Line')\n",
    "pyplot.legend()\n",
    "pyplot.show()\n",
    "\n",
    "# define model evaluation method\n",
    "cv = RepeatedKFold(n_splits=10, n_repeats=3, random_state=1)\n",
    "\n",
    "# evaluate model\n",
    "results = cross_val_score(model, X, y, scoring='neg_mean_absolute_error', cv=cv, n_jobs=-1)\n",
    "\n",
    "print(\"Mean MAE:{0} ({1})\".format(absolute(mean(results)),absolute(std(results))))"
   ]
  },
  {
   "cell_type": "code",
   "execution_count": null,
   "metadata": {},
   "outputs": [],
   "source": [
    "'''\n",
    "Observation from above the experiment\n",
    "\n",
    "MAE value achieved for different experiment\n",
    "    - Linear Regression  : 5.2\n",
    "    - HuberRegressor     : 4.434\n",
    "    - RANSACRegressor    : 4.432\n",
    "    - TheilSenRegressor  : 4.371\n",
    "    \n",
    "TheilSenRegressor performing very good than Linear Regression\n",
    "    "
   ]
  }
 ],
 "metadata": {
  "kernelspec": {
   "display_name": "Python 3",
   "language": "python",
   "name": "python3"
  },
  "language_info": {
   "codemirror_mode": {
    "name": "ipython",
    "version": 3
   },
   "file_extension": ".py",
   "mimetype": "text/x-python",
   "name": "python",
   "nbconvert_exporter": "python",
   "pygments_lexer": "ipython3",
   "version": "3.7.4"
  }
 },
 "nbformat": 4,
 "nbformat_minor": 2
}
