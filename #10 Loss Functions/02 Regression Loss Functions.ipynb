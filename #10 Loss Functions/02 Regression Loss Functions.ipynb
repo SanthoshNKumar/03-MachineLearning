{
 "cells": [
  {
   "cell_type": "code",
   "execution_count": 25,
   "metadata": {},
   "outputs": [],
   "source": [
    "import numpy as np\n",
    "import pandas as pd\n",
    "import import_ipynb\n",
    "import matplotlib.pyplot as plt"
   ]
  },
  {
   "cell_type": "code",
   "execution_count": 37,
   "metadata": {},
   "outputs": [],
   "source": [
    "import warnings\n",
    "warnings.filterwarnings('ignore')"
   ]
  },
  {
   "cell_type": "code",
   "execution_count": 38,
   "metadata": {},
   "outputs": [
    {
     "name": "stdout",
     "output_type": "stream",
     "text": [
      "(351, 11)\n"
     ]
    }
   ],
   "source": [
    "data = pd.read_csv(\"data.csv\")\n",
    "\n",
    "print(data.shape)\n",
    "\n",
    "X = data[['','','','']] # data\n",
    "\n",
    "y = data['target']\n",
    "\n",
    "X = (X - np.mean(X))/np.std(X) # Standarize the data"
   ]
  },
  {
   "cell_type": "code",
   "execution_count": 39,
   "metadata": {},
   "outputs": [],
   "source": [
    "def _error(actual, predicted):\n",
    "    '''Simple Error'''\n",
    "    return actual - predicted"
   ]
  },
  {
   "cell_type": "code",
   "execution_count": 40,
   "metadata": {},
   "outputs": [],
   "source": [
    "def mean_error(actual,predicted):\n",
    "    '''mean_error'''\n",
    "    error = np.mean(_error(actual, predicted))\n",
    "    return error"
   ]
  },
  {
   "cell_type": "code",
   "execution_count": 41,
   "metadata": {},
   "outputs": [],
   "source": [
    "def mean_absolute_error(actual,predicted):\n",
    "    '''Mean Absolte Error'''\n",
    "#   error = mean_absolute_error(actual,predicted)\n",
    "    error = np.mean(np.abs(_error(actual, predicted)))\n",
    "    return error"
   ]
  },
  {
   "cell_type": "code",
   "execution_count": 42,
   "metadata": {},
   "outputs": [],
   "source": [
    "def mean_squared_error(actual,predicted):\n",
    "    '''Mean Squared Error'''\n",
    "    #error = mean_squared_error(actual,predicted)\n",
    "    error = np.mean(np.square(_error(actual, predicted)))\n",
    "    return error"
   ]
  },
  {
   "cell_type": "code",
   "execution_count": 43,
   "metadata": {},
   "outputs": [],
   "source": [
    "def root_mean_squared_error(actual,predicted):\n",
    "    '''Root Mean Squared Error'''\n",
    "    error = np.sqrt(mean_squared_error(actual,predicted))\n",
    "    return error"
   ]
  },
  {
   "cell_type": "code",
   "execution_count": 44,
   "metadata": {},
   "outputs": [],
   "source": [
    "def normalize_root_mean_absolute_error(actual,predicted):\n",
    "    '''Normalized Root Mean Squared Error '''\n",
    "    error = root_mean_squared_error(actual, predicted) / (actual.max() - actual.min())\n",
    "    return error"
   ]
  },
  {
   "cell_type": "code",
   "execution_count": 45,
   "metadata": {},
   "outputs": [],
   "source": [
    "def median_absolute_error(actual,predicted):\n",
    "    '''Median Absolute Error'''\n",
    "    error = np.median(np.abs(_error(actual, predicted)))\n",
    "    return error"
   ]
  },
  {
   "cell_type": "code",
   "execution_count": 46,
   "metadata": {},
   "outputs": [],
   "source": [
    "def compute_error(actual,predicted,loss_function):\n",
    "    error = 0\n",
    "    if loss_function == 'mse':\n",
    "        error = mean_squared_error(actual,predicted)\n",
    "    elif loss_function == 'mae':\n",
    "        error = mean_absolute_error(actual,predicted)\n",
    "    elif loss_function == 'me':\n",
    "        error = mean_error(actual,predicted)\n",
    "    elif loss_function == 'rmse':\n",
    "        error = root_mean_squared_error(actual,predicted)\n",
    "    elif loss_function == 'nmae':\n",
    "        error = normalize_root_mean_absolute_error(actual,predicted)\n",
    "    elif loss_function == 'median absolute error':\n",
    "        error = median_absolute_error(actual,predicted)\n",
    "    return error"
   ]
  },
  {
   "cell_type": "code",
   "execution_count": 47,
   "metadata": {},
   "outputs": [],
   "source": [
    "def get_Loss(X,y,learning_rate,loss_function):\n",
    "    \n",
    "    m = len(y) \n",
    "    ones = np.ones((m,1))\n",
    "    X = np.hstack((ones, X))\n",
    "\n",
    "    y = y[:,np.newaxis]\n",
    "\n",
    "    theta = np.zeros(( X.shape[1],1))\n",
    "    iteration = 1000\n",
    "\n",
    "    loss = []\n",
    "    iterations = []\n",
    "    r2score = []\n",
    "\n",
    "    y_predicted = np.dot(X, theta)\n",
    "    \n",
    "    for i in range(iteration):\n",
    "        y_predicted = np.dot(X, theta)\n",
    "\n",
    "        error = compute_error(y_predicted,y,loss_function)\n",
    "\n",
    "        loss.append(error)\n",
    "\n",
    "        iterations.append(i)\n",
    "\n",
    "        temp = y_predicted - y\n",
    "\n",
    "        temp = np.dot(X.T, temp)\n",
    "\n",
    "        theta = theta - (learning_rate / m) * temp\n",
    "    \n",
    "    return iterations,loss"
   ]
  },
  {
   "cell_type": "code",
   "execution_count": 48,
   "metadata": {},
   "outputs": [
    {
     "data": {
      "text/plain": [
       "Text(0.5, 1.0, 'Error Function: MSE')"
      ]
     },
     "execution_count": 48,
     "metadata": {},
     "output_type": "execute_result"
    },
    {
     "data": {
      "image/png": "[encoded data removed]",
      "text/plain": [
       "<Figure size 432x288 with 1 Axes>"
      ]
     },
     "metadata": {
      "needs_background": "light"
     },
     "output_type": "display_data"
    }
   ],
   "source": [
    "X = data[['','','']]\n",
    "\n",
    "y = data['1CS']\n",
    "\n",
    "X = (X - np.mean(X))/np.std(X) # Standarize the data\n",
    "\n",
    "iterations,loss = get_Loss(X,y,0.01,'mse')\n",
    "\n",
    "plt.scatter(iterations,loss)\n",
    "plt.xlabel(\"Iterations\")\n",
    "plt.ylabel(\"Loss\")\n",
    "plt.title(\"Error Function: MSE\")"
   ]
  },
  {
   "cell_type": "code",
   "execution_count": 49,
   "metadata": {},
   "outputs": [
    {
     "data": {
      "text/plain": [
       "Text(0.5, 1.0, 'Error Function: MAE')"
      ]
     },
     "execution_count": 49,
     "metadata": {},
     "output_type": "execute_result"
    },
    {
     "data": {
      "image/png": "[encoded data removed]",
      "text/plain": [
       "<Figure size 432x288 with 1 Axes>"
      ]
     },
     "metadata": {
      "needs_background": "light"
     },
     "output_type": "display_data"
    }
   ],
   "source": [
    "iterations,loss = get_Loss(X,y,0.01,'mae')\n",
    "\n",
    "plt.scatter(iterations,loss)\n",
    "plt.xlabel(\"Iterations\")\n",
    "plt.ylabel(\"Loss\")\n",
    "plt.title(\"Error Function: MAE\")"
   ]
  },
  {
   "cell_type": "code",
   "execution_count": 50,
   "metadata": {},
   "outputs": [
    {
     "data": {
      "text/plain": [
       "Text(0.5, 1.0, 'Error Function: Mean Error')"
      ]
     },
     "execution_count": 50,
     "metadata": {},
     "output_type": "execute_result"
    },
    {
     "data": {
      "image/png": "[encoded data removed]",
      "text/plain": [
       "<Figure size 432x288 with 1 Axes>"
      ]
     },
     "metadata": {
      "needs_background": "light"
     },
     "output_type": "display_data"
    }
   ],
   "source": [
    "iterations,loss = get_Loss(X,y,0.01,'me')\n",
    "\n",
    "plt.scatter(iterations,loss)\n",
    "plt.xlabel(\"Iterations\")\n",
    "plt.ylabel(\"Loss\")\n",
    "plt.title(\"Error Function: Mean Error\")"
   ]
  },
  {
   "cell_type": "code",
   "execution_count": 51,
   "metadata": {},
   "outputs": [
    {
     "data": {
      "text/plain": [
       "Text(0.5, 1.0, 'Error Function: RMSE')"
      ]
     },
     "execution_count": 51,
     "metadata": {},
     "output_type": "execute_result"
    },
    {
     "data": {
      "image/png": "[encoded data removed]",
      "text/plain": [
       "<Figure size 432x288 with 1 Axes>"
      ]
     },
     "metadata": {
      "needs_background": "light"
     },
     "output_type": "display_data"
    }
   ],
   "source": [
    "iterations,loss = get_Loss(X,y,0.01,'rmse')\n",
    "\n",
    "plt.scatter(iterations,loss)\n",
    "plt.xlabel(\"Iterations\")\n",
    "plt.ylabel(\"Loss\")\n",
    "plt.title(\"Error Function: RMSE\")"
   ]
  },
  {
   "cell_type": "code",
   "execution_count": 52,
   "metadata": {},
   "outputs": [
    {
     "data": {
      "text/plain": [
       "Text(0.5, 1.0, 'Error Function: Normalized Root Mean Squared Error')"
      ]
     },
     "execution_count": 52,
     "metadata": {},
     "output_type": "execute_result"
    },
    {
     "data": {
      "image/png": "[encoded data removed]",
      "text/plain": [
       "<Figure size 432x288 with 1 Axes>"
      ]
     },
     "metadata": {
      "needs_background": "light"
     },
     "output_type": "display_data"
    }
   ],
   "source": [
    "iterations,loss = get_Loss(X,y,0.01,'nmae')\n",
    "\n",
    "plt.scatter(iterations,loss)\n",
    "plt.xlabel(\"Iterations\")\n",
    "plt.ylabel(\"Loss\")\n",
    "plt.title(\"Error Function: Normalized Root Mean Squared Error\")"
   ]
  },
  {
   "cell_type": "code",
   "execution_count": 53,
   "metadata": {},
   "outputs": [
    {
     "data": {
      "text/plain": [
       "Text(0.5, 1.0, 'Error Function: median absolute error')"
      ]
     },
     "execution_count": 53,
     "metadata": {},
     "output_type": "execute_result"
    },
    {
     "data": {
      "image/png": "[encoded data removed]",
      "text/plain": [
       "<Figure size 432x288 with 1 Axes>"
      ]
     },
     "metadata": {
      "needs_background": "light"
     },
     "output_type": "display_data"
    }
   ],
   "source": [
    "iterations,loss = get_Loss(X,y,0.01,'median absolute error')\n",
    "\n",
    "plt.scatter(iterations,loss)\n",
    "plt.xlabel(\"Iterations\")\n",
    "plt.ylabel(\"Loss\")\n",
    "plt.title(\"Error Function: median absolute error\")"
   ]
  }
 ],
 "metadata": {
  "kernelspec": {
   "display_name": "Python 3",
   "language": "python",
   "name": "python3"
  },
  "language_info": {
   "codemirror_mode": {
    "name": "ipython",
    "version": 3
   },
   "file_extension": ".py",
   "mimetype": "text/x-python",
   "name": "python",
   "nbconvert_exporter": "python",
   "pygments_lexer": "ipython3",
   "version": "3.7.4"
  }
 },
 "nbformat": 4,
 "nbformat_minor": 2
}
