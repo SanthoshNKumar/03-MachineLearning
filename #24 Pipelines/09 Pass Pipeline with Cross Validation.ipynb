{
 "cells": [
  {
   "cell_type": "code",
   "execution_count": 4,
   "metadata": {},
   "outputs": [],
   "source": [
    "import warnings\n",
    "warnings.filterwarnings('ignore')"
   ]
  },
  {
   "cell_type": "code",
   "execution_count": 5,
   "metadata": {},
   "outputs": [
    {
     "name": "stdout",
     "output_type": "stream",
     "text": [
      "Cross-validation score:\n",
      "0.9638299193047797\n"
     ]
    }
   ],
   "source": [
    "from sklearn.datasets import load_digits\n",
    "\n",
    "from sklearn.decomposition import PCA\n",
    "from sklearn.feature_selection import SelectKBest, f_classif\n",
    "from sklearn.model_selection import cross_val_score\n",
    "from sklearn.pipeline import Pipeline, FeatureUnion\n",
    "from sklearn.preprocessing import StandardScaler\n",
    "from sklearn.svm import SVC\n",
    "\n",
    "# For reproducibility\n",
    "np.random.seed(1000)\n",
    "\n",
    "# Load the dataset\n",
    "digits = load_digits()\n",
    "\n",
    "# Create the steps for a feature union\n",
    "steps_fu = [('pca', PCA(n_components=10)),('kbest', SelectKBest(f_classif, k=5)),]\n",
    "\n",
    "# Create the steps for the pipeline\n",
    "fu = FeatureUnion(steps_fu)\n",
    "scaler = StandardScaler()\n",
    "svc = SVC(kernel='rbf', C=5.0, gamma=0.05)\n",
    "\n",
    "pipeline_steps = [('fu', fu),('scaler', scaler),('classifier', svc)]\n",
    "\n",
    "pipeline = Pipeline(pipeline_steps)\n",
    "\n",
    "print('Cross-validation score:')\n",
    "print(cross_val_score(pipeline, digits.data, digits.target, cv=10).mean())"
   ]
  },
  {
   "cell_type": "code",
   "execution_count": null,
   "metadata": {},
   "outputs": [],
   "source": []
  }
 ],
 "metadata": {
  "kernelspec": {
   "display_name": "Python 3",
   "language": "python",
   "name": "python3"
  },
  "language_info": {
   "codemirror_mode": {
    "name": "ipython",
    "version": 3
   },
   "file_extension": ".py",
   "mimetype": "text/x-python",
   "name": "python",
   "nbconvert_exporter": "python",
   "pygments_lexer": "ipython3",
   "version": "3.7.4"
  }
 },
 "nbformat": 4,
 "nbformat_minor": 2
}
