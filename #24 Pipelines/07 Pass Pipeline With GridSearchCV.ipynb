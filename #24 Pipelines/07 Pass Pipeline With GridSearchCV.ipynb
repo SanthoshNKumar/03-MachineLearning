{
 "cells": [
  {
   "cell_type": "code",
   "execution_count": 1,
   "metadata": {},
   "outputs": [],
   "source": [
    "import numpy as np\n",
    "import warnings\n",
    "\n",
    "from sklearn.datasets import load_digits\n",
    "from sklearn.decomposition import PCA, NMF\n",
    "from sklearn.feature_selection import SelectKBest, f_classif\n",
    "from sklearn.linear_model import LogisticRegression\n",
    "from sklearn.model_selection import GridSearchCV\n",
    "from sklearn.pipeline import Pipeline\n",
    "from sklearn.preprocessing import StandardScaler\n",
    "from sklearn.svm import SVC\n"
   ]
  },
  {
   "cell_type": "code",
   "execution_count": 4,
   "metadata": {},
   "outputs": [],
   "source": [
    "np.random.seed(1000)\n",
    "\n",
    "# Load the dataset\n",
    "digits = load_digits()"
   ]
  },
  {
   "cell_type": "code",
   "execution_count": 5,
   "metadata": {},
   "outputs": [],
   "source": [
    "# Create the steps for the pipeline\n",
    "pca = PCA()\n",
    "nmf = NMF()\n",
    "scaler = StandardScaler()\n",
    "kbest = SelectKBest(f_classif)\n",
    "lr = LogisticRegression()\n",
    "svc = SVC()"
   ]
  },
  {
   "cell_type": "code",
   "execution_count": 6,
   "metadata": {},
   "outputs": [],
   "source": [
    "pipeline_steps = [\n",
    "                    ('dimensionality_reduction', pca),\n",
    "                    ('normalization', scaler),\n",
    "                    ('classification', lr)\n",
    "                ]\n"
   ]
  },
  {
   "cell_type": "code",
   "execution_count": 7,
   "metadata": {},
   "outputs": [],
   "source": [
    "# Create the pipeline\n",
    "pipeline = Pipeline(pipeline_steps)"
   ]
  },
  {
   "cell_type": "code",
   "execution_count": 8,
   "metadata": {},
   "outputs": [],
   "source": [
    "# Perform a grid search\n",
    "pca_nmf_components = [10, 20, 30]\n"
   ]
  },
  {
   "cell_type": "code",
   "execution_count": 11,
   "metadata": {},
   "outputs": [],
   "source": [
    "param_grid = [\n",
    "        {\n",
    "            'dimensionality_reduction': [pca],\n",
    "            'dimensionality_reduction__n_components': pca_nmf_components,\n",
    "            'classification': [lr],\n",
    "            'classification__C': [1, 5, 10, 20]\n",
    "        },\n",
    "    \n",
    "        {\n",
    "            'dimensionality_reduction': [pca],\n",
    "            'dimensionality_reduction__n_components': pca_nmf_components,\n",
    "            'classification': [svc],\n",
    "            'classification__kernel': ['rbf', 'poly'],\n",
    "            'classification__gamma': [0.05, 0.1, 0.2, 0.5, 1.0],\n",
    "            'classification__degree': [2, 3, 5],\n",
    "            'classification__C': [1, 5, 10, 20]\n",
    "        },\n",
    "    \n",
    "        {\n",
    "            'dimensionality_reduction': [nmf],\n",
    "            'dimensionality_reduction__n_components': pca_nmf_components,\n",
    "            'classification': [lr],\n",
    "            'classification__C': [1, 5, 10, 20]\n",
    "        },\n",
    "    \n",
    "        {\n",
    "            'dimensionality_reduction': [nmf],\n",
    "            'dimensionality_reduction__n_components': pca_nmf_components,\n",
    "            'classification': [svc],\n",
    "            'classification__kernel': ['rbf', 'poly'],\n",
    "            'classification__gamma': [0.05, 0.1, 0.2, 0.5, 1.0],\n",
    "            'classification__degree': [2, 3, 5],\n",
    "            'classification__C': [1, 5, 10, 20]\n",
    "        },\n",
    "    \n",
    "        {\n",
    "            'dimensionality_reduction': [kbest],\n",
    "            'classification': [svc],\n",
    "            'classification__kernel': ['rbf', 'poly'],\n",
    "            'classification__gamma': [0.05, 0.1, 0.2, 0.5, 1.0],\n",
    "            'classification__degree': [2, 3, 5],\n",
    "            'classification__C': [1, 5, 10, 20]\n",
    "        },\n",
    "            ]\n",
    "    \n",
    "    "
   ]
  },
  {
   "cell_type": "code",
   "execution_count": null,
   "metadata": {},
   "outputs": [],
   "source": [
    "gs = GridSearchCV(pipeline, param_grid)\n",
    "gs.fit(digits.data, digits.target)"
   ]
  },
  {
   "cell_type": "code",
   "execution_count": null,
   "metadata": {},
   "outputs": [],
   "source": [
    "print('Best estimator:')\n",
    "print(gs.best_estimator_)\n",
    "\n",
    "print('Best score:')\n",
    "print(gs.best_score_)"
   ]
  },
  {
   "cell_type": "code",
   "execution_count": null,
   "metadata": {},
   "outputs": [],
   "source": []
  }
 ],
 "metadata": {
  "kernelspec": {
   "display_name": "Python 3",
   "language": "python",
   "name": "python3"
  },
  "language_info": {
   "codemirror_mode": {
    "name": "ipython",
    "version": 3
   },
   "file_extension": ".py",
   "mimetype": "text/x-python",
   "name": "python",
   "nbconvert_exporter": "python",
   "pygments_lexer": "ipython3",
   "version": "3.7.4"
  }
 },
 "nbformat": 4,
 "nbformat_minor": 2
}
