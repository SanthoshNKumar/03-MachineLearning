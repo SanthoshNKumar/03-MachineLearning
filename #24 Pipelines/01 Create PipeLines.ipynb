{
 "cells": [
  {
   "cell_type": "code",
   "execution_count": 8,
   "metadata": {},
   "outputs": [],
   "source": [
    "import numpy as np\n",
    "import matplotlib.pyplot as plt\n",
    "from sklearn.preprocessing import StandardScaler"
   ]
  },
  {
   "cell_type": "code",
   "execution_count": 12,
   "metadata": {},
   "outputs": [],
   "source": [
    "import warnings\n",
    "warnings.filterwarnings('ignore')"
   ]
  },
  {
   "cell_type": "code",
   "execution_count": 13,
   "metadata": {},
   "outputs": [
    {
     "data": {
      "text/plain": [
       "<matplotlib.collections.PathCollection at 0x1d1150d6dc8>"
      ]
     },
     "execution_count": 13,
     "metadata": {},
     "output_type": "execute_result"
    },
    {
     "data": {
      "image/png": "[encoded data removed]",
      "text/plain": [
       "<Figure size 504x360 with 1 Axes>"
      ]
     },
     "metadata": {
      "needs_background": "light"
     },
     "output_type": "display_data"
    }
   ],
   "source": [
    "# 01\n",
    "\n",
    "from sklearn.datasets import load_iris\n",
    "iris = load_iris()\n",
    "iris_X = iris.data\n",
    "y = iris.target\n",
    "\n",
    "from sklearn.decomposition import PCA\n",
    "from sklearn.pipeline import Pipeline\n",
    "\n",
    "# Create Pipeline '1.Standard Scaler'--> '2. PCA'\n",
    "pipe = Pipeline([('scaler',StandardScaler()),('pca',PCA(n_components=2))])\n",
    "iris_x_scaled = pipe.fit_transform(iris_X)\n",
    "\n",
    "fig,ax = plt.subplots(1,1,figsize=(7,5))\n",
    "ax.scatter(iris_x_scaled[:,0],iris_x_scaled[:,1],c=y)"
   ]
  },
  {
   "cell_type": "code",
   "execution_count": null,
   "metadata": {},
   "outputs": [],
   "source": []
  },
  {
   "cell_type": "markdown",
   "metadata": {},
   "source": [
    "### FeatureUnion : Concatenates results of multiple transformer objects."
   ]
  },
  {
   "cell_type": "code",
   "execution_count": 14,
   "metadata": {},
   "outputs": [
    {
     "name": "stdout",
     "output_type": "stream",
     "text": [
      "Cross-validation score:\n",
      "0.9638299193047797\n"
     ]
    }
   ],
   "source": [
    "from sklearn.datasets import load_digits\n",
    "\n",
    "from sklearn.decomposition import PCA\n",
    "from sklearn.feature_selection import SelectKBest, f_classif\n",
    "from sklearn.model_selection import cross_val_score\n",
    "from sklearn.pipeline import Pipeline, FeatureUnion\n",
    "from sklearn.preprocessing import StandardScaler\n",
    "from sklearn.svm import SVC\n",
    "\n",
    "# For reproducibility\n",
    "np.random.seed(1000)\n",
    "\n",
    "# Load the dataset\n",
    "digits = load_digits()\n",
    "\n",
    "# Create the steps for a feature union\n",
    "steps_fu = [('pca', PCA(n_components=10)),('kbest', SelectKBest(f_classif, k=5)),]\n",
    "\n",
    "# Create the steps for the pipeline\n",
    "fu = FeatureUnion(steps_fu)\n",
    "scaler = StandardScaler()\n",
    "svc = SVC(kernel='rbf', C=5.0, gamma=0.05)\n",
    "\n",
    "pipeline_steps = [('fu', fu),('scaler', scaler),('classifier', svc)]\n",
    "\n",
    "pipeline = Pipeline(pipeline_steps)\n",
    "\n",
    "print('Cross-validation score:')\n",
    "print(cross_val_score(pipeline, digits.data, digits.target, cv=10).mean())"
   ]
  },
  {
   "cell_type": "code",
   "execution_count": null,
   "metadata": {},
   "outputs": [],
   "source": []
  },
  {
   "cell_type": "markdown",
   "metadata": {},
   "source": [
    "### 'fit_transform ' 'get Steps' 'make_pipeline'  and 'set_params' in Pipeline"
   ]
  },
  {
   "cell_type": "code",
   "execution_count": 32,
   "metadata": {},
   "outputs": [
    {
     "name": "stdout",
     "output_type": "stream",
     "text": [
      "[[5.1 nan nan 0.2]\n",
      " [4.9 nan 1.4 nan]\n",
      " [4.7 nan 1.3 0.2]\n",
      " [4.6 nan 1.5 0.2]\n",
      " [5.  nan 1.4 0.2]]\n",
      "\n",
      "\n",
      "[('simpleimputer', SimpleImputer()), ('pca', PCA())]\n",
      "[[-0.49135496  0.94950545  0.44169988  0.02481858]\n",
      " [-2.36991636 -0.26508805 -0.68218967 -0.02251924]\n",
      " [-2.79267347  0.26536097 -0.01596212 -0.12953852]\n",
      " [-2.64540213  0.42508613 -0.04231416 -0.08366266]\n",
      " [-2.60537126  0.07415532  0.13976445 -0.19362844]]\n",
      "\n",
      "\n",
      "[[-0.49135496  0.94950545]\n",
      " [-2.36991636 -0.26508805]\n",
      " [-2.79267347  0.26536097]\n",
      " [-2.64540213  0.42508613]\n",
      " [-2.60537126  0.07415532]]\n"
     ]
    }
   ],
   "source": [
    "import numpy as np\n",
    "from sklearn.datasets import load_iris\n",
    "\n",
    "iris = load_iris()\n",
    "\n",
    "iris_data = iris.data\n",
    "mask = np.random.binomial(1,.25,iris_data.shape).astype(bool)\n",
    "\n",
    "iris_data[mask] = np.nan\n",
    "\n",
    "print(iris_data[:5])\n",
    "\n",
    "from sklearn import pipeline,preprocessing,decomposition\n",
    "from sklearn.impute import SimpleImputer\n",
    "\n",
    "#************************************************************\n",
    "\n",
    "pca = decomposition.PCA()\n",
    "imputer = SimpleImputer(missing_values=np.nan, strategy='mean')\n",
    "\n",
    "pipe = pipeline.Pipeline([('imputer',imputer),('pca',pca)])\n",
    "\n",
    "iris_data_transfored = pipe.fit_transform(iris_data)\n",
    "iris_data_transfored[:5]\n",
    "\n",
    "print(\"\\n\")\n",
    "\n",
    "#**************************************************************\n",
    "# Create New PipeLine\n",
    "pipe2 = pipeline.make_pipeline(imputer, pca)\n",
    "print(pipe2.steps)\n",
    "\n",
    "iris_data_transformed2 = pipe2.fit_transform(iris_data)\n",
    "print(iris_data_transformed2[:5])\n",
    "\n",
    "# Set Parameter\n",
    "pipe2.set_params(pca__n_components=2)\n",
    "\n",
    "#************************************************************\n",
    "print(\"\\n\")\n",
    "\n",
    "# Transofr\n",
    "iris_data_transformed3 = pipe2.fit_transform(iris_data)\n",
    "print(iris_data_transformed3[:5])"
   ]
  }
 ],
 "metadata": {
  "kernelspec": {
   "display_name": "Python 3",
   "language": "python",
   "name": "python3"
  },
  "language_info": {
   "codemirror_mode": {
    "name": "ipython",
    "version": 3
   },
   "file_extension": ".py",
   "mimetype": "text/x-python",
   "name": "python",
   "nbconvert_exporter": "python",
   "pygments_lexer": "ipython3",
   "version": "3.7.4"
  }
 },
 "nbformat": 4,
 "nbformat_minor": 2
}
